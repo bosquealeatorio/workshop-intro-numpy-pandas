{
 "cells": [
  {
   "cell_type": "markdown",
   "metadata": {},
   "source": [
    "# getting started with numpy"
   ]
  },
  {
   "cell_type": "markdown",
   "metadata": {},
   "source": [
    "**Aditional resources:**\n",
    "\n",
    "* Python Data Science Handbook: https://jakevdp.github.io/PythonDataScienceHandbook/\n",
    "* Numpy quickstart tutorial: https://numpy.org/doc/stable/user/quickstart.html"
   ]
  },
  {
   "cell_type": "markdown",
   "metadata": {},
   "source": [
    "<img src = \"https://images-cdn.9gag.com/photo/aXYdEYV_460s.jpg\">"
   ]
  },
  {
   "cell_type": "markdown",
   "metadata": {},
   "source": [
    "# libraries"
   ]
  },
  {
   "cell_type": "code",
   "execution_count": 1,
   "metadata": {},
   "outputs": [
    {
     "name": "stderr",
     "output_type": "stream",
     "text": [
      "/Users/manuel/opt/anaconda3/lib/python3.7/site-packages/statsmodels/tools/_testing.py:19: FutureWarning: pandas.util.testing is deprecated. Use the functions in the public API at pandas.testing instead.\n",
      "  import pandas.util.testing as tm\n"
     ]
    }
   ],
   "source": [
    "import numpy\n",
    "\n",
    "import seaborn\n",
    "import matplotlib.pyplot as plt\n",
    "\n",
    "import time\n",
    "import sys\n",
    "import os"
   ]
  },
  {
   "cell_type": "code",
   "execution_count": 2,
   "metadata": {},
   "outputs": [
    {
     "data": {
      "text/plain": [
       "'1.17.2'"
      ]
     },
     "execution_count": 2,
     "metadata": {},
     "output_type": "execute_result"
    }
   ],
   "source": [
    "numpy.__version__"
   ]
  },
  {
   "cell_type": "markdown",
   "metadata": {},
   "source": [
    "# python lists and numpy arrays"
   ]
  },
  {
   "cell_type": "code",
   "execution_count": 3,
   "metadata": {},
   "outputs": [],
   "source": [
    "python_list = [56,  69,  88,  67, 113,  96,  73,  83, 172, 173]\n",
    "\n",
    "numpy_array = numpy.array(python_list)\n",
    "\n",
    "numpy_array_float = numpy.array(python_list, dtype = 'float')"
   ]
  },
  {
   "cell_type": "code",
   "execution_count": 4,
   "metadata": {},
   "outputs": [
    {
     "data": {
      "text/plain": [
       "[56, 69, 88, 67, 113, 96, 73, 83, 172, 173]"
      ]
     },
     "execution_count": 4,
     "metadata": {},
     "output_type": "execute_result"
    }
   ],
   "source": [
    "python_list"
   ]
  },
  {
   "cell_type": "code",
   "execution_count": 5,
   "metadata": {},
   "outputs": [
    {
     "data": {
      "text/plain": [
       "array([ 56,  69,  88,  67, 113,  96,  73,  83, 172, 173])"
      ]
     },
     "execution_count": 5,
     "metadata": {},
     "output_type": "execute_result"
    }
   ],
   "source": [
    "numpy_array"
   ]
  },
  {
   "cell_type": "code",
   "execution_count": 6,
   "metadata": {},
   "outputs": [
    {
     "data": {
      "text/plain": [
       "array([ 56.,  69.,  88.,  67., 113.,  96.,  73.,  83., 172., 173.])"
      ]
     },
     "execution_count": 6,
     "metadata": {},
     "output_type": "execute_result"
    }
   ],
   "source": [
    "numpy_array_float"
   ]
  },
  {
   "cell_type": "code",
   "execution_count": 7,
   "metadata": {},
   "outputs": [
    {
     "data": {
      "text/plain": [
       "list"
      ]
     },
     "execution_count": 7,
     "metadata": {},
     "output_type": "execute_result"
    }
   ],
   "source": [
    "type(python_list)"
   ]
  },
  {
   "cell_type": "code",
   "execution_count": 8,
   "metadata": {},
   "outputs": [
    {
     "data": {
      "text/plain": [
       "(numpy.ndarray, numpy.ndarray)"
      ]
     },
     "execution_count": 8,
     "metadata": {},
     "output_type": "execute_result"
    }
   ],
   "source": [
    "type(numpy_array), type(numpy_array_float)"
   ]
  },
  {
   "cell_type": "markdown",
   "metadata": {},
   "source": [
    "*First element of each collection*"
   ]
  },
  {
   "cell_type": "code",
   "execution_count": 9,
   "metadata": {},
   "outputs": [
    {
     "data": {
      "text/plain": [
       "(56, 56, 56.0)"
      ]
     },
     "execution_count": 9,
     "metadata": {},
     "output_type": "execute_result"
    }
   ],
   "source": [
    "python_list[0], numpy_array[0], numpy_array_float[0]"
   ]
  },
  {
   "cell_type": "code",
   "execution_count": 10,
   "metadata": {},
   "outputs": [
    {
     "data": {
      "text/plain": [
       "(int, numpy.int64, numpy.float64)"
      ]
     },
     "execution_count": 10,
     "metadata": {},
     "output_type": "execute_result"
    }
   ],
   "source": [
    "type(python_list[0]), type(numpy_array[0]), type(numpy_array_float[0])"
   ]
  },
  {
   "cell_type": "markdown",
   "metadata": {},
   "source": [
    "*Sum of elements*"
   ]
  },
  {
   "cell_type": "code",
   "execution_count": 11,
   "metadata": {},
   "outputs": [
    {
     "data": {
      "text/plain": [
       "(990, 990, 990)"
      ]
     },
     "execution_count": 11,
     "metadata": {},
     "output_type": "execute_result"
    }
   ],
   "source": [
    "sum(python_list), sum(numpy_array), numpy.sum(numpy_array)"
   ]
  },
  {
   "cell_type": "markdown",
   "metadata": {},
   "source": [
    "*Minimum and maximum*"
   ]
  },
  {
   "cell_type": "code",
   "execution_count": 12,
   "metadata": {},
   "outputs": [
    {
     "data": {
      "text/plain": [
       "(56, 56, 56)"
      ]
     },
     "execution_count": 12,
     "metadata": {},
     "output_type": "execute_result"
    }
   ],
   "source": [
    "min(python_list), numpy.min(numpy_array), numpy_array.min()"
   ]
  },
  {
   "cell_type": "markdown",
   "metadata": {},
   "source": [
    "# simple operations"
   ]
  },
  {
   "cell_type": "markdown",
   "metadata": {},
   "source": [
    "*Reciprocate: 1/n for every item*"
   ]
  },
  {
   "cell_type": "code",
   "execution_count": 13,
   "metadata": {},
   "outputs": [
    {
     "data": {
      "text/plain": [
       "[0.017857142857142856,\n",
       " 0.014492753623188406,\n",
       " 0.011363636363636364,\n",
       " 0.014925373134328358,\n",
       " 0.008849557522123894,\n",
       " 0.010416666666666666,\n",
       " 0.0136986301369863,\n",
       " 0.012048192771084338,\n",
       " 0.005813953488372093,\n",
       " 0.005780346820809248]"
      ]
     },
     "execution_count": 13,
     "metadata": {},
     "output_type": "execute_result"
    }
   ],
   "source": [
    "rec_python_list = []\n",
    "\n",
    "for value in python_list:\n",
    "    rec_python_list.append( 1 / value)\n",
    "    \n",
    "rec_python_list"
   ]
  },
  {
   "cell_type": "code",
   "execution_count": 14,
   "metadata": {},
   "outputs": [
    {
     "data": {
      "text/plain": [
       "[0.017857142857142856,\n",
       " 0.014492753623188406,\n",
       " 0.011363636363636364,\n",
       " 0.014925373134328358,\n",
       " 0.008849557522123894,\n",
       " 0.010416666666666666,\n",
       " 0.0136986301369863,\n",
       " 0.012048192771084338,\n",
       " 0.005813953488372093,\n",
       " 0.005780346820809248]"
      ]
     },
     "execution_count": 14,
     "metadata": {},
     "output_type": "execute_result"
    }
   ],
   "source": [
    "[1/value for value in python_list]"
   ]
  },
  {
   "cell_type": "code",
   "execution_count": 15,
   "metadata": {},
   "outputs": [],
   "source": [
    "# 1 / python_list"
   ]
  },
  {
   "cell_type": "markdown",
   "metadata": {},
   "source": [
    "However, numpy arrays allow for this kind of behaviour"
   ]
  },
  {
   "cell_type": "code",
   "execution_count": 16,
   "metadata": {},
   "outputs": [
    {
     "data": {
      "text/plain": [
       "array([ 56,  69,  88,  67, 113,  96,  73,  83, 172, 173])"
      ]
     },
     "execution_count": 16,
     "metadata": {},
     "output_type": "execute_result"
    }
   ],
   "source": [
    "numpy_array"
   ]
  },
  {
   "cell_type": "code",
   "execution_count": 17,
   "metadata": {},
   "outputs": [
    {
     "data": {
      "text/plain": [
       "array([0.01785714, 0.01449275, 0.01136364, 0.01492537, 0.00884956,\n",
       "       0.01041667, 0.01369863, 0.01204819, 0.00581395, 0.00578035])"
      ]
     },
     "execution_count": 17,
     "metadata": {},
     "output_type": "execute_result"
    }
   ],
   "source": [
    "1 / numpy_array"
   ]
  },
  {
   "cell_type": "markdown",
   "metadata": {},
   "source": [
    "*Adding two lists and numpy arrays*"
   ]
  },
  {
   "cell_type": "code",
   "execution_count": 18,
   "metadata": {},
   "outputs": [
    {
     "data": {
      "text/plain": [
       "[1, 2, 3, 4, 5, 10, 20, 30, 40, 50]"
      ]
     },
     "execution_count": 18,
     "metadata": {},
     "output_type": "execute_result"
    }
   ],
   "source": [
    "a = [1,2,3,4,5]\n",
    "b = [10,20,30,40,50]\n",
    "\n",
    "a + b"
   ]
  },
  {
   "cell_type": "code",
   "execution_count": 19,
   "metadata": {},
   "outputs": [
    {
     "data": {
      "text/plain": [
       "array([11, 22, 33, 44, 55])"
      ]
     },
     "execution_count": 19,
     "metadata": {},
     "output_type": "execute_result"
    }
   ],
   "source": [
    "a = numpy.array([1,2,3,4,5])\n",
    "b = numpy.array([10,20,30,40,50])\n",
    "\n",
    "a + b"
   ]
  },
  {
   "cell_type": "markdown",
   "metadata": {},
   "source": [
    "*Multiplication*"
   ]
  },
  {
   "cell_type": "code",
   "execution_count": 20,
   "metadata": {},
   "outputs": [
    {
     "name": "stdout",
     "output_type": "stream",
     "text": [
      "[56, 69, 88, 67, 113, 96, 73, 83, 172, 173]\n",
      "[56, 69, 88, 67, 113, 96, 73, 83, 172, 173, 56, 69, 88, 67, 113, 96, 73, 83, 172, 173]\n"
     ]
    }
   ],
   "source": [
    "print(python_list)\n",
    "\n",
    "print(python_list * 2)"
   ]
  },
  {
   "cell_type": "code",
   "execution_count": 21,
   "metadata": {},
   "outputs": [
    {
     "name": "stdout",
     "output_type": "stream",
     "text": [
      "[ 56  69  88  67 113  96  73  83 172 173]\n",
      "[112 138 176 134 226 192 146 166 344 346]\n"
     ]
    }
   ],
   "source": [
    "print(numpy_array)\n",
    "print(numpy_array * 2)"
   ]
  },
  {
   "cell_type": "markdown",
   "metadata": {},
   "source": [
    "# more complicated operations"
   ]
  },
  {
   "cell_type": "markdown",
   "metadata": {},
   "source": [
    "*Sigmoid function*\n",
    "\\begin{equation*}\n",
    "\\frac{1}{(1+e^{-x})}\n",
    "\\end{equation*}"
   ]
  },
  {
   "cell_type": "code",
   "execution_count": 22,
   "metadata": {},
   "outputs": [
    {
     "data": {
      "text/plain": [
       "array([[0, 1, 2, 3, 4, 5, 6, 7, 8, 9]])"
      ]
     },
     "execution_count": 22,
     "metadata": {},
     "output_type": "execute_result"
    }
   ],
   "source": [
    "numpy_array = numpy.array([range(10)])\n",
    "numpy_array"
   ]
  },
  {
   "cell_type": "code",
   "execution_count": 23,
   "metadata": {},
   "outputs": [
    {
     "data": {
      "text/plain": [
       "2.718281828459045"
      ]
     },
     "execution_count": 23,
     "metadata": {},
     "output_type": "execute_result"
    }
   ],
   "source": [
    "numpy.exp(1)"
   ]
  },
  {
   "cell_type": "code",
   "execution_count": 24,
   "metadata": {},
   "outputs": [
    {
     "data": {
      "text/plain": [
       "array([[1.00000000e+00, 3.67879441e-01, 1.35335283e-01, 4.97870684e-02,\n",
       "        1.83156389e-02, 6.73794700e-03, 2.47875218e-03, 9.11881966e-04,\n",
       "        3.35462628e-04, 1.23409804e-04]])"
      ]
     },
     "execution_count": 24,
     "metadata": {},
     "output_type": "execute_result"
    }
   ],
   "source": [
    "numpy.exp(-numpy_array)"
   ]
  },
  {
   "cell_type": "code",
   "execution_count": 25,
   "metadata": {},
   "outputs": [
    {
     "data": {
      "text/plain": [
       "array([[0.5       , 0.73105858, 0.88079708, 0.95257413, 0.98201379,\n",
       "        0.99330715, 0.99752738, 0.99908895, 0.99966465, 0.99987661]])"
      ]
     },
     "execution_count": 25,
     "metadata": {},
     "output_type": "execute_result"
    }
   ],
   "source": [
    "sigmoid = 1 / (1 + numpy.exp(-numpy_array))\n",
    "sigmoid"
   ]
  },
  {
   "cell_type": "markdown",
   "metadata": {},
   "source": [
    "# multidimensional arrays"
   ]
  },
  {
   "cell_type": "code",
   "execution_count": 26,
   "metadata": {},
   "outputs": [
    {
     "data": {
      "text/plain": [
       "array([[ 0,  1,  2,  3,  4],\n",
       "       [ 5,  6,  7,  8,  9],\n",
       "       [10, 11, 12, 13, 14],\n",
       "       [15, 16, 17, 18, 19],\n",
       "       [20, 21, 22, 23, 24],\n",
       "       [25, 26, 27, 28, 29],\n",
       "       [30, 31, 32, 33, 34],\n",
       "       [35, 36, 37, 38, 39],\n",
       "       [40, 41, 42, 43, 44],\n",
       "       [45, 46, 47, 48, 49],\n",
       "       [50, 51, 52, 53, 54],\n",
       "       [55, 56, 57, 58, 59],\n",
       "       [60, 61, 62, 63, 64],\n",
       "       [65, 66, 67, 68, 69],\n",
       "       [70, 71, 72, 73, 74],\n",
       "       [75, 76, 77, 78, 79],\n",
       "       [80, 81, 82, 83, 84],\n",
       "       [85, 86, 87, 88, 89],\n",
       "       [90, 91, 92, 93, 94],\n",
       "       [95, 96, 97, 98, 99]])"
      ]
     },
     "execution_count": 26,
     "metadata": {},
     "output_type": "execute_result"
    }
   ],
   "source": [
    "numpy_array = numpy.array(range(100))\n",
    "numpy_array = numpy_array.reshape(20,5)\n",
    "numpy_array"
   ]
  },
  {
   "cell_type": "code",
   "execution_count": 27,
   "metadata": {},
   "outputs": [
    {
     "data": {
      "text/plain": [
       "28"
      ]
     },
     "execution_count": 27,
     "metadata": {},
     "output_type": "execute_result"
    }
   ],
   "source": [
    "numpy_array[5,3]"
   ]
  },
  {
   "cell_type": "code",
   "execution_count": 28,
   "metadata": {},
   "outputs": [
    {
     "data": {
      "text/plain": [
       "array([[ 0,  5, 10, 15, 20, 25, 30, 35, 40, 45, 50, 55, 60, 65, 70, 75,\n",
       "        80, 85, 90, 95],\n",
       "       [ 1,  6, 11, 16, 21, 26, 31, 36, 41, 46, 51, 56, 61, 66, 71, 76,\n",
       "        81, 86, 91, 96],\n",
       "       [ 2,  7, 12, 17, 22, 27, 32, 37, 42, 47, 52, 57, 62, 67, 72, 77,\n",
       "        82, 87, 92, 97],\n",
       "       [ 3,  8, 13, 18, 23, 28, 33, 38, 43, 48, 53, 58, 63, 68, 73, 78,\n",
       "        83, 88, 93, 98],\n",
       "       [ 4,  9, 14, 19, 24, 29, 34, 39, 44, 49, 54, 59, 64, 69, 74, 79,\n",
       "        84, 89, 94, 99]])"
      ]
     },
     "execution_count": 28,
     "metadata": {},
     "output_type": "execute_result"
    }
   ],
   "source": [
    "numpy_array.T"
   ]
  },
  {
   "cell_type": "code",
   "execution_count": 29,
   "metadata": {},
   "outputs": [
    {
     "data": {
      "text/plain": [
       "array([[   30,    80,   130,   180,   230,   280,   330,   380,   430,\n",
       "          480,   530,   580,   630,   680,   730,   780,   830,   880,\n",
       "          930,   980],\n",
       "       [   80,   255,   430,   605,   780,   955,  1130,  1305,  1480,\n",
       "         1655,  1830,  2005,  2180,  2355,  2530,  2705,  2880,  3055,\n",
       "         3230,  3405],\n",
       "       [  130,   430,   730,  1030,  1330,  1630,  1930,  2230,  2530,\n",
       "         2830,  3130,  3430,  3730,  4030,  4330,  4630,  4930,  5230,\n",
       "         5530,  5830],\n",
       "       [  180,   605,  1030,  1455,  1880,  2305,  2730,  3155,  3580,\n",
       "         4005,  4430,  4855,  5280,  5705,  6130,  6555,  6980,  7405,\n",
       "         7830,  8255],\n",
       "       [  230,   780,  1330,  1880,  2430,  2980,  3530,  4080,  4630,\n",
       "         5180,  5730,  6280,  6830,  7380,  7930,  8480,  9030,  9580,\n",
       "        10130, 10680],\n",
       "       [  280,   955,  1630,  2305,  2980,  3655,  4330,  5005,  5680,\n",
       "         6355,  7030,  7705,  8380,  9055,  9730, 10405, 11080, 11755,\n",
       "        12430, 13105],\n",
       "       [  330,  1130,  1930,  2730,  3530,  4330,  5130,  5930,  6730,\n",
       "         7530,  8330,  9130,  9930, 10730, 11530, 12330, 13130, 13930,\n",
       "        14730, 15530],\n",
       "       [  380,  1305,  2230,  3155,  4080,  5005,  5930,  6855,  7780,\n",
       "         8705,  9630, 10555, 11480, 12405, 13330, 14255, 15180, 16105,\n",
       "        17030, 17955],\n",
       "       [  430,  1480,  2530,  3580,  4630,  5680,  6730,  7780,  8830,\n",
       "         9880, 10930, 11980, 13030, 14080, 15130, 16180, 17230, 18280,\n",
       "        19330, 20380],\n",
       "       [  480,  1655,  2830,  4005,  5180,  6355,  7530,  8705,  9880,\n",
       "        11055, 12230, 13405, 14580, 15755, 16930, 18105, 19280, 20455,\n",
       "        21630, 22805],\n",
       "       [  530,  1830,  3130,  4430,  5730,  7030,  8330,  9630, 10930,\n",
       "        12230, 13530, 14830, 16130, 17430, 18730, 20030, 21330, 22630,\n",
       "        23930, 25230],\n",
       "       [  580,  2005,  3430,  4855,  6280,  7705,  9130, 10555, 11980,\n",
       "        13405, 14830, 16255, 17680, 19105, 20530, 21955, 23380, 24805,\n",
       "        26230, 27655],\n",
       "       [  630,  2180,  3730,  5280,  6830,  8380,  9930, 11480, 13030,\n",
       "        14580, 16130, 17680, 19230, 20780, 22330, 23880, 25430, 26980,\n",
       "        28530, 30080],\n",
       "       [  680,  2355,  4030,  5705,  7380,  9055, 10730, 12405, 14080,\n",
       "        15755, 17430, 19105, 20780, 22455, 24130, 25805, 27480, 29155,\n",
       "        30830, 32505],\n",
       "       [  730,  2530,  4330,  6130,  7930,  9730, 11530, 13330, 15130,\n",
       "        16930, 18730, 20530, 22330, 24130, 25930, 27730, 29530, 31330,\n",
       "        33130, 34930],\n",
       "       [  780,  2705,  4630,  6555,  8480, 10405, 12330, 14255, 16180,\n",
       "        18105, 20030, 21955, 23880, 25805, 27730, 29655, 31580, 33505,\n",
       "        35430, 37355],\n",
       "       [  830,  2880,  4930,  6980,  9030, 11080, 13130, 15180, 17230,\n",
       "        19280, 21330, 23380, 25430, 27480, 29530, 31580, 33630, 35680,\n",
       "        37730, 39780],\n",
       "       [  880,  3055,  5230,  7405,  9580, 11755, 13930, 16105, 18280,\n",
       "        20455, 22630, 24805, 26980, 29155, 31330, 33505, 35680, 37855,\n",
       "        40030, 42205],\n",
       "       [  930,  3230,  5530,  7830, 10130, 12430, 14730, 17030, 19330,\n",
       "        21630, 23930, 26230, 28530, 30830, 33130, 35430, 37730, 40030,\n",
       "        42330, 44630],\n",
       "       [  980,  3405,  5830,  8255, 10680, 13105, 15530, 17955, 20380,\n",
       "        22805, 25230, 27655, 30080, 32505, 34930, 37355, 39780, 42205,\n",
       "        44630, 47055]])"
      ]
     },
     "execution_count": 29,
     "metadata": {},
     "output_type": "execute_result"
    }
   ],
   "source": [
    "numpy_array @ numpy_array.T"
   ]
  },
  {
   "cell_type": "code",
   "execution_count": 30,
   "metadata": {},
   "outputs": [
    {
     "data": {
      "text/plain": [
       "array([[   30,    80,   130,   180,   230,   280,   330,   380,   430,\n",
       "          480,   530,   580,   630,   680,   730,   780,   830,   880,\n",
       "          930,   980],\n",
       "       [   80,   255,   430,   605,   780,   955,  1130,  1305,  1480,\n",
       "         1655,  1830,  2005,  2180,  2355,  2530,  2705,  2880,  3055,\n",
       "         3230,  3405],\n",
       "       [  130,   430,   730,  1030,  1330,  1630,  1930,  2230,  2530,\n",
       "         2830,  3130,  3430,  3730,  4030,  4330,  4630,  4930,  5230,\n",
       "         5530,  5830],\n",
       "       [  180,   605,  1030,  1455,  1880,  2305,  2730,  3155,  3580,\n",
       "         4005,  4430,  4855,  5280,  5705,  6130,  6555,  6980,  7405,\n",
       "         7830,  8255],\n",
       "       [  230,   780,  1330,  1880,  2430,  2980,  3530,  4080,  4630,\n",
       "         5180,  5730,  6280,  6830,  7380,  7930,  8480,  9030,  9580,\n",
       "        10130, 10680],\n",
       "       [  280,   955,  1630,  2305,  2980,  3655,  4330,  5005,  5680,\n",
       "         6355,  7030,  7705,  8380,  9055,  9730, 10405, 11080, 11755,\n",
       "        12430, 13105],\n",
       "       [  330,  1130,  1930,  2730,  3530,  4330,  5130,  5930,  6730,\n",
       "         7530,  8330,  9130,  9930, 10730, 11530, 12330, 13130, 13930,\n",
       "        14730, 15530],\n",
       "       [  380,  1305,  2230,  3155,  4080,  5005,  5930,  6855,  7780,\n",
       "         8705,  9630, 10555, 11480, 12405, 13330, 14255, 15180, 16105,\n",
       "        17030, 17955],\n",
       "       [  430,  1480,  2530,  3580,  4630,  5680,  6730,  7780,  8830,\n",
       "         9880, 10930, 11980, 13030, 14080, 15130, 16180, 17230, 18280,\n",
       "        19330, 20380],\n",
       "       [  480,  1655,  2830,  4005,  5180,  6355,  7530,  8705,  9880,\n",
       "        11055, 12230, 13405, 14580, 15755, 16930, 18105, 19280, 20455,\n",
       "        21630, 22805],\n",
       "       [  530,  1830,  3130,  4430,  5730,  7030,  8330,  9630, 10930,\n",
       "        12230, 13530, 14830, 16130, 17430, 18730, 20030, 21330, 22630,\n",
       "        23930, 25230],\n",
       "       [  580,  2005,  3430,  4855,  6280,  7705,  9130, 10555, 11980,\n",
       "        13405, 14830, 16255, 17680, 19105, 20530, 21955, 23380, 24805,\n",
       "        26230, 27655],\n",
       "       [  630,  2180,  3730,  5280,  6830,  8380,  9930, 11480, 13030,\n",
       "        14580, 16130, 17680, 19230, 20780, 22330, 23880, 25430, 26980,\n",
       "        28530, 30080],\n",
       "       [  680,  2355,  4030,  5705,  7380,  9055, 10730, 12405, 14080,\n",
       "        15755, 17430, 19105, 20780, 22455, 24130, 25805, 27480, 29155,\n",
       "        30830, 32505],\n",
       "       [  730,  2530,  4330,  6130,  7930,  9730, 11530, 13330, 15130,\n",
       "        16930, 18730, 20530, 22330, 24130, 25930, 27730, 29530, 31330,\n",
       "        33130, 34930],\n",
       "       [  780,  2705,  4630,  6555,  8480, 10405, 12330, 14255, 16180,\n",
       "        18105, 20030, 21955, 23880, 25805, 27730, 29655, 31580, 33505,\n",
       "        35430, 37355],\n",
       "       [  830,  2880,  4930,  6980,  9030, 11080, 13130, 15180, 17230,\n",
       "        19280, 21330, 23380, 25430, 27480, 29530, 31580, 33630, 35680,\n",
       "        37730, 39780],\n",
       "       [  880,  3055,  5230,  7405,  9580, 11755, 13930, 16105, 18280,\n",
       "        20455, 22630, 24805, 26980, 29155, 31330, 33505, 35680, 37855,\n",
       "        40030, 42205],\n",
       "       [  930,  3230,  5530,  7830, 10130, 12430, 14730, 17030, 19330,\n",
       "        21630, 23930, 26230, 28530, 30830, 33130, 35430, 37730, 40030,\n",
       "        42330, 44630],\n",
       "       [  980,  3405,  5830,  8255, 10680, 13105, 15530, 17955, 20380,\n",
       "        22805, 25230, 27655, 30080, 32505, 34930, 37355, 39780, 42205,\n",
       "        44630, 47055]])"
      ]
     },
     "execution_count": 30,
     "metadata": {},
     "output_type": "execute_result"
    }
   ],
   "source": [
    "numpy.matmul(numpy_array, numpy_array.T)"
   ]
  },
  {
   "cell_type": "markdown",
   "metadata": {},
   "source": [
    "# indexing"
   ]
  },
  {
   "cell_type": "code",
   "execution_count": 31,
   "metadata": {},
   "outputs": [
    {
     "data": {
      "text/plain": [
       "array([191, 172, 405, 311,  93, 213, 269, 184, 487, 290, 462,  47, 192,\n",
       "       148, 318, 342, 113, 322, 275, 420, 195, 138,  29, 234, 136, 196,\n",
       "       332, 401, 248, 363, 158, 211, 364, 344,  75, 450,  45, 324, 373,\n",
       "       120, 466, 111, 453, 354, 442, 162, 426,  53, 326,  59, 363, 204,\n",
       "       208, 311, 415,  27, 156, 121, 163, 347, 260, 150, 442, 378, 182,\n",
       "       155, 137,  45, 465, 333, 448, 407, 235, 235,  99, 485,  95, 373,\n",
       "       103, 466, 415,  63, 206, 393, 121, 124, 254,  31, 402,  92,  50,\n",
       "       420,  92, 298, 394,  46, 383, 302,  91, 172, 405, 349, 369,  72,\n",
       "       219, 114,  48,  31, 155, 449,  34, 354, 199, 289, 391, 121, 238,\n",
       "       154, 255, 149,  69, 352, 379, 134, 255, 184, 440, 100, 114, 274,\n",
       "       360, 304, 364, 315,  31, 418, 233, 128, 304, 344, 110, 336, 112,\n",
       "       437, 314,  38, 446, 108,  21, 466, 342, 303, 184, 262, 491, 381,\n",
       "       453, 363, 168, 349, 109, 446, 107, 255, 438,  29, 473, 393, 352,\n",
       "       446, 410, 254, 350, 180,  26, 199, 263, 138, 164, 306, 151, 388,\n",
       "        67, 276, 285, 145,  80, 363, 416, 164,  43, 441, 187, 456, 389,\n",
       "       317, 150, 401, 139,  72])"
      ]
     },
     "execution_count": 31,
     "metadata": {},
     "output_type": "execute_result"
    }
   ],
   "source": [
    "example_array = numpy.random.randint(20, 500, 200)\n",
    "example_array"
   ]
  },
  {
   "cell_type": "code",
   "execution_count": 32,
   "metadata": {},
   "outputs": [
    {
     "data": {
      "text/plain": [
       "array([False, False,  True,  True, False,  True,  True, False,  True,\n",
       "        True,  True, False, False, False,  True,  True, False,  True,\n",
       "        True,  True, False, False, False,  True, False, False,  True,\n",
       "        True,  True,  True, False,  True,  True,  True, False,  True,\n",
       "       False,  True,  True, False,  True, False,  True,  True,  True,\n",
       "       False,  True, False,  True, False,  True,  True,  True,  True,\n",
       "        True, False, False, False, False,  True,  True, False,  True,\n",
       "        True, False, False, False, False,  True,  True,  True,  True,\n",
       "        True,  True, False,  True, False,  True, False,  True,  True,\n",
       "       False,  True,  True, False, False,  True, False,  True, False,\n",
       "       False,  True, False,  True,  True, False,  True,  True, False,\n",
       "       False,  True,  True,  True, False,  True, False, False, False,\n",
       "       False,  True, False,  True, False,  True,  True, False,  True,\n",
       "       False,  True, False, False,  True,  True, False,  True, False,\n",
       "        True, False, False,  True,  True,  True,  True,  True, False,\n",
       "        True,  True, False,  True,  True, False,  True, False,  True,\n",
       "        True, False,  True, False, False,  True,  True,  True, False,\n",
       "        True,  True,  True,  True,  True, False,  True, False,  True,\n",
       "       False,  True,  True, False,  True,  True,  True,  True,  True,\n",
       "        True,  True, False, False, False,  True, False, False,  True,\n",
       "       False,  True, False,  True,  True, False, False,  True,  True,\n",
       "       False, False,  True, False,  True,  True,  True, False,  True,\n",
       "       False, False])"
      ]
     },
     "execution_count": 32,
     "metadata": {},
     "output_type": "execute_result"
    }
   ],
   "source": [
    "example_array > 200"
   ]
  },
  {
   "cell_type": "code",
   "execution_count": 33,
   "metadata": {},
   "outputs": [
    {
     "data": {
      "text/plain": [
       "array([405, 311, 213, 269, 487, 290, 462, 318, 342, 322, 275, 420, 234,\n",
       "       332, 401, 248, 363, 211, 364, 344, 450, 324, 373, 466, 453, 354,\n",
       "       442, 426, 326, 363, 204, 208, 311, 415, 347, 260, 442, 378, 465,\n",
       "       333, 448, 407, 235, 235, 485, 373, 466, 415, 206, 393, 254, 402,\n",
       "       420, 298, 394, 383, 302, 405, 349, 369, 219, 449, 354, 289, 391,\n",
       "       238, 255, 352, 379, 255, 440, 274, 360, 304, 364, 315, 418, 233,\n",
       "       304, 344, 336, 437, 314, 446, 466, 342, 303, 262, 491, 381, 453,\n",
       "       363, 349, 446, 255, 438, 473, 393, 352, 446, 410, 254, 350, 263,\n",
       "       306, 388, 276, 285, 363, 416, 441, 456, 389, 317, 401])"
      ]
     },
     "execution_count": 33,
     "metadata": {},
     "output_type": "execute_result"
    }
   ],
   "source": [
    "example_array[example_array > 200]"
   ]
  },
  {
   "cell_type": "code",
   "execution_count": 34,
   "metadata": {},
   "outputs": [
    {
     "data": {
      "text/plain": [
       "array([172, 184, 290, 462, 192, 148, 318, 342, 322, 420, 138, 234, 136,\n",
       "       196, 332, 248, 158, 364, 344, 450, 324, 120, 466, 354, 442, 162,\n",
       "       426, 326, 204, 208, 156, 260, 150, 442, 378, 182, 448, 466, 206,\n",
       "       124, 254, 402,  92,  50, 420,  92, 298, 394,  46, 302, 172,  72,\n",
       "       114,  48,  34, 354, 238, 154, 352, 134, 184, 440, 100, 114, 274,\n",
       "       360, 304, 364, 418, 128, 304, 344, 110, 336, 112, 314,  38, 446,\n",
       "       108, 466, 342, 184, 262, 168, 446, 438, 352, 446, 410, 254, 350,\n",
       "       180,  26, 138, 164, 306, 388, 276,  80, 416, 164, 456, 150,  72])"
      ]
     },
     "execution_count": 34,
     "metadata": {},
     "output_type": "execute_result"
    }
   ],
   "source": [
    "example_array[example_array % 2 == 0]"
   ]
  },
  {
   "cell_type": "markdown",
   "metadata": {},
   "source": [
    "# atributes, methods and functions"
   ]
  },
  {
   "cell_type": "markdown",
   "metadata": {},
   "source": [
    "When you want to check for the available attributes, methods or functions you can press `<TAB>` after writing the module name or the object.\n",
    "\n",
    "`numpy.<TAB>`\n",
    "\n",
    "If you want to check the details of a function parameters you can press `<Shift + TAB>` when inside the function.\n",
    "\n",
    "`numpy.random.normal(<Shift + TAB>)`"
   ]
  },
  {
   "cell_type": "code",
   "execution_count": 35,
   "metadata": {},
   "outputs": [],
   "source": [
    "example_array = numpy.random.normal(20, 5, 1000)"
   ]
  },
  {
   "cell_type": "code",
   "execution_count": 36,
   "metadata": {},
   "outputs": [
    {
     "data": {
      "text/plain": [
       "<matplotlib.axes._subplots.AxesSubplot at 0x1a1d1b5090>"
      ]
     },
     "execution_count": 36,
     "metadata": {},
     "output_type": "execute_result"
    },
    {
     "data": {
      "image/png": "[encoded data removed]",
      "text/plain": [
       "<Figure size 432x288 with 1 Axes>"
      ]
     },
     "metadata": {
      "needs_background": "light"
     },
     "output_type": "display_data"
    }
   ],
   "source": [
    "seaborn.distplot(example_array)"
   ]
  },
  {
   "cell_type": "code",
   "execution_count": 37,
   "metadata": {},
   "outputs": [
    {
     "data": {
      "text/plain": [
       "array([[26.86682824, 22.61899022, 16.16332226, 22.62658481],\n",
       "       [16.21794351, 17.94868233, 29.6355884 , 22.56885562],\n",
       "       [20.29484613, 17.17311527, 25.25076545, 19.53714221],\n",
       "       [10.7874867 , 15.89118984, 14.48340376, 20.27256998],\n",
       "       [12.29552256, 18.21658452, 21.64722998, 27.70819581],\n",
       "       [20.80451503, 18.05756626, 19.18223537, 19.54193198],\n",
       "       [18.61249625, 17.37744879, 15.33467321, 18.20685059],\n",
       "       [16.23475618,  9.41259958, 19.99461851, 29.53280977],\n",
       "       [23.52656893, 24.0970557 , 16.77884396, 14.25040442],\n",
       "       [12.46094317, 14.39020136, 15.74209149, 30.4481771 ],\n",
       "       [18.47954321, 24.99451852, 20.75191249, 18.58182827],\n",
       "       [15.91746711, 25.3440053 , 26.62974207, 13.84720536],\n",
       "       [20.67443999, 18.19975148, 27.85370164, 14.61192755],\n",
       "       [23.16634044, 11.69647902, 17.34650058, 21.67905926],\n",
       "       [14.56811905, 25.96477946, 20.62375859, 19.5720262 ],\n",
       "       [17.66098541, 22.08947205, 26.97493954, 18.50408868],\n",
       "       [20.67342477, 23.34079707, 24.63464002, 25.5191232 ],\n",
       "       [15.1377895 , 18.28138579, 31.16963416, 21.87361028],\n",
       "       [22.34496897, 19.51556748, 29.08870445, 14.21877067],\n",
       "       [19.55927934, 16.98672764, 20.21088944, 26.63890414],\n",
       "       [16.12566306, 18.03056076, 21.42754067, 24.59631592],\n",
       "       [22.88366528, 15.81251858, 19.06682246, 19.7391754 ],\n",
       "       [25.78881367, 16.02056411, 24.35932987, 32.81706795],\n",
       "       [19.3492778 , 18.03954607, 20.96980178, 29.77908893],\n",
       "       [24.5430287 , 22.96377908, 29.74528335, 14.57412544],\n",
       "       [25.54575775, 25.39757745, 21.928549  , 16.22873726],\n",
       "       [13.18375179, 32.77596826, 19.46998189, 21.65865004],\n",
       "       [21.00064128, 17.06487981, 18.56635976, 24.2468985 ],\n",
       "       [21.30113086, 20.57742346, 20.66339005, 17.33325107],\n",
       "       [23.4694386 , 24.28699207, 17.44404804, 26.6302048 ],\n",
       "       [18.73484202, 21.73535805, 19.39999861, 29.32961064],\n",
       "       [13.58028344, 19.22259702, 26.44651074, 22.66139131],\n",
       "       [ 7.56698769, 14.25545386, 15.81508836, 19.60824688],\n",
       "       [25.01127668, 19.33646787, 20.58569861, 28.37367997],\n",
       "       [26.86887793, 16.7813505 , 24.10482673, 18.79916295],\n",
       "       [23.13600549,  7.47000992, 13.98284392, 21.84372428],\n",
       "       [14.68365785, 10.74743722, 20.18134467, 18.73258795],\n",
       "       [20.2366416 , 19.99579308, 23.11911257, 26.92047119],\n",
       "       [22.94153468, 22.19825953, 28.46366084, 18.81839254],\n",
       "       [26.06708568, 21.44912645, 28.86461513, 15.43123132],\n",
       "       [17.69671336, 16.11075985, 14.44121126, 12.18215755],\n",
       "       [17.64423738, 32.32964313, 16.24851952,  8.69198865],\n",
       "       [22.62476041, 25.03094866, 25.41217221, 21.00560539],\n",
       "       [20.85838024, 27.92038412, 14.43907053, 21.8694005 ],\n",
       "       [14.86092439, 27.46224883, 19.84747175, 23.03603382],\n",
       "       [11.53937104, 19.35994135, 26.49449662, 25.08144324],\n",
       "       [17.88924312, 22.83002864, 18.90038689, 11.06906007],\n",
       "       [26.54051561, 21.22826281, 20.81478663, 17.06947781],\n",
       "       [14.91054605, 12.17233414, 17.40741596, 23.58795916],\n",
       "       [15.71301443, 11.22938288, 25.47249503, 22.09440554],\n",
       "       [14.99188543, 21.29724393, 19.57287797, 14.20853315],\n",
       "       [24.57628312, 10.17461254, 15.75939139, 20.5822474 ],\n",
       "       [20.71673711, 19.15445617, 20.95706148, 18.05872959],\n",
       "       [ 6.72136756, 22.95038735, 24.70217303, 22.92621028],\n",
       "       [24.32104616,  6.24337026, 19.38233301, 20.34738193],\n",
       "       [15.78729546, 17.37252159, 21.99835611, 16.75100137],\n",
       "       [16.5756448 , 15.70142074, 23.55060379, 20.24695281],\n",
       "       [20.55808388, 28.12244855, 24.42197709, 20.23668672],\n",
       "       [20.89824385, 20.41677343, 29.49519426, 18.52757836],\n",
       "       [10.23870469, 21.02427243, 17.18868458, 14.18363386],\n",
       "       [26.51770537, 23.78407375, 23.14343323, 19.02430299],\n",
       "       [21.66393019, 15.52752574, 14.36960919, 19.7244741 ],\n",
       "       [23.74936893, 18.36272852, 16.71033898, 20.27905833],\n",
       "       [28.24758813, 25.78876829, 24.39860503, 17.00176442],\n",
       "       [21.67967242, 23.69221291, 25.4267063 , 20.42678266],\n",
       "       [17.00927935, 20.35084701, 17.3851404 , 26.79512022],\n",
       "       [22.35356751,  5.01206674, 19.35674823, 11.45074312],\n",
       "       [21.08018529, 15.47421446, 22.01852685, 24.99566334],\n",
       "       [17.27434108, 19.8303239 , 21.0117031 , 12.50636049],\n",
       "       [19.1134819 , 16.01792539, 22.43703218, 14.76394005],\n",
       "       [20.13389235, 15.69702084, 21.52726988, 19.17855812],\n",
       "       [12.57225047, 29.00096618, 27.81464796,  9.63666313],\n",
       "       [25.78285446, 16.1899226 , 24.1161394 , 26.45412246],\n",
       "       [18.47337215, 20.48722766, 25.81657495, 21.67229218],\n",
       "       [23.3506246 , 20.30477126, 27.0595005 , 19.66252823],\n",
       "       [16.48583954, 21.12148915, 18.34133739, 15.8561639 ],\n",
       "       [13.28453266, 23.55067712, 29.11079778, 17.08692516],\n",
       "       [12.20732761, 22.72121599, 25.80519261, 19.97026001],\n",
       "       [21.85592425, 22.40228554, 24.43322596, 20.35951433],\n",
       "       [17.53598857, 18.59783508, 20.86019455, 32.8785712 ],\n",
       "       [29.97268707, 14.73384134, 19.95730486, 20.70897825],\n",
       "       [18.37671543, 17.17289024, 17.89339156, 20.40137845],\n",
       "       [17.9606694 , 24.83835736, 20.47466548, 19.47582495],\n",
       "       [22.3932631 , 25.88436152, 30.18168082, 19.23655549],\n",
       "       [14.68319045, 19.9734846 , 11.02085864, 21.65543369],\n",
       "       [11.58713848, 22.11854944, 27.03231793, 22.44581102],\n",
       "       [30.40609041, 22.17865662, 24.73120033, 20.2106015 ],\n",
       "       [24.25727881, 22.70364286, 14.24006994, 19.32672666],\n",
       "       [22.41384154, 25.52105855, 22.29900663, 15.84972503],\n",
       "       [13.23099671, 17.41485483, 24.59135587, 18.14707334],\n",
       "       [25.97301495, 22.73223635, 15.46696487, 14.72407372],\n",
       "       [22.46272738, 11.43905015, 16.69579401, 24.94502436],\n",
       "       [19.67679199, 13.00372546,  6.44827823, 15.69374408],\n",
       "       [26.26839356, 25.55398436, 16.75955785, 19.06660329],\n",
       "       [22.61335991, 15.38715018, 25.24148251, 12.50490495],\n",
       "       [23.93366743, 12.10790852, 25.51606722, 25.80717969],\n",
       "       [20.66653151, 21.15181162, 11.13705079, 20.22331325],\n",
       "       [15.49634287, 20.16346291,  9.97767124, 16.28432335],\n",
       "       [28.82444053,  6.7641404 , 19.03576796, 18.73500259],\n",
       "       [19.96176665, 23.86943639, 22.86101344, 23.2292913 ],\n",
       "       [27.09907638, 26.50995672, 18.36217871, 18.75086152],\n",
       "       [19.97554101, 18.31359702, 19.56310352, 14.2330095 ],\n",
       "       [14.41584452,  9.24186258, 13.52945785, 10.04373935],\n",
       "       [13.04118666, 17.84226774, 19.50599211, 26.13040034],\n",
       "       [17.56379866, 20.13359804, 22.95336716, 21.49687517],\n",
       "       [26.77251604, 32.5744413 , 22.62049767, 15.51746769],\n",
       "       [25.94661858, 22.53512581, 16.62596636, 15.56916268],\n",
       "       [27.8614487 , 25.65156482, 29.09992709, 28.14865648],\n",
       "       [14.39065871, 24.40942303, 19.06186056, 23.72032641],\n",
       "       [17.45883307, 20.97477452, 18.30866126, 25.16181441],\n",
       "       [19.78380096, 11.29921682, 16.62010586, 22.02026168],\n",
       "       [26.75219709, 31.87061872, 20.82432217, 18.20015598],\n",
       "       [20.04853822, 18.86217027, 14.74710403, 21.18376447],\n",
       "       [22.51934371, 21.98891887, 24.40706304, 17.05696263],\n",
       "       [17.93052867, 26.18821019, 15.63540041, 26.520191  ],\n",
       "       [20.49463308, 17.03490629, 21.83759872, 22.62393983],\n",
       "       [27.68200331, 19.35340817, 12.25709047, 21.23894024],\n",
       "       [21.45464433, 10.05128717, 21.59633135, 19.59430413],\n",
       "       [21.43495773, 19.57777109, 30.2237058 , 16.0950335 ],\n",
       "       [22.45571926, 17.04085178, 22.58550225, 18.89202652],\n",
       "       [20.3965155 , 18.03237272, 29.74030546, 28.29243613],\n",
       "       [12.60706829, 19.31054161, 22.12420475, 22.21676214],\n",
       "       [13.48785235, 23.94805249, 27.78678877, 17.99816464],\n",
       "       [13.29732077, 26.11088671, 16.64285341, 21.93044017],\n",
       "       [21.88922784, 21.65421368, 28.7393674 , 26.62991708],\n",
       "       [21.03695228, 30.26407085, 14.78339657, 20.94193194],\n",
       "       [16.00882211, 20.94706529, 26.64713153, 17.75691117],\n",
       "       [21.62891053, 18.09469552, 21.18195724, 24.54025009],\n",
       "       [19.87653045, 15.74303375, 24.39320049, 20.49931999],\n",
       "       [15.86075502, 13.76060419, 13.02097204, 17.23552395],\n",
       "       [21.8361122 , 14.66502436, 22.28732408, 20.80725697],\n",
       "       [24.1992698 , 13.13487357, 12.14461836, 26.92361115],\n",
       "       [16.0415952 , 17.93209815, 23.10701494, 24.59072382],\n",
       "       [13.05545166, 29.19510269, 15.19479033, 18.06220094],\n",
       "       [23.06854879, 10.94094486, 26.32214485, 28.69283692],\n",
       "       [21.66314288, 23.91421334, 25.06385925, 19.05794581],\n",
       "       [18.28254537, 26.83669642, 16.8230996 , 31.09156139],\n",
       "       [24.39214831, 19.55331811, 21.36360587, 20.10043932],\n",
       "       [18.59225925, 17.4896677 , 18.98928359, 16.53159635],\n",
       "       [18.94506718, 23.28396698, 18.76673503, 27.30753289],\n",
       "       [26.58564528, 27.25459301, 13.28897437, 22.34465152],\n",
       "       [21.8893471 , 16.91709368, 11.91673497, 25.1509553 ],\n",
       "       [16.8714169 , 23.96458945, 20.01799384, 22.97288298],\n",
       "       [20.51644152, 14.99664923, 13.95283786, 28.05017961],\n",
       "       [23.01557691, 19.48144389,  9.84062669, 24.18960547],\n",
       "       [28.60269167, 13.44565994, 34.73969152, 20.84839814],\n",
       "       [23.91388339, 21.21943272, 17.11023314, 15.45842111],\n",
       "       [20.87416122, 21.33378674, 22.75489603, 14.89961987],\n",
       "       [13.73725464, 25.00979936, 14.5687381 , 10.24198354],\n",
       "       [31.42563874, 25.39331989, 17.65459174, 24.28079103],\n",
       "       [18.77452682, 12.99873364,  9.67069138, 17.26379963],\n",
       "       [27.36352793, 15.20281983, 25.04648643, 24.57842372],\n",
       "       [19.57752547, 15.70516814, 17.38475991, 24.39336638],\n",
       "       [22.65966842, 23.38935938, 18.78729628, 11.56497409],\n",
       "       [26.59215474, 26.45963906, 18.1628829 , 12.36314035],\n",
       "       [23.94167858, 15.66968   , 18.35032814, 18.64197892],\n",
       "       [14.90859879, 16.94507236, 20.41156286, 12.38869436],\n",
       "       [21.09146869, 27.5259092 , 21.58689043, 20.58104176],\n",
       "       [15.48176334, 29.57307708, 19.27249564, 18.14346476],\n",
       "       [22.45447366, 14.13791803, 14.89539412, 23.36105446],\n",
       "       [20.93883085, 22.25276282, 19.83890885, 27.78120465],\n",
       "       [17.40349677, 23.17305931, 18.10005304, 20.4384947 ],\n",
       "       [20.24645791, 25.33717154, 25.07689144, 22.33474417],\n",
       "       [27.67423052, 14.68042568, 30.14059489, 25.55079331],\n",
       "       [33.33085963, 18.55683606, 12.32035153, 20.15110442],\n",
       "       [29.62844153, 20.56868884, 24.24175835, 12.52029737],\n",
       "       [11.96072225, 10.98708116, 14.28219328, 22.46375293],\n",
       "       [13.02751254, 13.66129489, 12.7445785 , 16.61378608],\n",
       "       [25.22712099, 26.25942221, 16.62873257, 16.37376205],\n",
       "       [12.80695605, 21.26057489, 24.52060537, 21.01531071],\n",
       "       [19.82890491, 26.87005841, 21.2851802 , 28.58384657],\n",
       "       [24.1498126 , 13.69080995, 28.13771091, 17.81870858],\n",
       "       [21.5784779 , 18.57697703, 17.48795115, 16.20757005],\n",
       "       [22.0193548 , 16.65763307, 27.50472028, 15.72059339],\n",
       "       [27.21682906, 16.06470349, 20.42010298, 26.69311754],\n",
       "       [29.22692768, 30.14570809, 25.20078082, 18.73918413],\n",
       "       [21.76908659, 27.89948539, 14.47590037, 23.28643993],\n",
       "       [28.78603986, 16.29848976, 18.8521957 , 16.51278382],\n",
       "       [16.15939313, 26.87832273, 17.64274611, 25.11444545],\n",
       "       [12.8451152 , 28.39954446, 17.95184872, 23.57368161],\n",
       "       [20.0105415 , 23.00087242, 15.71021017, 26.14732342],\n",
       "       [24.11121947, 27.57872016, 27.23427899, 20.36827402],\n",
       "       [32.06645179, 24.9115014 , 25.61739854, 20.83328393],\n",
       "       [22.56115118, 25.68262326, 24.70680024, 23.26492961],\n",
       "       [18.97406497, 26.83013562, 21.90829217, 20.63144017],\n",
       "       [17.85985951, 26.06147709, 14.31468013, 20.87458231],\n",
       "       [17.92623283, 18.13434434, 22.40142882, 23.17179441],\n",
       "       [22.69591267, 16.74775363, 17.86717978, 18.78572755],\n",
       "       [12.33594246, 24.85420154, 28.08048845, 18.87894928],\n",
       "       [23.72844762, 20.54832674, 14.91080932, 20.61221242],\n",
       "       [14.85100683, 20.89965855, 22.47944125, 16.97949093],\n",
       "       [14.17292851, 15.90709895, 20.95644523, 19.7944876 ],\n",
       "       [21.07182555, 15.56747897, 30.48588038, 14.0832115 ],\n",
       "       [19.73160182, 11.99542814, 15.03998336, 19.73291982],\n",
       "       [15.57472738, 15.92178415, 14.62198348, 15.64362524],\n",
       "       [18.9414065 , 25.23264976,  7.12334876, 17.1651483 ],\n",
       "       [14.90982052, 25.07887828, 18.71062025, 20.71717827],\n",
       "       [21.98822613, 18.6567137 , 28.95699658, 19.77004638],\n",
       "       [21.6634538 , 13.2815003 , 21.88693532, 14.62517577],\n",
       "       [24.2455699 , 21.59124208, 19.17098163, 15.68055755],\n",
       "       [ 8.6123141 , 21.07189465, 19.73562146, 25.57370711],\n",
       "       [20.52962132, 25.23109502, 27.63336523, 23.56258692],\n",
       "       [26.37912858, 22.16879672, 25.27531979, 14.16944607],\n",
       "       [13.33978259, 23.53863381, 27.60185792, 16.85391833],\n",
       "       [13.09055415, 16.3911694 , 21.01829596, 26.66986337],\n",
       "       [33.43044122, 15.2755819 , 15.19785513, 18.65132123],\n",
       "       [20.5211915 , 20.19678987, 23.03636687, 13.23325623],\n",
       "       [20.3009955 , 18.32201541, 26.79909618, 21.39723761],\n",
       "       [14.82215331, 21.46076303, 22.5510327 , 20.98306874],\n",
       "       [19.82292228, 18.47471657, 18.15904564, 21.96552052],\n",
       "       [28.56855603, 18.96291109, 17.35412653, 17.05843935],\n",
       "       [17.91976828, 11.11455048, 19.85536544, 24.0882853 ],\n",
       "       [23.3347592 , 17.31429611, 13.27170809, 15.65271231],\n",
       "       [15.51168638, 20.44788823, 13.97476425, 23.52492246],\n",
       "       [23.16363691, 23.05468189, 12.74340073, 16.65822137],\n",
       "       [24.17180566, 14.59823364, 24.93311719, 22.97687074],\n",
       "       [15.07283752, 20.38896482, 17.04273888, 27.83683563],\n",
       "       [10.58101274, 18.0277358 , 22.90278064, 20.24822096],\n",
       "       [11.65241397, 12.6809824 , 17.4068897 , 26.8760695 ],\n",
       "       [25.02377186, 17.63420784, 24.98067081, 19.2045578 ],\n",
       "       [18.86455398, 18.50910694, 11.80164125, 16.25640401],\n",
       "       [17.62551748, 16.74923379, 16.776927  , 19.18552043],\n",
       "       [22.48969628, 17.36259784, 21.06382921, 26.04460695],\n",
       "       [24.38249123, 16.62718643, 18.89426543, 22.03550543],\n",
       "       [27.57425561,  9.82732846, 19.73228416, 14.06252153],\n",
       "       [19.2771218 , 13.88799234, 17.61407863, 21.43921417],\n",
       "       [16.51305907, 22.20893707, 11.51645642, 22.8965138 ],\n",
       "       [18.55891069, 28.14892091, 22.39286658, 29.98300477],\n",
       "       [25.83434063, 14.72475353, 25.34665968, 16.00763518],\n",
       "       [29.14127776, 24.40082981, 18.10329664, 20.55776043],\n",
       "       [22.30026276, 26.67050678, 27.72869173, 12.46300245],\n",
       "       [21.59720004, 19.82993441,  7.31996225, 20.54560508],\n",
       "       [19.46380672, 17.50913053, 27.87164114, 24.47901511],\n",
       "       [17.38236078, 19.61336812, 28.53321963, 22.62800779],\n",
       "       [13.54503581, 24.32799609, 10.77329664, 30.88326618],\n",
       "       [16.75701396, 20.38225263, 25.67906286, 14.0427557 ],\n",
       "       [25.6999431 , 25.76075655,  9.78037541, 21.86595637],\n",
       "       [19.618097  , 18.12001313, 17.60267458, 10.06703651],\n",
       "       [ 4.26329154, 19.51018694, 23.01601511, 18.08749304],\n",
       "       [15.64980135, 15.30527031, 19.19076367, 19.96391897],\n",
       "       [26.3300653 , 28.62508851, 24.78259471, 14.61094286],\n",
       "       [24.2241267 , 21.38829914, 22.58415034, 18.85056242],\n",
       "       [12.70123324, 25.61479395, 15.61325826, 12.35450434],\n",
       "       [27.98122842, 18.77616171,  7.44048456, 17.41756677],\n",
       "       [20.56678471, 16.12598728, 16.22700975, 23.02539293],\n",
       "       [17.63672553, 30.97689869, 29.15311278, 18.69467346],\n",
       "       [18.91201975, 23.50672176, 19.91768111, 15.24429695],\n",
       "       [17.13847618, 19.84986265, 23.24589765, 24.32835607],\n",
       "       [19.82140581, 17.47001797, 26.66898271, 20.25128255],\n",
       "       [16.44751439, 21.83426728, 16.34114551, 17.92501304]])"
      ]
     },
     "execution_count": 37,
     "metadata": {},
     "output_type": "execute_result"
    }
   ],
   "source": [
    "example_array = example_array.reshape(250, 4)\n",
    "example_array"
   ]
  },
  {
   "cell_type": "markdown",
   "metadata": {},
   "source": [
    "*some numpy array attributes*"
   ]
  },
  {
   "cell_type": "code",
   "execution_count": 38,
   "metadata": {},
   "outputs": [
    {
     "data": {
      "text/plain": [
       "1000"
      ]
     },
     "execution_count": 38,
     "metadata": {},
     "output_type": "execute_result"
    }
   ],
   "source": [
    "example_array.size"
   ]
  },
  {
   "cell_type": "code",
   "execution_count": 39,
   "metadata": {},
   "outputs": [
    {
     "data": {
      "text/plain": [
       "(250, 4)"
      ]
     },
     "execution_count": 39,
     "metadata": {},
     "output_type": "execute_result"
    }
   ],
   "source": [
    "example_array.shape"
   ]
  },
  {
   "cell_type": "code",
   "execution_count": 40,
   "metadata": {},
   "outputs": [
    {
     "data": {
      "text/plain": [
       "2"
      ]
     },
     "execution_count": 40,
     "metadata": {},
     "output_type": "execute_result"
    }
   ],
   "source": [
    "example_array.ndim"
   ]
  },
  {
   "cell_type": "markdown",
   "metadata": {},
   "source": [
    "*some numpy array methods*"
   ]
  },
  {
   "cell_type": "code",
   "execution_count": 41,
   "metadata": {},
   "outputs": [
    {
     "data": {
      "text/plain": [
       "20211.732891803964"
      ]
     },
     "execution_count": 41,
     "metadata": {},
     "output_type": "execute_result"
    }
   ],
   "source": [
    "example_array.sum()"
   ]
  },
  {
   "cell_type": "code",
   "execution_count": 42,
   "metadata": {},
   "outputs": [
    {
     "data": {
      "text/plain": [
       "4.263291537353336"
      ]
     },
     "execution_count": 42,
     "metadata": {},
     "output_type": "execute_result"
    }
   ],
   "source": [
    "example_array.min()"
   ]
  },
  {
   "cell_type": "code",
   "execution_count": 43,
   "metadata": {},
   "outputs": [
    {
     "data": {
      "text/plain": [
       "952"
      ]
     },
     "execution_count": 43,
     "metadata": {},
     "output_type": "execute_result"
    }
   ],
   "source": [
    "example_array.argmin()"
   ]
  },
  {
   "cell_type": "markdown",
   "metadata": {},
   "source": [
    "*some numpy functions*"
   ]
  },
  {
   "cell_type": "code",
   "execution_count": 44,
   "metadata": {},
   "outputs": [
    {
     "data": {
      "text/plain": [
       "20.211732891803965"
      ]
     },
     "execution_count": 44,
     "metadata": {},
     "output_type": "execute_result"
    }
   ],
   "source": [
    "numpy.mean(example_array)"
   ]
  },
  {
   "cell_type": "code",
   "execution_count": 45,
   "metadata": {},
   "outputs": [
    {
     "data": {
      "text/plain": [
       "4.263291537353336"
      ]
     },
     "execution_count": 45,
     "metadata": {},
     "output_type": "execute_result"
    }
   ],
   "source": [
    "numpy.min(example_array)"
   ]
  },
  {
   "cell_type": "code",
   "execution_count": 46,
   "metadata": {},
   "outputs": [
    {
     "data": {
      "text/plain": [
       "array([[16.16332226, 22.61899022, 22.62658481, 26.86682824],\n",
       "       [16.21794351, 17.94868233, 22.56885562, 29.6355884 ],\n",
       "       [17.17311527, 19.53714221, 20.29484613, 25.25076545],\n",
       "       [10.7874867 , 14.48340376, 15.89118984, 20.27256998],\n",
       "       [12.29552256, 18.21658452, 21.64722998, 27.70819581],\n",
       "       [18.05756626, 19.18223537, 19.54193198, 20.80451503],\n",
       "       [15.33467321, 17.37744879, 18.20685059, 18.61249625],\n",
       "       [ 9.41259958, 16.23475618, 19.99461851, 29.53280977],\n",
       "       [14.25040442, 16.77884396, 23.52656893, 24.0970557 ],\n",
       "       [12.46094317, 14.39020136, 15.74209149, 30.4481771 ],\n",
       "       [18.47954321, 18.58182827, 20.75191249, 24.99451852],\n",
       "       [13.84720536, 15.91746711, 25.3440053 , 26.62974207],\n",
       "       [14.61192755, 18.19975148, 20.67443999, 27.85370164],\n",
       "       [11.69647902, 17.34650058, 21.67905926, 23.16634044],\n",
       "       [14.56811905, 19.5720262 , 20.62375859, 25.96477946],\n",
       "       [17.66098541, 18.50408868, 22.08947205, 26.97493954],\n",
       "       [20.67342477, 23.34079707, 24.63464002, 25.5191232 ],\n",
       "       [15.1377895 , 18.28138579, 21.87361028, 31.16963416],\n",
       "       [14.21877067, 19.51556748, 22.34496897, 29.08870445],\n",
       "       [16.98672764, 19.55927934, 20.21088944, 26.63890414],\n",
       "       [16.12566306, 18.03056076, 21.42754067, 24.59631592],\n",
       "       [15.81251858, 19.06682246, 19.7391754 , 22.88366528],\n",
       "       [16.02056411, 24.35932987, 25.78881367, 32.81706795],\n",
       "       [18.03954607, 19.3492778 , 20.96980178, 29.77908893],\n",
       "       [14.57412544, 22.96377908, 24.5430287 , 29.74528335],\n",
       "       [16.22873726, 21.928549  , 25.39757745, 25.54575775],\n",
       "       [13.18375179, 19.46998189, 21.65865004, 32.77596826],\n",
       "       [17.06487981, 18.56635976, 21.00064128, 24.2468985 ],\n",
       "       [17.33325107, 20.57742346, 20.66339005, 21.30113086],\n",
       "       [17.44404804, 23.4694386 , 24.28699207, 26.6302048 ],\n",
       "       [18.73484202, 19.39999861, 21.73535805, 29.32961064],\n",
       "       [13.58028344, 19.22259702, 22.66139131, 26.44651074],\n",
       "       [ 7.56698769, 14.25545386, 15.81508836, 19.60824688],\n",
       "       [19.33646787, 20.58569861, 25.01127668, 28.37367997],\n",
       "       [16.7813505 , 18.79916295, 24.10482673, 26.86887793],\n",
       "       [ 7.47000992, 13.98284392, 21.84372428, 23.13600549],\n",
       "       [10.74743722, 14.68365785, 18.73258795, 20.18134467],\n",
       "       [19.99579308, 20.2366416 , 23.11911257, 26.92047119],\n",
       "       [18.81839254, 22.19825953, 22.94153468, 28.46366084],\n",
       "       [15.43123132, 21.44912645, 26.06708568, 28.86461513],\n",
       "       [12.18215755, 14.44121126, 16.11075985, 17.69671336],\n",
       "       [ 8.69198865, 16.24851952, 17.64423738, 32.32964313],\n",
       "       [21.00560539, 22.62476041, 25.03094866, 25.41217221],\n",
       "       [14.43907053, 20.85838024, 21.8694005 , 27.92038412],\n",
       "       [14.86092439, 19.84747175, 23.03603382, 27.46224883],\n",
       "       [11.53937104, 19.35994135, 25.08144324, 26.49449662],\n",
       "       [11.06906007, 17.88924312, 18.90038689, 22.83002864],\n",
       "       [17.06947781, 20.81478663, 21.22826281, 26.54051561],\n",
       "       [12.17233414, 14.91054605, 17.40741596, 23.58795916],\n",
       "       [11.22938288, 15.71301443, 22.09440554, 25.47249503],\n",
       "       [14.20853315, 14.99188543, 19.57287797, 21.29724393],\n",
       "       [10.17461254, 15.75939139, 20.5822474 , 24.57628312],\n",
       "       [18.05872959, 19.15445617, 20.71673711, 20.95706148],\n",
       "       [ 6.72136756, 22.92621028, 22.95038735, 24.70217303],\n",
       "       [ 6.24337026, 19.38233301, 20.34738193, 24.32104616],\n",
       "       [15.78729546, 16.75100137, 17.37252159, 21.99835611],\n",
       "       [15.70142074, 16.5756448 , 20.24695281, 23.55060379],\n",
       "       [20.23668672, 20.55808388, 24.42197709, 28.12244855],\n",
       "       [18.52757836, 20.41677343, 20.89824385, 29.49519426],\n",
       "       [10.23870469, 14.18363386, 17.18868458, 21.02427243],\n",
       "       [19.02430299, 23.14343323, 23.78407375, 26.51770537],\n",
       "       [14.36960919, 15.52752574, 19.7244741 , 21.66393019],\n",
       "       [16.71033898, 18.36272852, 20.27905833, 23.74936893],\n",
       "       [17.00176442, 24.39860503, 25.78876829, 28.24758813],\n",
       "       [20.42678266, 21.67967242, 23.69221291, 25.4267063 ],\n",
       "       [17.00927935, 17.3851404 , 20.35084701, 26.79512022],\n",
       "       [ 5.01206674, 11.45074312, 19.35674823, 22.35356751],\n",
       "       [15.47421446, 21.08018529, 22.01852685, 24.99566334],\n",
       "       [12.50636049, 17.27434108, 19.8303239 , 21.0117031 ],\n",
       "       [14.76394005, 16.01792539, 19.1134819 , 22.43703218],\n",
       "       [15.69702084, 19.17855812, 20.13389235, 21.52726988],\n",
       "       [ 9.63666313, 12.57225047, 27.81464796, 29.00096618],\n",
       "       [16.1899226 , 24.1161394 , 25.78285446, 26.45412246],\n",
       "       [18.47337215, 20.48722766, 21.67229218, 25.81657495],\n",
       "       [19.66252823, 20.30477126, 23.3506246 , 27.0595005 ],\n",
       "       [15.8561639 , 16.48583954, 18.34133739, 21.12148915],\n",
       "       [13.28453266, 17.08692516, 23.55067712, 29.11079778],\n",
       "       [12.20732761, 19.97026001, 22.72121599, 25.80519261],\n",
       "       [20.35951433, 21.85592425, 22.40228554, 24.43322596],\n",
       "       [17.53598857, 18.59783508, 20.86019455, 32.8785712 ],\n",
       "       [14.73384134, 19.95730486, 20.70897825, 29.97268707],\n",
       "       [17.17289024, 17.89339156, 18.37671543, 20.40137845],\n",
       "       [17.9606694 , 19.47582495, 20.47466548, 24.83835736],\n",
       "       [19.23655549, 22.3932631 , 25.88436152, 30.18168082],\n",
       "       [11.02085864, 14.68319045, 19.9734846 , 21.65543369],\n",
       "       [11.58713848, 22.11854944, 22.44581102, 27.03231793],\n",
       "       [20.2106015 , 22.17865662, 24.73120033, 30.40609041],\n",
       "       [14.24006994, 19.32672666, 22.70364286, 24.25727881],\n",
       "       [15.84972503, 22.29900663, 22.41384154, 25.52105855],\n",
       "       [13.23099671, 17.41485483, 18.14707334, 24.59135587],\n",
       "       [14.72407372, 15.46696487, 22.73223635, 25.97301495],\n",
       "       [11.43905015, 16.69579401, 22.46272738, 24.94502436],\n",
       "       [ 6.44827823, 13.00372546, 15.69374408, 19.67679199],\n",
       "       [16.75955785, 19.06660329, 25.55398436, 26.26839356],\n",
       "       [12.50490495, 15.38715018, 22.61335991, 25.24148251],\n",
       "       [12.10790852, 23.93366743, 25.51606722, 25.80717969],\n",
       "       [11.13705079, 20.22331325, 20.66653151, 21.15181162],\n",
       "       [ 9.97767124, 15.49634287, 16.28432335, 20.16346291],\n",
       "       [ 6.7641404 , 18.73500259, 19.03576796, 28.82444053],\n",
       "       [19.96176665, 22.86101344, 23.2292913 , 23.86943639],\n",
       "       [18.36217871, 18.75086152, 26.50995672, 27.09907638],\n",
       "       [14.2330095 , 18.31359702, 19.56310352, 19.97554101],\n",
       "       [ 9.24186258, 10.04373935, 13.52945785, 14.41584452],\n",
       "       [13.04118666, 17.84226774, 19.50599211, 26.13040034],\n",
       "       [17.56379866, 20.13359804, 21.49687517, 22.95336716],\n",
       "       [15.51746769, 22.62049767, 26.77251604, 32.5744413 ],\n",
       "       [15.56916268, 16.62596636, 22.53512581, 25.94661858],\n",
       "       [25.65156482, 27.8614487 , 28.14865648, 29.09992709],\n",
       "       [14.39065871, 19.06186056, 23.72032641, 24.40942303],\n",
       "       [17.45883307, 18.30866126, 20.97477452, 25.16181441],\n",
       "       [11.29921682, 16.62010586, 19.78380096, 22.02026168],\n",
       "       [18.20015598, 20.82432217, 26.75219709, 31.87061872],\n",
       "       [14.74710403, 18.86217027, 20.04853822, 21.18376447],\n",
       "       [17.05696263, 21.98891887, 22.51934371, 24.40706304],\n",
       "       [15.63540041, 17.93052867, 26.18821019, 26.520191  ],\n",
       "       [17.03490629, 20.49463308, 21.83759872, 22.62393983],\n",
       "       [12.25709047, 19.35340817, 21.23894024, 27.68200331],\n",
       "       [10.05128717, 19.59430413, 21.45464433, 21.59633135],\n",
       "       [16.0950335 , 19.57777109, 21.43495773, 30.2237058 ],\n",
       "       [17.04085178, 18.89202652, 22.45571926, 22.58550225],\n",
       "       [18.03237272, 20.3965155 , 28.29243613, 29.74030546],\n",
       "       [12.60706829, 19.31054161, 22.12420475, 22.21676214],\n",
       "       [13.48785235, 17.99816464, 23.94805249, 27.78678877],\n",
       "       [13.29732077, 16.64285341, 21.93044017, 26.11088671],\n",
       "       [21.65421368, 21.88922784, 26.62991708, 28.7393674 ],\n",
       "       [14.78339657, 20.94193194, 21.03695228, 30.26407085],\n",
       "       [16.00882211, 17.75691117, 20.94706529, 26.64713153],\n",
       "       [18.09469552, 21.18195724, 21.62891053, 24.54025009],\n",
       "       [15.74303375, 19.87653045, 20.49931999, 24.39320049],\n",
       "       [13.02097204, 13.76060419, 15.86075502, 17.23552395],\n",
       "       [14.66502436, 20.80725697, 21.8361122 , 22.28732408],\n",
       "       [12.14461836, 13.13487357, 24.1992698 , 26.92361115],\n",
       "       [16.0415952 , 17.93209815, 23.10701494, 24.59072382],\n",
       "       [13.05545166, 15.19479033, 18.06220094, 29.19510269],\n",
       "       [10.94094486, 23.06854879, 26.32214485, 28.69283692],\n",
       "       [19.05794581, 21.66314288, 23.91421334, 25.06385925],\n",
       "       [16.8230996 , 18.28254537, 26.83669642, 31.09156139],\n",
       "       [19.55331811, 20.10043932, 21.36360587, 24.39214831],\n",
       "       [16.53159635, 17.4896677 , 18.59225925, 18.98928359],\n",
       "       [18.76673503, 18.94506718, 23.28396698, 27.30753289],\n",
       "       [13.28897437, 22.34465152, 26.58564528, 27.25459301],\n",
       "       [11.91673497, 16.91709368, 21.8893471 , 25.1509553 ],\n",
       "       [16.8714169 , 20.01799384, 22.97288298, 23.96458945],\n",
       "       [13.95283786, 14.99664923, 20.51644152, 28.05017961],\n",
       "       [ 9.84062669, 19.48144389, 23.01557691, 24.18960547],\n",
       "       [13.44565994, 20.84839814, 28.60269167, 34.73969152],\n",
       "       [15.45842111, 17.11023314, 21.21943272, 23.91388339],\n",
       "       [14.89961987, 20.87416122, 21.33378674, 22.75489603],\n",
       "       [10.24198354, 13.73725464, 14.5687381 , 25.00979936],\n",
       "       [17.65459174, 24.28079103, 25.39331989, 31.42563874],\n",
       "       [ 9.67069138, 12.99873364, 17.26379963, 18.77452682],\n",
       "       [15.20281983, 24.57842372, 25.04648643, 27.36352793],\n",
       "       [15.70516814, 17.38475991, 19.57752547, 24.39336638],\n",
       "       [11.56497409, 18.78729628, 22.65966842, 23.38935938],\n",
       "       [12.36314035, 18.1628829 , 26.45963906, 26.59215474],\n",
       "       [15.66968   , 18.35032814, 18.64197892, 23.94167858],\n",
       "       [12.38869436, 14.90859879, 16.94507236, 20.41156286],\n",
       "       [20.58104176, 21.09146869, 21.58689043, 27.5259092 ],\n",
       "       [15.48176334, 18.14346476, 19.27249564, 29.57307708],\n",
       "       [14.13791803, 14.89539412, 22.45447366, 23.36105446],\n",
       "       [19.83890885, 20.93883085, 22.25276282, 27.78120465],\n",
       "       [17.40349677, 18.10005304, 20.4384947 , 23.17305931],\n",
       "       [20.24645791, 22.33474417, 25.07689144, 25.33717154],\n",
       "       [14.68042568, 25.55079331, 27.67423052, 30.14059489],\n",
       "       [12.32035153, 18.55683606, 20.15110442, 33.33085963],\n",
       "       [12.52029737, 20.56868884, 24.24175835, 29.62844153],\n",
       "       [10.98708116, 11.96072225, 14.28219328, 22.46375293],\n",
       "       [12.7445785 , 13.02751254, 13.66129489, 16.61378608],\n",
       "       [16.37376205, 16.62873257, 25.22712099, 26.25942221],\n",
       "       [12.80695605, 21.01531071, 21.26057489, 24.52060537],\n",
       "       [19.82890491, 21.2851802 , 26.87005841, 28.58384657],\n",
       "       [13.69080995, 17.81870858, 24.1498126 , 28.13771091],\n",
       "       [16.20757005, 17.48795115, 18.57697703, 21.5784779 ],\n",
       "       [15.72059339, 16.65763307, 22.0193548 , 27.50472028],\n",
       "       [16.06470349, 20.42010298, 26.69311754, 27.21682906],\n",
       "       [18.73918413, 25.20078082, 29.22692768, 30.14570809],\n",
       "       [14.47590037, 21.76908659, 23.28643993, 27.89948539],\n",
       "       [16.29848976, 16.51278382, 18.8521957 , 28.78603986],\n",
       "       [16.15939313, 17.64274611, 25.11444545, 26.87832273],\n",
       "       [12.8451152 , 17.95184872, 23.57368161, 28.39954446],\n",
       "       [15.71021017, 20.0105415 , 23.00087242, 26.14732342],\n",
       "       [20.36827402, 24.11121947, 27.23427899, 27.57872016],\n",
       "       [20.83328393, 24.9115014 , 25.61739854, 32.06645179],\n",
       "       [22.56115118, 23.26492961, 24.70680024, 25.68262326],\n",
       "       [18.97406497, 20.63144017, 21.90829217, 26.83013562],\n",
       "       [14.31468013, 17.85985951, 20.87458231, 26.06147709],\n",
       "       [17.92623283, 18.13434434, 22.40142882, 23.17179441],\n",
       "       [16.74775363, 17.86717978, 18.78572755, 22.69591267],\n",
       "       [12.33594246, 18.87894928, 24.85420154, 28.08048845],\n",
       "       [14.91080932, 20.54832674, 20.61221242, 23.72844762],\n",
       "       [14.85100683, 16.97949093, 20.89965855, 22.47944125],\n",
       "       [14.17292851, 15.90709895, 19.7944876 , 20.95644523],\n",
       "       [14.0832115 , 15.56747897, 21.07182555, 30.48588038],\n",
       "       [11.99542814, 15.03998336, 19.73160182, 19.73291982],\n",
       "       [14.62198348, 15.57472738, 15.64362524, 15.92178415],\n",
       "       [ 7.12334876, 17.1651483 , 18.9414065 , 25.23264976],\n",
       "       [14.90982052, 18.71062025, 20.71717827, 25.07887828],\n",
       "       [18.6567137 , 19.77004638, 21.98822613, 28.95699658],\n",
       "       [13.2815003 , 14.62517577, 21.6634538 , 21.88693532],\n",
       "       [15.68055755, 19.17098163, 21.59124208, 24.2455699 ],\n",
       "       [ 8.6123141 , 19.73562146, 21.07189465, 25.57370711],\n",
       "       [20.52962132, 23.56258692, 25.23109502, 27.63336523],\n",
       "       [14.16944607, 22.16879672, 25.27531979, 26.37912858],\n",
       "       [13.33978259, 16.85391833, 23.53863381, 27.60185792],\n",
       "       [13.09055415, 16.3911694 , 21.01829596, 26.66986337],\n",
       "       [15.19785513, 15.2755819 , 18.65132123, 33.43044122],\n",
       "       [13.23325623, 20.19678987, 20.5211915 , 23.03636687],\n",
       "       [18.32201541, 20.3009955 , 21.39723761, 26.79909618],\n",
       "       [14.82215331, 20.98306874, 21.46076303, 22.5510327 ],\n",
       "       [18.15904564, 18.47471657, 19.82292228, 21.96552052],\n",
       "       [17.05843935, 17.35412653, 18.96291109, 28.56855603],\n",
       "       [11.11455048, 17.91976828, 19.85536544, 24.0882853 ],\n",
       "       [13.27170809, 15.65271231, 17.31429611, 23.3347592 ],\n",
       "       [13.97476425, 15.51168638, 20.44788823, 23.52492246],\n",
       "       [12.74340073, 16.65822137, 23.05468189, 23.16363691],\n",
       "       [14.59823364, 22.97687074, 24.17180566, 24.93311719],\n",
       "       [15.07283752, 17.04273888, 20.38896482, 27.83683563],\n",
       "       [10.58101274, 18.0277358 , 20.24822096, 22.90278064],\n",
       "       [11.65241397, 12.6809824 , 17.4068897 , 26.8760695 ],\n",
       "       [17.63420784, 19.2045578 , 24.98067081, 25.02377186],\n",
       "       [11.80164125, 16.25640401, 18.50910694, 18.86455398],\n",
       "       [16.74923379, 16.776927  , 17.62551748, 19.18552043],\n",
       "       [17.36259784, 21.06382921, 22.48969628, 26.04460695],\n",
       "       [16.62718643, 18.89426543, 22.03550543, 24.38249123],\n",
       "       [ 9.82732846, 14.06252153, 19.73228416, 27.57425561],\n",
       "       [13.88799234, 17.61407863, 19.2771218 , 21.43921417],\n",
       "       [11.51645642, 16.51305907, 22.20893707, 22.8965138 ],\n",
       "       [18.55891069, 22.39286658, 28.14892091, 29.98300477],\n",
       "       [14.72475353, 16.00763518, 25.34665968, 25.83434063],\n",
       "       [18.10329664, 20.55776043, 24.40082981, 29.14127776],\n",
       "       [12.46300245, 22.30026276, 26.67050678, 27.72869173],\n",
       "       [ 7.31996225, 19.82993441, 20.54560508, 21.59720004],\n",
       "       [17.50913053, 19.46380672, 24.47901511, 27.87164114],\n",
       "       [17.38236078, 19.61336812, 22.62800779, 28.53321963],\n",
       "       [10.77329664, 13.54503581, 24.32799609, 30.88326618],\n",
       "       [14.0427557 , 16.75701396, 20.38225263, 25.67906286],\n",
       "       [ 9.78037541, 21.86595637, 25.6999431 , 25.76075655],\n",
       "       [10.06703651, 17.60267458, 18.12001313, 19.618097  ],\n",
       "       [ 4.26329154, 18.08749304, 19.51018694, 23.01601511],\n",
       "       [15.30527031, 15.64980135, 19.19076367, 19.96391897],\n",
       "       [14.61094286, 24.78259471, 26.3300653 , 28.62508851],\n",
       "       [18.85056242, 21.38829914, 22.58415034, 24.2241267 ],\n",
       "       [12.35450434, 12.70123324, 15.61325826, 25.61479395],\n",
       "       [ 7.44048456, 17.41756677, 18.77616171, 27.98122842],\n",
       "       [16.12598728, 16.22700975, 20.56678471, 23.02539293],\n",
       "       [17.63672553, 18.69467346, 29.15311278, 30.97689869],\n",
       "       [15.24429695, 18.91201975, 19.91768111, 23.50672176],\n",
       "       [17.13847618, 19.84986265, 23.24589765, 24.32835607],\n",
       "       [17.47001797, 19.82140581, 20.25128255, 26.66898271],\n",
       "       [16.34114551, 16.44751439, 17.92501304, 21.83426728]])"
      ]
     },
     "execution_count": 46,
     "metadata": {},
     "output_type": "execute_result"
    }
   ],
   "source": [
    "numpy.sort(example_array)"
   ]
  },
  {
   "cell_type": "code",
   "execution_count": 47,
   "metadata": {},
   "outputs": [
    {
     "data": {
      "text/plain": [
       "array([[ 4.26329154,  5.01206674,  6.44827823,  8.69198865],\n",
       "       [ 6.72136756,  6.24337026,  7.12334876,  9.63666313],\n",
       "       [ 7.56698769,  6.7641404 ,  7.31996225, 10.04373935],\n",
       "       [ 8.6123141 ,  7.47000992,  7.44048456, 10.06703651],\n",
       "       [10.23870469,  9.24186258,  9.67069138, 10.24198354],\n",
       "       [10.58101274,  9.41259958,  9.78037541, 11.06906007],\n",
       "       [10.7874867 ,  9.82732846,  9.84062669, 11.45074312],\n",
       "       [11.53937104, 10.05128717,  9.97767124, 11.56497409],\n",
       "       [11.58713848, 10.17461254, 10.77329664, 12.18215755],\n",
       "       [11.65241397, 10.74743722, 11.02085864, 12.35450434],\n",
       "       [11.96072225, 10.94094486, 11.13705079, 12.36314035],\n",
       "       [12.20732761, 10.98708116, 11.51645642, 12.38869436],\n",
       "       [12.29552256, 11.11455048, 11.80164125, 12.46300245],\n",
       "       [12.33594246, 11.22938288, 11.91673497, 12.50490495],\n",
       "       [12.46094317, 11.29921682, 12.14461836, 12.50636049],\n",
       "       [12.57225047, 11.43905015, 12.25709047, 12.52029737],\n",
       "       [12.60706829, 11.69647902, 12.32035153, 13.23325623],\n",
       "       [12.70123324, 11.99542814, 12.74340073, 13.84720536],\n",
       "       [12.80695605, 12.10790852, 12.7445785 , 14.0427557 ],\n",
       "       [12.8451152 , 12.17233414, 13.02097204, 14.06252153],\n",
       "       [13.02751254, 12.6809824 , 13.27170809, 14.0832115 ],\n",
       "       [13.04118666, 12.99873364, 13.28897437, 14.16944607],\n",
       "       [13.05545166, 13.00372546, 13.52945785, 14.18363386],\n",
       "       [13.09055415, 13.13487357, 13.95283786, 14.20853315],\n",
       "       [13.18375179, 13.2815003 , 13.97476425, 14.21877067],\n",
       "       [13.23099671, 13.44565994, 13.98284392, 14.2330095 ],\n",
       "       [13.28453266, 13.66129489, 14.24006994, 14.25040442],\n",
       "       [13.29732077, 13.69080995, 14.28219328, 14.57412544],\n",
       "       [13.33978259, 13.76060419, 14.31468013, 14.61094286],\n",
       "       [13.48785235, 13.88799234, 14.36960919, 14.61192755],\n",
       "       [13.54503581, 14.13791803, 14.43907053, 14.62517577],\n",
       "       [13.58028344, 14.25545386, 14.44121126, 14.72407372],\n",
       "       [13.73725464, 14.39020136, 14.47590037, 14.76394005],\n",
       "       [14.17292851, 14.59823364, 14.48340376, 14.89961987],\n",
       "       [14.39065871, 14.66502436, 14.5687381 , 15.24429695],\n",
       "       [14.41584452, 14.68042568, 14.62198348, 15.43123132],\n",
       "       [14.56811905, 14.72475353, 14.74710403, 15.45842111],\n",
       "       [14.68319045, 14.73384134, 14.78339657, 15.51746769],\n",
       "       [14.68365785, 14.99664923, 14.89539412, 15.56916268],\n",
       "       [14.82215331, 15.20281983, 14.91080932, 15.64362524],\n",
       "       [14.85100683, 15.2755819 , 15.03998336, 15.65271231],\n",
       "       [14.86092439, 15.30527031, 15.19479033, 15.68055755],\n",
       "       [14.90859879, 15.38715018, 15.19785513, 15.69374408],\n",
       "       [14.90982052, 15.47421446, 15.33467321, 15.72059339],\n",
       "       [14.91054605, 15.52752574, 15.46696487, 15.84972503],\n",
       "       [14.99188543, 15.56747897, 15.61325826, 15.8561639 ],\n",
       "       [15.07283752, 15.66968   , 15.63540041, 16.00763518],\n",
       "       [15.1377895 , 15.69702084, 15.71021017, 16.0950335 ],\n",
       "       [15.48176334, 15.70142074, 15.74209149, 16.20757005],\n",
       "       [15.49634287, 15.70516814, 15.75939139, 16.22873726],\n",
       "       [15.51168638, 15.74303375, 15.81508836, 16.25640401],\n",
       "       [15.57472738, 15.81251858, 16.16332226, 16.28432335],\n",
       "       [15.64980135, 15.89118984, 16.22700975, 16.37376205],\n",
       "       [15.71301443, 15.90709895, 16.24851952, 16.51278382],\n",
       "       [15.78729546, 15.92178415, 16.34114551, 16.53159635],\n",
       "       [15.86075502, 16.01792539, 16.62010586, 16.61378608],\n",
       "       [15.91746711, 16.02056411, 16.62596636, 16.65822137],\n",
       "       [16.00882211, 16.06470349, 16.62873257, 16.75100137],\n",
       "       [16.0415952 , 16.11075985, 16.64285341, 16.85391833],\n",
       "       [16.12566306, 16.12598728, 16.69579401, 16.97949093],\n",
       "       [16.15939313, 16.1899226 , 16.71033898, 17.00176442],\n",
       "       [16.21794351, 16.29848976, 16.75955785, 17.05696263],\n",
       "       [16.23475618, 16.3911694 , 16.776927  , 17.05843935],\n",
       "       [16.44751439, 16.62718643, 16.77884396, 17.06947781],\n",
       "       [16.48583954, 16.65763307, 16.8230996 , 17.08692516],\n",
       "       [16.51305907, 16.74775363, 17.04273888, 17.1651483 ],\n",
       "       [16.5756448 , 16.74923379, 17.11023314, 17.23552395],\n",
       "       [16.75701396, 16.7813505 , 17.18868458, 17.26379963],\n",
       "       [16.8714169 , 16.91709368, 17.34650058, 17.33325107],\n",
       "       [17.00927935, 16.94507236, 17.35412653, 17.41756677],\n",
       "       [17.13847618, 16.98672764, 17.38475991, 17.75691117],\n",
       "       [17.27434108, 17.03490629, 17.3851404 , 17.81870858],\n",
       "       [17.38236078, 17.04085178, 17.4068897 , 17.92501304],\n",
       "       [17.40349677, 17.06487981, 17.40741596, 17.99816464],\n",
       "       [17.45883307, 17.17289024, 17.44404804, 18.05872959],\n",
       "       [17.53598857, 17.17311527, 17.48795115, 18.06220094],\n",
       "       [17.56379866, 17.31429611, 17.60267458, 18.08749304],\n",
       "       [17.62551748, 17.36259784, 17.61407863, 18.14346476],\n",
       "       [17.63672553, 17.37252159, 17.64274611, 18.14707334],\n",
       "       [17.64423738, 17.37744879, 17.65459174, 18.20015598],\n",
       "       [17.66098541, 17.41485483, 17.86717978, 18.20685059],\n",
       "       [17.69671336, 17.47001797, 17.89339156, 18.50408868],\n",
       "       [17.85985951, 17.4896677 , 17.95184872, 18.52757836],\n",
       "       [17.88924312, 17.50913053, 18.10005304, 18.58182827],\n",
       "       [17.91976828, 17.63420784, 18.10329664, 18.64197892],\n",
       "       [17.92623283, 17.84226774, 18.15904564, 18.65132123],\n",
       "       [17.93052867, 17.93209815, 18.1628829 , 18.69467346],\n",
       "       [17.9606694 , 17.94868233, 18.30866126, 18.73258795],\n",
       "       [18.28254537, 18.0277358 , 18.34133739, 18.73500259],\n",
       "       [18.37671543, 18.03056076, 18.35032814, 18.73918413],\n",
       "       [18.47337215, 18.03237272, 18.36217871, 18.75086152],\n",
       "       [18.47954321, 18.03954607, 18.56635976, 18.78572755],\n",
       "       [18.55891069, 18.05756626, 18.71062025, 18.79916295],\n",
       "       [18.59225925, 18.09469552, 18.76673503, 18.81839254],\n",
       "       [18.61249625, 18.12001313, 18.78729628, 18.85056242],\n",
       "       [18.73484202, 18.13434434, 18.8521957 , 18.87894928],\n",
       "       [18.77452682, 18.19975148, 18.89426543, 18.89202652],\n",
       "       [18.86455398, 18.21658452, 18.90038689, 19.02430299],\n",
       "       [18.91201975, 18.28138579, 18.98928359, 19.05794581],\n",
       "       [18.9414065 , 18.31359702, 19.03576796, 19.06660329],\n",
       "       [18.94506718, 18.32201541, 19.06186056, 19.17855812],\n",
       "       [18.97406497, 18.36272852, 19.06682246, 19.18552043],\n",
       "       [19.1134819 , 18.47471657, 19.17098163, 19.2045578 ],\n",
       "       [19.2771218 , 18.50910694, 19.18223537, 19.23655549],\n",
       "       [19.3492778 , 18.55683606, 19.19076367, 19.32672666],\n",
       "       [19.46380672, 18.57697703, 19.27249564, 19.47582495],\n",
       "       [19.55927934, 18.59783508, 19.35674823, 19.53714221],\n",
       "       [19.57752547, 18.6567137 , 19.38233301, 19.54193198],\n",
       "       [19.618097  , 18.77616171, 19.39999861, 19.5720262 ],\n",
       "       [19.67679199, 18.86217027, 19.46998189, 19.59430413],\n",
       "       [19.73160182, 18.96291109, 19.50599211, 19.60824688],\n",
       "       [19.78380096, 19.15445617, 19.56310352, 19.66252823],\n",
       "       [19.82140581, 19.22259702, 19.57287797, 19.7244741 ],\n",
       "       [19.82292228, 19.31054161, 19.73228416, 19.73291982],\n",
       "       [19.82890491, 19.33646787, 19.73562146, 19.7391754 ],\n",
       "       [19.87653045, 19.35340817, 19.83890885, 19.77004638],\n",
       "       [19.96176665, 19.35994135, 19.84747175, 19.7944876 ],\n",
       "       [19.97554101, 19.48144389, 19.85536544, 19.96391897],\n",
       "       [20.0105415 , 19.51018694, 19.91768111, 19.97026001],\n",
       "       [20.04853822, 19.51556748, 19.95730486, 20.10043932],\n",
       "       [20.13389235, 19.55331811, 19.99461851, 20.15110442],\n",
       "       [20.2366416 , 19.57777109, 20.01799384, 20.2106015 ],\n",
       "       [20.24645791, 19.61336812, 20.18134467, 20.22331325],\n",
       "       [20.29484613, 19.82993441, 20.21088944, 20.23668672],\n",
       "       [20.3009955 , 19.8303239 , 20.41156286, 20.24695281],\n",
       "       [20.3965155 , 19.84986265, 20.42010298, 20.24822096],\n",
       "       [20.49463308, 19.9734846 , 20.47466548, 20.25128255],\n",
       "       [20.51644152, 19.99579308, 20.58569861, 20.27256998],\n",
       "       [20.5211915 , 20.13359804, 20.62375859, 20.27905833],\n",
       "       [20.52962132, 20.16346291, 20.66339005, 20.34738193],\n",
       "       [20.55808388, 20.19678987, 20.75191249, 20.35951433],\n",
       "       [20.56678471, 20.30477126, 20.81478663, 20.36827402],\n",
       "       [20.66653151, 20.35084701, 20.82432217, 20.40137845],\n",
       "       [20.67342477, 20.38225263, 20.86019455, 20.42678266],\n",
       "       [20.67443999, 20.38896482, 20.95644523, 20.4384947 ],\n",
       "       [20.71673711, 20.41677343, 20.95706148, 20.49931999],\n",
       "       [20.80451503, 20.44788823, 20.96980178, 20.54560508],\n",
       "       [20.85838024, 20.48722766, 21.0117031 , 20.55776043],\n",
       "       [20.87416122, 20.54832674, 21.01829596, 20.58104176],\n",
       "       [20.89824385, 20.56868884, 21.06382921, 20.5822474 ],\n",
       "       [20.93883085, 20.57742346, 21.18195724, 20.61221242],\n",
       "       [21.00064128, 20.89965855, 21.2851802 , 20.63144017],\n",
       "       [21.03695228, 20.94706529, 21.36360587, 20.70897825],\n",
       "       [21.07182555, 20.97477452, 21.42754067, 20.71717827],\n",
       "       [21.08018529, 21.02427243, 21.52726988, 20.80725697],\n",
       "       [21.09146869, 21.07189465, 21.58689043, 20.83328393],\n",
       "       [21.30113086, 21.12148915, 21.59633135, 20.84839814],\n",
       "       [21.43495773, 21.15181162, 21.64722998, 20.87458231],\n",
       "       [21.45464433, 21.21943272, 21.83759872, 20.94193194],\n",
       "       [21.5784779 , 21.22826281, 21.88693532, 20.98306874],\n",
       "       [21.59720004, 21.26057489, 21.90829217, 21.00560539],\n",
       "       [21.62891053, 21.29724393, 21.928549  , 21.01531071],\n",
       "       [21.66314288, 21.33378674, 21.99835611, 21.18376447],\n",
       "       [21.6634538 , 21.38829914, 22.01852685, 21.23894024],\n",
       "       [21.66393019, 21.44912645, 22.12420475, 21.39723761],\n",
       "       [21.67967242, 21.46076303, 22.28732408, 21.43921417],\n",
       "       [21.76908659, 21.59124208, 22.29900663, 21.49687517],\n",
       "       [21.8361122 , 21.65421368, 22.39286658, 21.65543369],\n",
       "       [21.85592425, 21.73535805, 22.40142882, 21.65865004],\n",
       "       [21.88922784, 21.83426728, 22.43703218, 21.67229218],\n",
       "       [21.8893471 , 21.98891887, 22.47944125, 21.67905926],\n",
       "       [21.98822613, 22.08947205, 22.5510327 , 21.84372428],\n",
       "       [22.0193548 , 22.11854944, 22.58415034, 21.86595637],\n",
       "       [22.30026276, 22.16879672, 22.58550225, 21.8694005 ],\n",
       "       [22.34496897, 22.17865662, 22.62049767, 21.87361028],\n",
       "       [22.35356751, 22.19825953, 22.75489603, 21.93044017],\n",
       "       [22.3932631 , 22.20893707, 22.86101344, 21.96552052],\n",
       "       [22.41384154, 22.25276282, 22.90278064, 22.02026168],\n",
       "       [22.45447366, 22.40228554, 22.95336716, 22.03550543],\n",
       "       [22.45571926, 22.53512581, 23.01601511, 22.09440554],\n",
       "       [22.46272738, 22.61899022, 23.03636687, 22.21676214],\n",
       "       [22.48969628, 22.70364286, 23.10701494, 22.33474417],\n",
       "       [22.51934371, 22.72121599, 23.11911257, 22.34465152],\n",
       "       [22.56115118, 22.73223635, 23.14343323, 22.44581102],\n",
       "       [22.61335991, 22.83002864, 23.24589765, 22.46375293],\n",
       "       [22.62476041, 22.95038735, 23.55060379, 22.56885562],\n",
       "       [22.65966842, 22.96377908, 24.10482673, 22.62393983],\n",
       "       [22.69591267, 23.00087242, 24.1161394 , 22.62658481],\n",
       "       [22.88366528, 23.05468189, 24.24175835, 22.62800779],\n",
       "       [22.94153468, 23.17305931, 24.35932987, 22.66139131],\n",
       "       [23.01557691, 23.28396698, 24.39320049, 22.8965138 ],\n",
       "       [23.06854879, 23.34079707, 24.39860503, 22.92621028],\n",
       "       [23.13600549, 23.38935938, 24.40706304, 22.97288298],\n",
       "       [23.16363691, 23.50672176, 24.42197709, 22.97687074],\n",
       "       [23.16634044, 23.53863381, 24.43322596, 23.02539293],\n",
       "       [23.3347592 , 23.55067712, 24.52060537, 23.03603382],\n",
       "       [23.3506246 , 23.69221291, 24.59135587, 23.17179441],\n",
       "       [23.4694386 , 23.78407375, 24.63464002, 23.2292913 ],\n",
       "       [23.52656893, 23.86943639, 24.70217303, 23.26492961],\n",
       "       [23.72844762, 23.91421334, 24.70680024, 23.28643993],\n",
       "       [23.74936893, 23.94805249, 24.73120033, 23.36105446],\n",
       "       [23.91388339, 23.96458945, 24.78259471, 23.52492246],\n",
       "       [23.93366743, 24.0970557 , 24.93311719, 23.56258692],\n",
       "       [23.94167858, 24.28699207, 24.98067081, 23.57368161],\n",
       "       [24.11121947, 24.32799609, 25.04648643, 23.58795916],\n",
       "       [24.1498126 , 24.40082981, 25.06385925, 23.72032641],\n",
       "       [24.17180566, 24.40942303, 25.07689144, 24.0882853 ],\n",
       "       [24.1992698 , 24.83835736, 25.20078082, 24.18960547],\n",
       "       [24.2241267 , 24.85420154, 25.24148251, 24.2468985 ],\n",
       "       [24.2455699 , 24.9115014 , 25.25076545, 24.28079103],\n",
       "       [24.25727881, 24.99451852, 25.27531979, 24.32835607],\n",
       "       [24.32104616, 25.00979936, 25.34665968, 24.39336638],\n",
       "       [24.38249123, 25.03094866, 25.41217221, 24.47901511],\n",
       "       [24.39214831, 25.07887828, 25.4267063 , 24.54025009],\n",
       "       [24.5430287 , 25.23109502, 25.47249503, 24.57842372],\n",
       "       [24.57628312, 25.23264976, 25.51606722, 24.59072382],\n",
       "       [25.01127668, 25.33717154, 25.61739854, 24.59631592],\n",
       "       [25.02377186, 25.3440053 , 25.67906286, 24.94502436],\n",
       "       [25.22712099, 25.39331989, 25.80519261, 24.99566334],\n",
       "       [25.54575775, 25.39757745, 25.81657495, 25.08144324],\n",
       "       [25.6999431 , 25.52105855, 26.32214485, 25.11444545],\n",
       "       [25.78285446, 25.55398436, 26.44651074, 25.1509553 ],\n",
       "       [25.78881367, 25.61479395, 26.49449662, 25.16181441],\n",
       "       [25.83434063, 25.65156482, 26.62974207, 25.5191232 ],\n",
       "       [25.94661858, 25.68262326, 26.64713153, 25.55079331],\n",
       "       [25.97301495, 25.76075655, 26.66898271, 25.57370711],\n",
       "       [26.06708568, 25.78876829, 26.79909618, 25.80717969],\n",
       "       [26.26839356, 25.88436152, 26.97493954, 26.04460695],\n",
       "       [26.3300653 , 25.96477946, 27.03231793, 26.13040034],\n",
       "       [26.37912858, 26.06147709, 27.0595005 , 26.14732342],\n",
       "       [26.51770537, 26.11088671, 27.23427899, 26.45412246],\n",
       "       [26.54051561, 26.18821019, 27.50472028, 26.520191  ],\n",
       "       [26.58564528, 26.25942221, 27.60185792, 26.62991708],\n",
       "       [26.59215474, 26.45963906, 27.63336523, 26.6302048 ],\n",
       "       [26.75219709, 26.50995672, 27.72869173, 26.63890414],\n",
       "       [26.77251604, 26.67050678, 27.78678877, 26.66986337],\n",
       "       [26.86682824, 26.83013562, 27.81464796, 26.69311754],\n",
       "       [26.86887793, 26.83669642, 27.85370164, 26.79512022],\n",
       "       [27.09907638, 26.87005841, 27.87164114, 26.8760695 ],\n",
       "       [27.21682906, 26.87832273, 28.08048845, 26.92047119],\n",
       "       [27.36352793, 27.25459301, 28.13771091, 26.92361115],\n",
       "       [27.57425561, 27.46224883, 28.46366084, 27.30753289],\n",
       "       [27.67423052, 27.5259092 , 28.53321963, 27.70819581],\n",
       "       [27.68200331, 27.57872016, 28.7393674 , 27.78120465],\n",
       "       [27.8614487 , 27.89948539, 28.86461513, 27.83683563],\n",
       "       [27.98122842, 27.92038412, 28.95699658, 28.05017961],\n",
       "       [28.24758813, 28.12244855, 29.08870445, 28.14865648],\n",
       "       [28.56855603, 28.14892091, 29.09992709, 28.29243613],\n",
       "       [28.60269167, 28.39954446, 29.11079778, 28.37367997],\n",
       "       [28.78603986, 28.62508851, 29.15311278, 28.58384657],\n",
       "       [28.82444053, 29.00096618, 29.49519426, 28.69283692],\n",
       "       [29.14127776, 29.19510269, 29.6355884 , 29.32961064],\n",
       "       [29.22692768, 29.57307708, 29.74030546, 29.53280977],\n",
       "       [29.62844153, 30.14570809, 29.74528335, 29.77908893],\n",
       "       [29.97268707, 30.26407085, 30.14059489, 29.98300477],\n",
       "       [30.40609041, 30.97689869, 30.18168082, 30.4481771 ],\n",
       "       [31.42563874, 31.87061872, 30.2237058 , 30.88326618],\n",
       "       [32.06645179, 32.32964313, 30.48588038, 31.09156139],\n",
       "       [33.33085963, 32.5744413 , 31.16963416, 32.81706795],\n",
       "       [33.43044122, 32.77596826, 34.73969152, 32.8785712 ]])"
      ]
     },
     "execution_count": 47,
     "metadata": {},
     "output_type": "execute_result"
    }
   ],
   "source": [
    "numpy.sort(example_array, axis = 0)"
   ]
  },
  {
   "cell_type": "code",
   "execution_count": 48,
   "metadata": {},
   "outputs": [
    {
     "data": {
      "text/plain": [
       "20211.732891803964"
      ]
     },
     "execution_count": 48,
     "metadata": {},
     "output_type": "execute_result"
    }
   ],
   "source": [
    "numpy.sum(example_array)"
   ]
  },
  {
   "cell_type": "markdown",
   "metadata": {},
   "source": [
    "*Sum of columns*"
   ]
  },
  {
   "cell_type": "code",
   "execution_count": 49,
   "metadata": {},
   "outputs": [
    {
     "data": {
      "text/plain": [
       "array([5026.41362019, 4992.10763168, 5121.43863496, 5071.77300498])"
      ]
     },
     "execution_count": 49,
     "metadata": {},
     "output_type": "execute_result"
    }
   ],
   "source": [
    "numpy.sum(example_array, axis = 0)"
   ]
  },
  {
   "cell_type": "markdown",
   "metadata": {},
   "source": [
    "*Sum of rows*"
   ]
  },
  {
   "cell_type": "code",
   "execution_count": 50,
   "metadata": {
    "scrolled": true
   },
   "outputs": [
    {
     "data": {
      "text/plain": [
       "array([ 88.27572554,  86.37106986,  82.25586907,  61.43465028,\n",
       "        79.86753288,  77.58624863,  69.53146883,  75.17478404,\n",
       "        78.65287302,  73.04141313,  82.8078025 ,  81.73841984,\n",
       "        81.33982067,  73.8883793 ,  80.72868331,  85.22948568,\n",
       "        94.16798506,  86.46241974,  85.16801157,  83.39580056,\n",
       "        80.18008041,  77.50218173,  98.98577559,  88.13771458,\n",
       "        91.82621658,  89.10062146,  87.08835198,  80.87877935,\n",
       "        79.87519544,  91.83068349,  89.19980932,  81.91078251,\n",
       "        57.24577679,  93.30712312,  86.55421811,  66.43258361,\n",
       "        64.34502769,  90.27201843,  92.4218476 ,  91.81205858,\n",
       "        60.43084201,  74.91438868,  94.07348668,  85.08723539,\n",
       "        85.20667879,  82.47525225,  70.68871873,  85.65304285,\n",
       "        68.07825532,  74.50929788,  70.07054049,  71.09253445,\n",
       "        78.88698435,  77.30013823,  70.29413136,  71.90917452,\n",
       "        76.07462214,  93.33919623,  89.3377899 ,  62.63529555,\n",
       "        92.46951534,  71.28553922,  79.10149475,  95.43672586,\n",
       "        91.22537429,  81.54038698,  58.17312559,  83.56858994,\n",
       "        70.62272856,  72.33237951,  76.5367412 ,  79.02452774,\n",
       "        92.54303891,  86.44946694,  90.37742458,  71.80482997,\n",
       "        83.03293271,  80.70399623,  89.05095007,  89.87258941,\n",
       "        85.37281151,  73.84437569,  82.74951719,  97.69586092,\n",
       "        67.33296738,  83.18381688,  97.52654886,  80.52771827,\n",
       "        86.08363175,  73.38428076,  78.89628989,  75.54259589,\n",
       "        54.82253976,  87.64853907,  75.74689755,  87.36482286,\n",
       "        73.17870717,  61.92180038,  73.35935148,  89.92150779,\n",
       "        90.72207333,  72.08525105,  47.2309043 ,  76.51984685,\n",
       "        82.14763903,  97.48492271,  80.67687342, 110.76159709,\n",
       "        81.58226871,  81.90408326,  69.72338532,  97.64729396,\n",
       "        74.84157699,  85.97228826,  86.27433028,  81.99107792,\n",
       "        80.53144219,  72.69656698,  87.33146812,  80.9740998 ,\n",
       "        96.46162982,  76.25857679,  83.22085825,  77.98150107,\n",
       "        98.912726  ,  87.02635164,  81.3599301 ,  85.44581337,\n",
       "        80.51208468,  59.87785521,  79.59571762,  76.40237289,\n",
       "        81.67143211,  75.50754562,  89.02447541,  89.69916128,\n",
       "        93.03390277,  85.40951162,  71.60280689,  88.30330207,\n",
       "        89.47386418,  75.87413106,  83.82688318,  77.51610821,\n",
       "        76.52725297,  97.63644126,  77.70197036,  79.86246385,\n",
       "        63.55777563,  98.75434139,  58.70775147,  92.19125792,\n",
       "        77.06081989,  76.40129816,  83.57781705,  76.60366563,\n",
       "        64.65392837,  90.78531008,  82.47080081,  74.84884028,\n",
       "        90.81170717,  79.11510383,  92.99526505,  98.0460444 ,\n",
       "        84.35915164,  86.9591861 ,  59.69374962,  56.04717201,\n",
       "        84.48903783,  79.60344703,  96.56799009,  83.79704204,\n",
       "        73.85097612,  81.90230153,  90.39475308, 103.31260072,\n",
       "        87.43091227,  80.44950914,  85.79490742,  82.77018999,\n",
       "        84.8689475 ,  99.29249264, 103.42863566,  96.21550429,\n",
       "        88.34393292,  79.11059903,  81.6338004 ,  76.09657363,\n",
       "        84.14958174,  79.79979609,  75.20959755,  70.8309603 ,\n",
       "        81.2083964 ,  66.49993314,  61.76212024,  68.46255332,\n",
       "        79.41649732,  89.37198279,  71.45706519,  80.68835116,\n",
       "        74.99353732,  96.95666849,  87.99269115,  81.33419265,\n",
       "        77.16988288,  82.55519947,  76.98760447,  86.8193447 ,\n",
       "        79.81701778,  78.422205  ,  81.944033  ,  72.9779695 ,\n",
       "        69.57347571,  73.45926132,  75.61994091,  86.68002723,\n",
       "        80.34137685,  71.75975014,  68.61635557,  86.8432083 ,\n",
       "        65.43170618,  70.3371987 ,  86.96073028,  81.93944853,\n",
       "        71.19638977,  72.21840693,  73.13496636,  99.08370295,\n",
       "        81.91338902,  92.20316464,  89.16246373,  69.29270179,\n",
       "        89.3235935 ,  88.15695633,  79.52959471,  76.86108515,\n",
       "        83.10703143,  65.40782122,  64.87698662,  70.10975429,\n",
       "        94.34869137,  87.0471386 ,  66.28378978,  71.61544145,\n",
       "        75.94517468,  96.46141046,  77.58071958,  84.56259256,\n",
       "        84.21168904,  72.54794022])"
      ]
     },
     "execution_count": 50,
     "metadata": {},
     "output_type": "execute_result"
    }
   ],
   "source": [
    "numpy.sum(example_array, axis = 1)"
   ]
  },
  {
   "cell_type": "code",
   "execution_count": 51,
   "metadata": {},
   "outputs": [
    {
     "data": {
      "text/plain": [
       "250"
      ]
     },
     "execution_count": 51,
     "metadata": {},
     "output_type": "execute_result"
    }
   ],
   "source": [
    "len(numpy.sum(example_array, axis = 1))"
   ]
  },
  {
   "cell_type": "markdown",
   "metadata": {},
   "source": [
    "# data types"
   ]
  },
  {
   "cell_type": "code",
   "execution_count": 52,
   "metadata": {},
   "outputs": [
    {
     "data": {
      "text/plain": [
       "[32, 'Manuel', ['BCP', 'Belcorp'], 0.25]"
      ]
     },
     "execution_count": 52,
     "metadata": {},
     "output_type": "execute_result"
    }
   ],
   "source": [
    "python_list = [32, \"Manuel\", [\"BCP\", \"Belcorp\"], 0.25]\n",
    "python_list"
   ]
  },
  {
   "cell_type": "code",
   "execution_count": 53,
   "metadata": {},
   "outputs": [
    {
     "data": {
      "text/plain": [
       "[int, str, list, float]"
      ]
     },
     "execution_count": 53,
     "metadata": {},
     "output_type": "execute_result"
    }
   ],
   "source": [
    "[type(value) for value in python_list]"
   ]
  },
  {
   "cell_type": "code",
   "execution_count": 54,
   "metadata": {},
   "outputs": [
    {
     "data": {
      "text/plain": [
       "array([32, 'Manuel', list(['BCP', 'Belcorp']), 0.25], dtype=object)"
      ]
     },
     "execution_count": 54,
     "metadata": {},
     "output_type": "execute_result"
    }
   ],
   "source": [
    "numpy_array = numpy.array(python_list)\n",
    "numpy_array"
   ]
  },
  {
   "cell_type": "code",
   "execution_count": 55,
   "metadata": {},
   "outputs": [
    {
     "data": {
      "text/plain": [
       "[int, str, list, float]"
      ]
     },
     "execution_count": 55,
     "metadata": {},
     "output_type": "execute_result"
    }
   ],
   "source": [
    "[type(value) for value in numpy_array]"
   ]
  },
  {
   "cell_type": "code",
   "execution_count": 56,
   "metadata": {},
   "outputs": [],
   "source": [
    "# numpy_array / 5"
   ]
  },
  {
   "cell_type": "markdown",
   "metadata": {},
   "source": [
    "The numpy array takes the most \"defensive\" data type and assigns it to all the values given, This could generate some unwanted behaviour."
   ]
  },
  {
   "cell_type": "markdown",
   "metadata": {},
   "source": [
    "# performance comparison"
   ]
  },
  {
   "cell_type": "markdown",
   "metadata": {},
   "source": [
    "What happens when we have really long lists?"
   ]
  },
  {
   "cell_type": "code",
   "execution_count": 57,
   "metadata": {},
   "outputs": [],
   "source": [
    "lista = list(range(100000000))\n",
    "numpy_array = numpy.array(lista)"
   ]
  },
  {
   "cell_type": "code",
   "execution_count": 58,
   "metadata": {},
   "outputs": [
    {
     "data": {
      "text/plain": [
       "(100000000, 100000000)"
      ]
     },
     "execution_count": 58,
     "metadata": {},
     "output_type": "execute_result"
    }
   ],
   "source": [
    "len(lista), len(numpy_array)"
   ]
  },
  {
   "cell_type": "markdown",
   "metadata": {},
   "source": [
    "*How much time does it take to calculate the sum*"
   ]
  },
  {
   "cell_type": "code",
   "execution_count": 59,
   "metadata": {},
   "outputs": [
    {
     "name": "stdout",
     "output_type": "stream",
     "text": [
      "3.86 s ± 41.4 ms per loop (mean ± std. dev. of 7 runs, 1 loop each)\n"
     ]
    }
   ],
   "source": [
    "def suma(lista):\n",
    "    suma = 0\n",
    "\n",
    "    for value in lista:\n",
    "        suma += value \n",
    "    \n",
    "    return suma\n",
    "\n",
    "%timeit suma(lista)"
   ]
  },
  {
   "cell_type": "code",
   "execution_count": 60,
   "metadata": {},
   "outputs": [
    {
     "name": "stdout",
     "output_type": "stream",
     "text": [
      "459 ms ± 16.4 ms per loop (mean ± std. dev. of 7 runs, 1 loop each)\n"
     ]
    }
   ],
   "source": [
    "%timeit sum(lista)"
   ]
  },
  {
   "cell_type": "code",
   "execution_count": 61,
   "metadata": {},
   "outputs": [
    {
     "name": "stdout",
     "output_type": "stream",
     "text": [
      "49.5 ms ± 1.59 ms per loop (mean ± std. dev. of 7 runs, 10 loops each)\n"
     ]
    }
   ],
   "source": [
    "%timeit numpy.sum(numpy_array)"
   ]
  },
  {
   "cell_type": "markdown",
   "metadata": {},
   "source": [
    "# performance comparison for different sizes of input"
   ]
  },
  {
   "cell_type": "markdown",
   "metadata": {},
   "source": [
    "*What happens with the execution times when the number of elements increases?*"
   ]
  },
  {
   "cell_type": "markdown",
   "metadata": {},
   "source": [
    "We're adding the elements of some lists, first we add a list of numbers from 1 to 10, then from 1 to 100 and so on until the numbers from 1 to 100 millions. We're going to evaluate how the execution times change for the sums."
   ]
  },
  {
   "cell_type": "code",
   "execution_count": 62,
   "metadata": {},
   "outputs": [],
   "source": [
    "inputs = [range(10**value) for value in range(1, 9)]"
   ]
  },
  {
   "cell_type": "code",
   "execution_count": 63,
   "metadata": {},
   "outputs": [
    {
     "name": "stdout",
     "output_type": "stream",
     "text": [
      "145 ns ± 1 ns per loop (mean ± std. dev. of 7 runs, 10000000 loops each)\n",
      "3.17 µs ± 52.9 ns per loop (mean ± std. dev. of 7 runs, 100000 loops each)\n",
      "703 ns ± 6.26 ns per loop (mean ± std. dev. of 7 runs, 1000000 loops each)\n",
      "3.22 µs ± 78.8 ns per loop (mean ± std. dev. of 7 runs, 100000 loops each)\n",
      "13.1 µs ± 546 ns per loop (mean ± std. dev. of 7 runs, 100000 loops each)\n",
      "3.62 µs ± 33.2 ns per loop (mean ± std. dev. of 7 runs, 100000 loops each)\n",
      "153 µs ± 9.87 µs per loop (mean ± std. dev. of 7 runs, 10000 loops each)\n",
      "7.38 µs ± 240 ns per loop (mean ± std. dev. of 7 runs, 100000 loops each)\n",
      "1.49 ms ± 48.7 µs per loop (mean ± std. dev. of 7 runs, 1000 loops each)\n",
      "39.1 µs ± 331 ns per loop (mean ± std. dev. of 7 runs, 10000 loops each)\n",
      "14.6 ms ± 141 µs per loop (mean ± std. dev. of 7 runs, 100 loops each)\n",
      "413 µs ± 3.27 µs per loop (mean ± std. dev. of 7 runs, 1000 loops each)\n",
      "147 ms ± 3.05 ms per loop (mean ± std. dev. of 7 runs, 10 loops each)\n",
      "5.37 ms ± 292 µs per loop (mean ± std. dev. of 7 runs, 100 loops each)\n",
      "1.44 s ± 11.9 ms per loop (mean ± std. dev. of 7 runs, 1 loop each)\n",
      "49.2 ms ± 962 µs per loop (mean ± std. dev. of 7 runs, 10 loops each)\n"
     ]
    }
   ],
   "source": [
    "lists_times =[]\n",
    "numpy_times = []\n",
    "\n",
    "for numbers in inputs:\n",
    "    \n",
    "    python_list = numbers\n",
    "    numpy_array = numpy.array(python_list)\n",
    "    \n",
    "    avg_list_sum = %timeit -o sum(python_list)\n",
    "    avg_numpy_sum = %timeit -o numpy.sum(numpy_array)\n",
    "    \n",
    "    lists_times.append(avg_list_sum.average)\n",
    "    numpy_times.append(avg_numpy_sum.average)"
   ]
  },
  {
   "cell_type": "code",
   "execution_count": 64,
   "metadata": {},
   "outputs": [
    {
     "data": {
      "image/png": "[encoded data removed]",
      "text/plain": [
       "<Figure size 720x360 with 1 Axes>"
      ]
     },
     "metadata": {
      "needs_background": "light"
     },
     "output_type": "display_data"
    }
   ],
   "source": [
    "number_elements = [len(value) for value in inputs]\n",
    "\n",
    "plt.figure(figsize = (10,5))\n",
    "\n",
    "seaborn.lineplot(x = number_elements, y = lists_times)\n",
    "seaborn.lineplot(x = number_elements, y = numpy_times)\n",
    "\n",
    "_ = plt.title(\"Execution time of sum for lists and numpy arrays\")\n",
    "_ = plt.xlabel(\"Number of records\")\n",
    "_ = plt.ylabel(\"Execution time\")"
   ]
  },
  {
   "cell_type": "markdown",
   "metadata": {},
   "source": [
    "The execution time for numpy arrays doesn't change that much when whe increase the number of records compared to the execution time of pythons lists."
   ]
  },
  {
   "cell_type": "markdown",
   "metadata": {},
   "source": [
    "<img src= \"https://i.redd.it/nklty63uzav41.png\">"
   ]
  },
  {
   "cell_type": "markdown",
   "metadata": {},
   "source": [
    "# be careful with copies"
   ]
  },
  {
   "cell_type": "markdown",
   "metadata": {},
   "source": [
    "*Case 1*"
   ]
  },
  {
   "cell_type": "code",
   "execution_count": 65,
   "metadata": {},
   "outputs": [
    {
     "data": {
      "text/plain": [
       "(array(1), array(1))"
      ]
     },
     "execution_count": 65,
     "metadata": {},
     "output_type": "execute_result"
    }
   ],
   "source": [
    "a = numpy.array(1)\n",
    "b = a\n",
    "\n",
    "a,b"
   ]
  },
  {
   "cell_type": "code",
   "execution_count": 66,
   "metadata": {},
   "outputs": [
    {
     "data": {
      "text/plain": [
       "(array(1), 2)"
      ]
     },
     "execution_count": 66,
     "metadata": {},
     "output_type": "execute_result"
    }
   ],
   "source": [
    "b = b + 1\n",
    "a, b"
   ]
  },
  {
   "cell_type": "markdown",
   "metadata": {},
   "source": [
    "*Case 2*"
   ]
  },
  {
   "cell_type": "code",
   "execution_count": 67,
   "metadata": {},
   "outputs": [],
   "source": [
    "a = numpy.array(1)\n",
    "b = a"
   ]
  },
  {
   "cell_type": "code",
   "execution_count": 68,
   "metadata": {},
   "outputs": [
    {
     "data": {
      "text/plain": [
       "(array(2), array(2))"
      ]
     },
     "execution_count": 68,
     "metadata": {},
     "output_type": "execute_result"
    }
   ],
   "source": [
    "b += 1\n",
    "a,b "
   ]
  },
  {
   "cell_type": "markdown",
   "metadata": {},
   "source": [
    "*Case 3*"
   ]
  },
  {
   "cell_type": "code",
   "execution_count": 69,
   "metadata": {},
   "outputs": [
    {
     "data": {
      "text/plain": [
       "(array(1), array(1))"
      ]
     },
     "execution_count": 69,
     "metadata": {},
     "output_type": "execute_result"
    }
   ],
   "source": [
    "a = numpy.array(1)\n",
    "b = a.copy()\n",
    "a, b"
   ]
  },
  {
   "cell_type": "code",
   "execution_count": 70,
   "metadata": {},
   "outputs": [
    {
     "data": {
      "text/plain": [
       "(array(1), array(2))"
      ]
     },
     "execution_count": 70,
     "metadata": {},
     "output_type": "execute_result"
    }
   ],
   "source": [
    "b +=1\n",
    "a, b"
   ]
  },
  {
   "cell_type": "markdown",
   "metadata": {},
   "source": [
    "<img src=\"https://i.redd.it/xz0rz5gw4lf21.png\">"
   ]
  },
  {
   "cell_type": "markdown",
   "metadata": {},
   "source": [
    "When making a copy of a numpy array it's better to be safe using the `.copy()` method"
   ]
  },
  {
   "cell_type": "markdown",
   "metadata": {},
   "source": [
    "# Contact"
   ]
  },
  {
   "cell_type": "markdown",
   "metadata": {},
   "source": [
    "Manuel Montoya \n",
    "* Mail: manuel.montoya@pucp.edu.pe\n",
    "* Linkedin: https://www.linkedin.com/in/manuel-montoya-gamio/"
   ]
  },
  {
   "cell_type": "markdown",
   "metadata": {},
   "source": [
    "Numpy pain: https://www.reddit.com/r/ProgrammerHumor/comments/aouyj1/when_you_program_python_for_a_year_and_realize/ "
   ]
  }
 ],
 "metadata": {
  "kernelspec": {
   "display_name": "Python 3",
   "language": "python",
   "name": "python3"
  },
  "language_info": {
   "codemirror_mode": {
    "name": "ipython",
    "version": 3
   },
   "file_extension": ".py",
   "mimetype": "text/x-python",
   "name": "python",
   "nbconvert_exporter": "python",
   "pygments_lexer": "ipython3",
   "version": "3.7.4"
  }
 },
 "nbformat": 4,
 "nbformat_minor": 2
}
