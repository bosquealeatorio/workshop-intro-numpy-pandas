{
 "cells": [
  {
   "cell_type": "markdown",
   "metadata": {},
   "source": [
    "# getting started with numpy"
   ]
  },
  {
   "cell_type": "markdown",
   "metadata": {},
   "source": [
    "**Aditional resources:**\n",
    "\n",
    "* Python Data Science Handbook: https://jakevdp.github.io/PythonDataScienceHandbook/\n",
    "* Numpy quickstart tutorial: https://numpy.org/doc/stable/user/quickstart.html"
   ]
  },
  {
   "cell_type": "markdown",
   "metadata": {},
   "source": [
    "<img src = \"https://images-cdn.9gag.com/photo/aXYdEYV_460s.jpg\">"
   ]
  },
  {
   "cell_type": "markdown",
   "metadata": {},
   "source": [
    "# libraries"
   ]
  },
  {
   "cell_type": "code",
   "execution_count": 1,
   "metadata": {},
   "outputs": [
    {
     "name": "stderr",
     "output_type": "stream",
     "text": [
      "/Users/manuel/opt/anaconda3/lib/python3.7/site-packages/statsmodels/tools/_testing.py:19: FutureWarning: pandas.util.testing is deprecated. Use the functions in the public API at pandas.testing instead.\n",
      "  import pandas.util.testing as tm\n"
     ]
    }
   ],
   "source": [
    "import numpy\n",
    "\n",
    "import seaborn\n",
    "import matplotlib.pyplot as plt\n",
    "\n",
    "import time\n",
    "import sys\n",
    "import os"
   ]
  },
  {
   "cell_type": "code",
   "execution_count": 2,
   "metadata": {},
   "outputs": [
    {
     "data": {
      "text/plain": [
       "'1.17.2'"
      ]
     },
     "execution_count": 2,
     "metadata": {},
     "output_type": "execute_result"
    }
   ],
   "source": [
    "numpy.__version__"
   ]
  },
  {
   "cell_type": "markdown",
   "metadata": {},
   "source": [
    "# python lists and numpy arrays"
   ]
  },
  {
   "cell_type": "code",
   "execution_count": 3,
   "metadata": {},
   "outputs": [],
   "source": [
    "python_list = [56,  69,  88,  67, 113,  96,  73,  83, 172, 173]\n",
    "\n",
    "numpy_array = numpy.array(python_list)\n",
    "\n",
    "numpy_array_float = numpy.array(python_list, dtype = 'float')"
   ]
  },
  {
   "cell_type": "code",
   "execution_count": 4,
   "metadata": {},
   "outputs": [
    {
     "data": {
      "text/plain": [
       "[56, 69, 88, 67, 113, 96, 73, 83, 172, 173]"
      ]
     },
     "execution_count": 4,
     "metadata": {},
     "output_type": "execute_result"
    }
   ],
   "source": [
    "python_list"
   ]
  },
  {
   "cell_type": "code",
   "execution_count": 5,
   "metadata": {},
   "outputs": [
    {
     "data": {
      "text/plain": [
       "array([ 56,  69,  88,  67, 113,  96,  73,  83, 172, 173])"
      ]
     },
     "execution_count": 5,
     "metadata": {},
     "output_type": "execute_result"
    }
   ],
   "source": [
    "numpy_array"
   ]
  },
  {
   "cell_type": "code",
   "execution_count": 6,
   "metadata": {},
   "outputs": [
    {
     "data": {
      "text/plain": [
       "array([ 56.,  69.,  88.,  67., 113.,  96.,  73.,  83., 172., 173.])"
      ]
     },
     "execution_count": 6,
     "metadata": {},
     "output_type": "execute_result"
    }
   ],
   "source": [
    "numpy_array_float"
   ]
  },
  {
   "cell_type": "code",
   "execution_count": 7,
   "metadata": {},
   "outputs": [
    {
     "data": {
      "text/plain": [
       "list"
      ]
     },
     "execution_count": 7,
     "metadata": {},
     "output_type": "execute_result"
    }
   ],
   "source": [
    "type(python_list)"
   ]
  },
  {
   "cell_type": "code",
   "execution_count": 8,
   "metadata": {},
   "outputs": [
    {
     "data": {
      "text/plain": [
       "(numpy.ndarray, numpy.ndarray)"
      ]
     },
     "execution_count": 8,
     "metadata": {},
     "output_type": "execute_result"
    }
   ],
   "source": [
    "type(numpy_array), type(numpy_array_float)"
   ]
  },
  {
   "cell_type": "markdown",
   "metadata": {},
   "source": [
    "*First element of each collection*"
   ]
  },
  {
   "cell_type": "code",
   "execution_count": 9,
   "metadata": {},
   "outputs": [
    {
     "data": {
      "text/plain": [
       "(56, 56, 56.0)"
      ]
     },
     "execution_count": 9,
     "metadata": {},
     "output_type": "execute_result"
    }
   ],
   "source": [
    "python_list[0], numpy_array[0], numpy_array_float[0]"
   ]
  },
  {
   "cell_type": "code",
   "execution_count": 10,
   "metadata": {},
   "outputs": [
    {
     "data": {
      "text/plain": [
       "(int, numpy.int64, numpy.float64)"
      ]
     },
     "execution_count": 10,
     "metadata": {},
     "output_type": "execute_result"
    }
   ],
   "source": [
    "type(python_list[0]), type(numpy_array[0]), type(numpy_array_float[0])"
   ]
  },
  {
   "cell_type": "markdown",
   "metadata": {},
   "source": [
    "*Sum of elements*"
   ]
  },
  {
   "cell_type": "code",
   "execution_count": 11,
   "metadata": {},
   "outputs": [
    {
     "data": {
      "text/plain": [
       "(990, 990, 990)"
      ]
     },
     "execution_count": 11,
     "metadata": {},
     "output_type": "execute_result"
    }
   ],
   "source": [
    "sum(python_list), sum(numpy_array), numpy.sum(numpy_array)"
   ]
  },
  {
   "cell_type": "markdown",
   "metadata": {},
   "source": [
    "*Minimum and maximum*"
   ]
  },
  {
   "cell_type": "code",
   "execution_count": 12,
   "metadata": {},
   "outputs": [
    {
     "data": {
      "text/plain": [
       "(56, 56, 56)"
      ]
     },
     "execution_count": 12,
     "metadata": {},
     "output_type": "execute_result"
    }
   ],
   "source": [
    "min(python_list), numpy.min(numpy_array), numpy_array.min()"
   ]
  },
  {
   "cell_type": "markdown",
   "metadata": {},
   "source": [
    "# simple operations"
   ]
  },
  {
   "cell_type": "markdown",
   "metadata": {},
   "source": [
    "*Reciprocate: 1/n for every item*"
   ]
  },
  {
   "cell_type": "code",
   "execution_count": 13,
   "metadata": {},
   "outputs": [
    {
     "data": {
      "text/plain": [
       "[0.017857142857142856,\n",
       " 0.014492753623188406,\n",
       " 0.011363636363636364,\n",
       " 0.014925373134328358,\n",
       " 0.008849557522123894,\n",
       " 0.010416666666666666,\n",
       " 0.0136986301369863,\n",
       " 0.012048192771084338,\n",
       " 0.005813953488372093,\n",
       " 0.005780346820809248]"
      ]
     },
     "execution_count": 13,
     "metadata": {},
     "output_type": "execute_result"
    }
   ],
   "source": [
    "rec_python_list = []\n",
    "\n",
    "for value in python_list:\n",
    "    rec_python_list.append( 1 / value)\n",
    "    \n",
    "rec_python_list"
   ]
  },
  {
   "cell_type": "code",
   "execution_count": 14,
   "metadata": {},
   "outputs": [
    {
     "data": {
      "text/plain": [
       "[0.017857142857142856,\n",
       " 0.014492753623188406,\n",
       " 0.011363636363636364,\n",
       " 0.014925373134328358,\n",
       " 0.008849557522123894,\n",
       " 0.010416666666666666,\n",
       " 0.0136986301369863,\n",
       " 0.012048192771084338,\n",
       " 0.005813953488372093,\n",
       " 0.005780346820809248]"
      ]
     },
     "execution_count": 14,
     "metadata": {},
     "output_type": "execute_result"
    }
   ],
   "source": [
    "[1/value for value in python_list]"
   ]
  },
  {
   "cell_type": "code",
   "execution_count": 15,
   "metadata": {},
   "outputs": [],
   "source": [
    "# 1 / python_list"
   ]
  },
  {
   "cell_type": "markdown",
   "metadata": {},
   "source": [
    "However, numpy arrays allow for this kind of behaviour"
   ]
  },
  {
   "cell_type": "code",
   "execution_count": 16,
   "metadata": {},
   "outputs": [
    {
     "data": {
      "text/plain": [
       "array([ 56,  69,  88,  67, 113,  96,  73,  83, 172, 173])"
      ]
     },
     "execution_count": 16,
     "metadata": {},
     "output_type": "execute_result"
    }
   ],
   "source": [
    "numpy_array"
   ]
  },
  {
   "cell_type": "code",
   "execution_count": 17,
   "metadata": {},
   "outputs": [
    {
     "data": {
      "text/plain": [
       "array([0.01785714, 0.01449275, 0.01136364, 0.01492537, 0.00884956,\n",
       "       0.01041667, 0.01369863, 0.01204819, 0.00581395, 0.00578035])"
      ]
     },
     "execution_count": 17,
     "metadata": {},
     "output_type": "execute_result"
    }
   ],
   "source": [
    "1 / numpy_array"
   ]
  },
  {
   "cell_type": "markdown",
   "metadata": {},
   "source": [
    "*Adding two lists and numpy arrays*"
   ]
  },
  {
   "cell_type": "code",
   "execution_count": 18,
   "metadata": {},
   "outputs": [
    {
     "data": {
      "text/plain": [
       "[1, 2, 3, 4, 5, 10, 20, 30, 40, 50]"
      ]
     },
     "execution_count": 18,
     "metadata": {},
     "output_type": "execute_result"
    }
   ],
   "source": [
    "a = [1,2,3,4,5]\n",
    "b = [10,20,30,40,50]\n",
    "\n",
    "a + b"
   ]
  },
  {
   "cell_type": "code",
   "execution_count": 19,
   "metadata": {},
   "outputs": [
    {
     "data": {
      "text/plain": [
       "array([11, 22, 33, 44, 55])"
      ]
     },
     "execution_count": 19,
     "metadata": {},
     "output_type": "execute_result"
    }
   ],
   "source": [
    "a = numpy.array([1,2,3,4,5])\n",
    "b = numpy.array([10,20,30,40,50])\n",
    "\n",
    "a + b"
   ]
  },
  {
   "cell_type": "markdown",
   "metadata": {},
   "source": [
    "*Multiplication*"
   ]
  },
  {
   "cell_type": "code",
   "execution_count": 20,
   "metadata": {},
   "outputs": [
    {
     "name": "stdout",
     "output_type": "stream",
     "text": [
      "[56, 69, 88, 67, 113, 96, 73, 83, 172, 173]\n",
      "[56, 69, 88, 67, 113, 96, 73, 83, 172, 173, 56, 69, 88, 67, 113, 96, 73, 83, 172, 173]\n"
     ]
    }
   ],
   "source": [
    "print(python_list)\n",
    "\n",
    "print(python_list * 2)"
   ]
  },
  {
   "cell_type": "code",
   "execution_count": 21,
   "metadata": {},
   "outputs": [
    {
     "name": "stdout",
     "output_type": "stream",
     "text": [
      "[ 56  69  88  67 113  96  73  83 172 173]\n",
      "[112 138 176 134 226 192 146 166 344 346]\n"
     ]
    }
   ],
   "source": [
    "print(numpy_array)\n",
    "print(numpy_array * 2)"
   ]
  },
  {
   "cell_type": "markdown",
   "metadata": {},
   "source": [
    "# more complicated operations"
   ]
  },
  {
   "cell_type": "markdown",
   "metadata": {},
   "source": [
    "*Sigmoid function*\n",
    "\\begin{equation*}\n",
    "\\frac{1}{(1+e^{-x})}\n",
    "\\end{equation*}"
   ]
  },
  {
   "cell_type": "code",
   "execution_count": 22,
   "metadata": {},
   "outputs": [
    {
     "data": {
      "text/plain": [
       "array([[0, 1, 2, 3, 4, 5, 6, 7, 8, 9]])"
      ]
     },
     "execution_count": 22,
     "metadata": {},
     "output_type": "execute_result"
    }
   ],
   "source": [
    "numpy_array = numpy.array([range(10)])\n",
    "numpy_array"
   ]
  },
  {
   "cell_type": "code",
   "execution_count": 23,
   "metadata": {},
   "outputs": [
    {
     "data": {
      "text/plain": [
       "2.718281828459045"
      ]
     },
     "execution_count": 23,
     "metadata": {},
     "output_type": "execute_result"
    }
   ],
   "source": [
    "numpy.exp(1)"
   ]
  },
  {
   "cell_type": "code",
   "execution_count": 24,
   "metadata": {},
   "outputs": [
    {
     "data": {
      "text/plain": [
       "array([[1.00000000e+00, 3.67879441e-01, 1.35335283e-01, 4.97870684e-02,\n",
       "        1.83156389e-02, 6.73794700e-03, 2.47875218e-03, 9.11881966e-04,\n",
       "        3.35462628e-04, 1.23409804e-04]])"
      ]
     },
     "execution_count": 24,
     "metadata": {},
     "output_type": "execute_result"
    }
   ],
   "source": [
    "numpy.exp(-numpy_array)"
   ]
  },
  {
   "cell_type": "code",
   "execution_count": 25,
   "metadata": {},
   "outputs": [
    {
     "data": {
      "text/plain": [
       "array([[0.5       , 0.73105858, 0.88079708, 0.95257413, 0.98201379,\n",
       "        0.99330715, 0.99752738, 0.99908895, 0.99966465, 0.99987661]])"
      ]
     },
     "execution_count": 25,
     "metadata": {},
     "output_type": "execute_result"
    }
   ],
   "source": [
    "sigmoid = 1 / (1 + numpy.exp(-numpy_array))\n",
    "sigmoid"
   ]
  },
  {
   "cell_type": "markdown",
   "metadata": {},
   "source": [
    "# multidimensional arrays"
   ]
  },
  {
   "cell_type": "code",
   "execution_count": 26,
   "metadata": {},
   "outputs": [
    {
     "data": {
      "text/plain": [
       "array([[ 0,  1,  2,  3,  4],\n",
       "       [ 5,  6,  7,  8,  9],\n",
       "       [10, 11, 12, 13, 14],\n",
       "       [15, 16, 17, 18, 19],\n",
       "       [20, 21, 22, 23, 24],\n",
       "       [25, 26, 27, 28, 29],\n",
       "       [30, 31, 32, 33, 34],\n",
       "       [35, 36, 37, 38, 39],\n",
       "       [40, 41, 42, 43, 44],\n",
       "       [45, 46, 47, 48, 49],\n",
       "       [50, 51, 52, 53, 54],\n",
       "       [55, 56, 57, 58, 59],\n",
       "       [60, 61, 62, 63, 64],\n",
       "       [65, 66, 67, 68, 69],\n",
       "       [70, 71, 72, 73, 74],\n",
       "       [75, 76, 77, 78, 79],\n",
       "       [80, 81, 82, 83, 84],\n",
       "       [85, 86, 87, 88, 89],\n",
       "       [90, 91, 92, 93, 94],\n",
       "       [95, 96, 97, 98, 99]])"
      ]
     },
     "execution_count": 26,
     "metadata": {},
     "output_type": "execute_result"
    }
   ],
   "source": [
    "numpy_array = numpy.array(range(100))\n",
    "numpy_array = numpy_array.reshape(20,5)\n",
    "numpy_array"
   ]
  },
  {
   "cell_type": "code",
   "execution_count": 27,
   "metadata": {},
   "outputs": [
    {
     "data": {
      "text/plain": [
       "28"
      ]
     },
     "execution_count": 27,
     "metadata": {},
     "output_type": "execute_result"
    }
   ],
   "source": [
    "numpy_array[5,3]"
   ]
  },
  {
   "cell_type": "code",
   "execution_count": 28,
   "metadata": {},
   "outputs": [
    {
     "data": {
      "text/plain": [
       "array([[ 0,  5, 10, 15, 20, 25, 30, 35, 40, 45, 50, 55, 60, 65, 70, 75,\n",
       "        80, 85, 90, 95],\n",
       "       [ 1,  6, 11, 16, 21, 26, 31, 36, 41, 46, 51, 56, 61, 66, 71, 76,\n",
       "        81, 86, 91, 96],\n",
       "       [ 2,  7, 12, 17, 22, 27, 32, 37, 42, 47, 52, 57, 62, 67, 72, 77,\n",
       "        82, 87, 92, 97],\n",
       "       [ 3,  8, 13, 18, 23, 28, 33, 38, 43, 48, 53, 58, 63, 68, 73, 78,\n",
       "        83, 88, 93, 98],\n",
       "       [ 4,  9, 14, 19, 24, 29, 34, 39, 44, 49, 54, 59, 64, 69, 74, 79,\n",
       "        84, 89, 94, 99]])"
      ]
     },
     "execution_count": 28,
     "metadata": {},
     "output_type": "execute_result"
    }
   ],
   "source": [
    "numpy_array.T"
   ]
  },
  {
   "cell_type": "code",
   "execution_count": 29,
   "metadata": {},
   "outputs": [
    {
     "data": {
      "text/plain": [
       "array([[   30,    80,   130,   180,   230,   280,   330,   380,   430,\n",
       "          480,   530,   580,   630,   680,   730,   780,   830,   880,\n",
       "          930,   980],\n",
       "       [   80,   255,   430,   605,   780,   955,  1130,  1305,  1480,\n",
       "         1655,  1830,  2005,  2180,  2355,  2530,  2705,  2880,  3055,\n",
       "         3230,  3405],\n",
       "       [  130,   430,   730,  1030,  1330,  1630,  1930,  2230,  2530,\n",
       "         2830,  3130,  3430,  3730,  4030,  4330,  4630,  4930,  5230,\n",
       "         5530,  5830],\n",
       "       [  180,   605,  1030,  1455,  1880,  2305,  2730,  3155,  3580,\n",
       "         4005,  4430,  4855,  5280,  5705,  6130,  6555,  6980,  7405,\n",
       "         7830,  8255],\n",
       "       [  230,   780,  1330,  1880,  2430,  2980,  3530,  4080,  4630,\n",
       "         5180,  5730,  6280,  6830,  7380,  7930,  8480,  9030,  9580,\n",
       "        10130, 10680],\n",
       "       [  280,   955,  1630,  2305,  2980,  3655,  4330,  5005,  5680,\n",
       "         6355,  7030,  7705,  8380,  9055,  9730, 10405, 11080, 11755,\n",
       "        12430, 13105],\n",
       "       [  330,  1130,  1930,  2730,  3530,  4330,  5130,  5930,  6730,\n",
       "         7530,  8330,  9130,  9930, 10730, 11530, 12330, 13130, 13930,\n",
       "        14730, 15530],\n",
       "       [  380,  1305,  2230,  3155,  4080,  5005,  5930,  6855,  7780,\n",
       "         8705,  9630, 10555, 11480, 12405, 13330, 14255, 15180, 16105,\n",
       "        17030, 17955],\n",
       "       [  430,  1480,  2530,  3580,  4630,  5680,  6730,  7780,  8830,\n",
       "         9880, 10930, 11980, 13030, 14080, 15130, 16180, 17230, 18280,\n",
       "        19330, 20380],\n",
       "       [  480,  1655,  2830,  4005,  5180,  6355,  7530,  8705,  9880,\n",
       "        11055, 12230, 13405, 14580, 15755, 16930, 18105, 19280, 20455,\n",
       "        21630, 22805],\n",
       "       [  530,  1830,  3130,  4430,  5730,  7030,  8330,  9630, 10930,\n",
       "        12230, 13530, 14830, 16130, 17430, 18730, 20030, 21330, 22630,\n",
       "        23930, 25230],\n",
       "       [  580,  2005,  3430,  4855,  6280,  7705,  9130, 10555, 11980,\n",
       "        13405, 14830, 16255, 17680, 19105, 20530, 21955, 23380, 24805,\n",
       "        26230, 27655],\n",
       "       [  630,  2180,  3730,  5280,  6830,  8380,  9930, 11480, 13030,\n",
       "        14580, 16130, 17680, 19230, 20780, 22330, 23880, 25430, 26980,\n",
       "        28530, 30080],\n",
       "       [  680,  2355,  4030,  5705,  7380,  9055, 10730, 12405, 14080,\n",
       "        15755, 17430, 19105, 20780, 22455, 24130, 25805, 27480, 29155,\n",
       "        30830, 32505],\n",
       "       [  730,  2530,  4330,  6130,  7930,  9730, 11530, 13330, 15130,\n",
       "        16930, 18730, 20530, 22330, 24130, 25930, 27730, 29530, 31330,\n",
       "        33130, 34930],\n",
       "       [  780,  2705,  4630,  6555,  8480, 10405, 12330, 14255, 16180,\n",
       "        18105, 20030, 21955, 23880, 25805, 27730, 29655, 31580, 33505,\n",
       "        35430, 37355],\n",
       "       [  830,  2880,  4930,  6980,  9030, 11080, 13130, 15180, 17230,\n",
       "        19280, 21330, 23380, 25430, 27480, 29530, 31580, 33630, 35680,\n",
       "        37730, 39780],\n",
       "       [  880,  3055,  5230,  7405,  9580, 11755, 13930, 16105, 18280,\n",
       "        20455, 22630, 24805, 26980, 29155, 31330, 33505, 35680, 37855,\n",
       "        40030, 42205],\n",
       "       [  930,  3230,  5530,  7830, 10130, 12430, 14730, 17030, 19330,\n",
       "        21630, 23930, 26230, 28530, 30830, 33130, 35430, 37730, 40030,\n",
       "        42330, 44630],\n",
       "       [  980,  3405,  5830,  8255, 10680, 13105, 15530, 17955, 20380,\n",
       "        22805, 25230, 27655, 30080, 32505, 34930, 37355, 39780, 42205,\n",
       "        44630, 47055]])"
      ]
     },
     "execution_count": 29,
     "metadata": {},
     "output_type": "execute_result"
    }
   ],
   "source": [
    "numpy_array @ numpy_array.T"
   ]
  },
  {
   "cell_type": "code",
   "execution_count": 30,
   "metadata": {},
   "outputs": [
    {
     "data": {
      "text/plain": [
       "array([[   30,    80,   130,   180,   230,   280,   330,   380,   430,\n",
       "          480,   530,   580,   630,   680,   730,   780,   830,   880,\n",
       "          930,   980],\n",
       "       [   80,   255,   430,   605,   780,   955,  1130,  1305,  1480,\n",
       "         1655,  1830,  2005,  2180,  2355,  2530,  2705,  2880,  3055,\n",
       "         3230,  3405],\n",
       "       [  130,   430,   730,  1030,  1330,  1630,  1930,  2230,  2530,\n",
       "         2830,  3130,  3430,  3730,  4030,  4330,  4630,  4930,  5230,\n",
       "         5530,  5830],\n",
       "       [  180,   605,  1030,  1455,  1880,  2305,  2730,  3155,  3580,\n",
       "         4005,  4430,  4855,  5280,  5705,  6130,  6555,  6980,  7405,\n",
       "         7830,  8255],\n",
       "       [  230,   780,  1330,  1880,  2430,  2980,  3530,  4080,  4630,\n",
       "         5180,  5730,  6280,  6830,  7380,  7930,  8480,  9030,  9580,\n",
       "        10130, 10680],\n",
       "       [  280,   955,  1630,  2305,  2980,  3655,  4330,  5005,  5680,\n",
       "         6355,  7030,  7705,  8380,  9055,  9730, 10405, 11080, 11755,\n",
       "        12430, 13105],\n",
       "       [  330,  1130,  1930,  2730,  3530,  4330,  5130,  5930,  6730,\n",
       "         7530,  8330,  9130,  9930, 10730, 11530, 12330, 13130, 13930,\n",
       "        14730, 15530],\n",
       "       [  380,  1305,  2230,  3155,  4080,  5005,  5930,  6855,  7780,\n",
       "         8705,  9630, 10555, 11480, 12405, 13330, 14255, 15180, 16105,\n",
       "        17030, 17955],\n",
       "       [  430,  1480,  2530,  3580,  4630,  5680,  6730,  7780,  8830,\n",
       "         9880, 10930, 11980, 13030, 14080, 15130, 16180, 17230, 18280,\n",
       "        19330, 20380],\n",
       "       [  480,  1655,  2830,  4005,  5180,  6355,  7530,  8705,  9880,\n",
       "        11055, 12230, 13405, 14580, 15755, 16930, 18105, 19280, 20455,\n",
       "        21630, 22805],\n",
       "       [  530,  1830,  3130,  4430,  5730,  7030,  8330,  9630, 10930,\n",
       "        12230, 13530, 14830, 16130, 17430, 18730, 20030, 21330, 22630,\n",
       "        23930, 25230],\n",
       "       [  580,  2005,  3430,  4855,  6280,  7705,  9130, 10555, 11980,\n",
       "        13405, 14830, 16255, 17680, 19105, 20530, 21955, 23380, 24805,\n",
       "        26230, 27655],\n",
       "       [  630,  2180,  3730,  5280,  6830,  8380,  9930, 11480, 13030,\n",
       "        14580, 16130, 17680, 19230, 20780, 22330, 23880, 25430, 26980,\n",
       "        28530, 30080],\n",
       "       [  680,  2355,  4030,  5705,  7380,  9055, 10730, 12405, 14080,\n",
       "        15755, 17430, 19105, 20780, 22455, 24130, 25805, 27480, 29155,\n",
       "        30830, 32505],\n",
       "       [  730,  2530,  4330,  6130,  7930,  9730, 11530, 13330, 15130,\n",
       "        16930, 18730, 20530, 22330, 24130, 25930, 27730, 29530, 31330,\n",
       "        33130, 34930],\n",
       "       [  780,  2705,  4630,  6555,  8480, 10405, 12330, 14255, 16180,\n",
       "        18105, 20030, 21955, 23880, 25805, 27730, 29655, 31580, 33505,\n",
       "        35430, 37355],\n",
       "       [  830,  2880,  4930,  6980,  9030, 11080, 13130, 15180, 17230,\n",
       "        19280, 21330, 23380, 25430, 27480, 29530, 31580, 33630, 35680,\n",
       "        37730, 39780],\n",
       "       [  880,  3055,  5230,  7405,  9580, 11755, 13930, 16105, 18280,\n",
       "        20455, 22630, 24805, 26980, 29155, 31330, 33505, 35680, 37855,\n",
       "        40030, 42205],\n",
       "       [  930,  3230,  5530,  7830, 10130, 12430, 14730, 17030, 19330,\n",
       "        21630, 23930, 26230, 28530, 30830, 33130, 35430, 37730, 40030,\n",
       "        42330, 44630],\n",
       "       [  980,  3405,  5830,  8255, 10680, 13105, 15530, 17955, 20380,\n",
       "        22805, 25230, 27655, 30080, 32505, 34930, 37355, 39780, 42205,\n",
       "        44630, 47055]])"
      ]
     },
     "execution_count": 30,
     "metadata": {},
     "output_type": "execute_result"
    }
   ],
   "source": [
    "numpy.matmul(numpy_array, numpy_array.T)"
   ]
  },
  {
   "cell_type": "markdown",
   "metadata": {},
   "source": [
    "# indexing"
   ]
  },
  {
   "cell_type": "code",
   "execution_count": 31,
   "metadata": {},
   "outputs": [
    {
     "data": {
      "text/plain": [
       "array([ 28, 166, 258, 426, 411, 247, 391, 252, 179, 390, 198, 416, 320,\n",
       "       418, 146, 331, 204, 424,  99, 455, 255, 223, 198,  78, 301, 188,\n",
       "       227, 189, 205,  23, 285, 272, 285, 313, 325,  98, 499, 497, 216,\n",
       "       315,  75, 256, 270, 442, 355, 305,  77, 168,  23, 495, 231,  55,\n",
       "       131, 119, 488, 394, 221, 168,  79, 446, 211, 249, 434, 325,  27,\n",
       "       299, 488, 386, 177, 442, 256,  97, 475,  22, 439, 139, 417, 189,\n",
       "       340, 256,  24,  37,  46, 299,  37, 359, 456, 378,  56, 212, 405,\n",
       "        94, 177, 181, 406, 438, 116, 459, 453, 312, 251, 392, 464, 293,\n",
       "       279, 245,  55, 411, 212,  83, 170, 285, 276, 204, 460, 228, 171,\n",
       "       433,  43, 353, 479,  42, 326, 174,  49, 315, 399, 117,  30, 231,\n",
       "       181, 462, 353, 138,  33, 107, 492, 453, 322, 195, 185, 319, 446,\n",
       "       220,  88,  51, 181, 370,  92, 403, 421, 274, 428, 186,  53, 285,\n",
       "       114,  82, 217, 148, 254, 165, 361, 478,  62, 422, 132,  65,  48,\n",
       "        93, 428, 242, 263, 366, 246, 287, 106, 125,  66, 464, 483, 328,\n",
       "       336, 112, 127, 420, 260,  47, 354, 140, 374,  26, 231, 251, 409,\n",
       "       308, 134, 441,  85, 106])"
      ]
     },
     "execution_count": 31,
     "metadata": {},
     "output_type": "execute_result"
    }
   ],
   "source": [
    "example_array = numpy.random.randint(20, 500, 200)\n",
    "example_array"
   ]
  },
  {
   "cell_type": "code",
   "execution_count": 32,
   "metadata": {},
   "outputs": [
    {
     "data": {
      "text/plain": [
       "array([False, False,  True,  True,  True,  True,  True,  True, False,\n",
       "        True, False,  True,  True,  True, False,  True,  True,  True,\n",
       "       False,  True,  True,  True, False, False,  True, False,  True,\n",
       "       False,  True, False,  True,  True,  True,  True,  True, False,\n",
       "        True,  True,  True,  True, False,  True,  True,  True,  True,\n",
       "        True, False, False, False,  True,  True, False, False, False,\n",
       "        True,  True,  True, False, False,  True,  True,  True,  True,\n",
       "        True, False,  True,  True,  True, False,  True,  True, False,\n",
       "        True, False,  True, False,  True, False,  True,  True, False,\n",
       "       False, False,  True, False,  True,  True,  True, False,  True,\n",
       "        True, False, False, False,  True,  True, False,  True,  True,\n",
       "        True,  True,  True,  True,  True,  True,  True, False,  True,\n",
       "        True, False, False,  True,  True,  True,  True,  True, False,\n",
       "        True, False,  True,  True, False,  True, False, False,  True,\n",
       "        True, False, False,  True, False,  True,  True, False, False,\n",
       "       False,  True,  True,  True, False, False,  True,  True,  True,\n",
       "       False, False, False,  True, False,  True,  True,  True,  True,\n",
       "       False, False,  True, False, False,  True, False,  True, False,\n",
       "        True,  True, False,  True, False, False, False, False,  True,\n",
       "        True,  True,  True,  True,  True, False, False, False,  True,\n",
       "        True,  True,  True, False, False,  True,  True, False,  True,\n",
       "       False,  True, False,  True,  True,  True,  True, False,  True,\n",
       "       False, False])"
      ]
     },
     "execution_count": 32,
     "metadata": {},
     "output_type": "execute_result"
    }
   ],
   "source": [
    "example_array > 200"
   ]
  },
  {
   "cell_type": "code",
   "execution_count": 33,
   "metadata": {},
   "outputs": [
    {
     "data": {
      "text/plain": [
       "array([258, 426, 411, 247, 391, 252, 390, 416, 320, 418, 331, 204, 424,\n",
       "       455, 255, 223, 301, 227, 205, 285, 272, 285, 313, 325, 499, 497,\n",
       "       216, 315, 256, 270, 442, 355, 305, 495, 231, 488, 394, 221, 446,\n",
       "       211, 249, 434, 325, 299, 488, 386, 442, 256, 475, 439, 417, 340,\n",
       "       256, 299, 359, 456, 378, 212, 405, 406, 438, 459, 453, 312, 251,\n",
       "       392, 464, 293, 279, 245, 411, 212, 285, 276, 204, 460, 228, 433,\n",
       "       353, 479, 326, 315, 399, 231, 462, 353, 492, 453, 322, 319, 446,\n",
       "       220, 370, 403, 421, 274, 428, 285, 217, 254, 361, 478, 422, 428,\n",
       "       242, 263, 366, 246, 287, 464, 483, 328, 336, 420, 260, 354, 374,\n",
       "       231, 251, 409, 308, 441])"
      ]
     },
     "execution_count": 33,
     "metadata": {},
     "output_type": "execute_result"
    }
   ],
   "source": [
    "example_array[example_array > 200]"
   ]
  },
  {
   "cell_type": "code",
   "execution_count": 34,
   "metadata": {},
   "outputs": [
    {
     "data": {
      "text/plain": [
       "array([ 28, 166, 258, 426, 252, 390, 198, 416, 320, 418, 146, 204, 424,\n",
       "       198,  78, 188, 272,  98, 216, 256, 270, 442, 168, 488, 394, 168,\n",
       "       446, 434, 488, 386, 442, 256,  22, 340, 256,  24,  46, 456, 378,\n",
       "        56, 212,  94, 406, 438, 116, 312, 392, 464, 212, 170, 276, 204,\n",
       "       460, 228,  42, 326, 174,  30, 462, 138, 492, 322, 446, 220,  88,\n",
       "       370,  92, 274, 428, 186, 114,  82, 148, 254, 478,  62, 422, 132,\n",
       "        48, 428, 242, 366, 246, 106,  66, 464, 328, 336, 112, 420, 260,\n",
       "       354, 140, 374,  26, 308, 134, 106])"
      ]
     },
     "execution_count": 34,
     "metadata": {},
     "output_type": "execute_result"
    }
   ],
   "source": [
    "example_array[example_array % 2 == 0]"
   ]
  },
  {
   "cell_type": "markdown",
   "metadata": {},
   "source": [
    "# atributes, methods and functions"
   ]
  },
  {
   "cell_type": "markdown",
   "metadata": {},
   "source": [
    "When you want to check for the available attributes, methods or functions you can press `<TAB>` after writing the module name or the object.\n",
    "\n",
    "`numpy.<TAB>`\n",
    "\n",
    "If you want to check the details of a function parameters you can press `<Shift + TAB>` when inside the function.\n",
    "\n",
    "`numpy.random.normal(<Shift + TAB>)`"
   ]
  },
  {
   "cell_type": "code",
   "execution_count": 35,
   "metadata": {},
   "outputs": [],
   "source": [
    "example_array = numpy.random.normal(20, 5, 1000)"
   ]
  },
  {
   "cell_type": "code",
   "execution_count": 36,
   "metadata": {},
   "outputs": [
    {
     "data": {
      "text/plain": [
       "<matplotlib.axes._subplots.AxesSubplot at 0x1a23b19910>"
      ]
     },
     "execution_count": 36,
     "metadata": {},
     "output_type": "execute_result"
    },
    {
     "data": {
      "image/png": "[encoded data removed]",
      "text/plain": [
       "<Figure size 432x288 with 1 Axes>"
      ]
     },
     "metadata": {
      "needs_background": "light"
     },
     "output_type": "display_data"
    }
   ],
   "source": [
    "seaborn.distplot(example_array)"
   ]
  },
  {
   "cell_type": "code",
   "execution_count": 37,
   "metadata": {},
   "outputs": [
    {
     "data": {
      "text/plain": [
       "array([[23.7796807 , 25.48356326, 15.02628083, 25.05541618],\n",
       "       [26.31488462, 19.96867778,  5.08683515, 15.79395951],\n",
       "       [ 7.03897495, 14.55004733, 15.15482401, 21.25425812],\n",
       "       [20.48469885, 19.19062083, 20.39565633, 28.20755616],\n",
       "       [13.11002832, 20.43235226, 16.38342929, 17.09957641],\n",
       "       [14.8320415 , 26.44232029, 21.30289389, 17.96543875],\n",
       "       [14.80395945, 19.49266211, 17.18095978, 19.83235815],\n",
       "       [19.25846906, 16.5863846 , 15.71333365, 17.21547238],\n",
       "       [20.93439874, 24.02394875,  6.4774089 , 15.26440609],\n",
       "       [16.77273546,  7.10311261, 17.092409  , 27.28212929],\n",
       "       [17.52474707, 17.29349827, 14.89100538, 19.82179131],\n",
       "       [21.60711213, 18.15531681, 20.63700563, 21.51429217],\n",
       "       [28.32972412, 18.44177617, 25.44039919, 11.32475488],\n",
       "       [14.7120028 , 20.28673589, 24.45077727, 15.65278405],\n",
       "       [25.99064042, 19.97535045, 20.50739476, 25.41342479],\n",
       "       [18.48256248, 10.70704137, 28.59025867, 21.94915635],\n",
       "       [26.14462973, 17.98406777, 17.00690919, 18.71691911],\n",
       "       [23.62646772, 22.3833055 , 23.30424046, 17.09477378],\n",
       "       [21.0008578 , 15.3643207 , 21.04566346, 17.3467864 ],\n",
       "       [ 6.53353926, 24.64521055, 20.9192244 , 29.09703086],\n",
       "       [22.69178121, 12.54404997, 14.3755365 , 26.65277224],\n",
       "       [10.50202905, 28.00347823, 23.55413513, 15.10289068],\n",
       "       [20.82738403, 19.80048415, 18.66049023, 30.63798473],\n",
       "       [27.7511543 , 22.27760072, 28.80825908, 16.78559814],\n",
       "       [28.66365607, 19.76797114, 30.00991737, 15.30482395],\n",
       "       [12.97277534, 15.08965655, 17.59827289, 13.4123727 ],\n",
       "       [28.58214148, 16.28938714, 12.59413546, 10.27062734],\n",
       "       [24.33240451, 21.60017139, 32.86799023, 29.20842766],\n",
       "       [15.34272779, 19.23776684, 22.3962718 , 24.02964529],\n",
       "       [25.46814354, 17.06856266, 11.53828278, 25.1891548 ],\n",
       "       [18.17796618, 21.91286463, 26.43494423, 15.85892517],\n",
       "       [20.05231182, 27.11476297, 17.78366538, 15.45512354],\n",
       "       [17.9436416 , 24.38552054, 23.22023971, 29.11837199],\n",
       "       [23.53936116, 24.47162132, 19.39617049, 20.71459642],\n",
       "       [20.92777013, 20.459585  , 27.0846323 , 19.53874114],\n",
       "       [12.32980983, 19.97581181, 24.17514158, 34.06827062],\n",
       "       [23.51169299, 14.96327443, 19.36822913, 23.14998964],\n",
       "       [13.55212386, 18.24174645, 18.6063464 , 24.58850278],\n",
       "       [16.49599845, 11.36177107, 20.50440882, 20.58239229],\n",
       "       [14.72249131, 20.08367123, 18.76018582, 11.43428457],\n",
       "       [19.79458346, 16.59983293, 22.29129104, 18.91684393],\n",
       "       [23.20447774, 14.76919887, 17.35978113,  8.92589139],\n",
       "       [28.70423591, 20.0720563 , 25.46494948, 17.4665639 ],\n",
       "       [21.07282257, 16.50764638, 25.39648578, 21.03449306],\n",
       "       [23.73749225, 18.44321446, 21.59007825, 13.37415503],\n",
       "       [17.82823721, 21.43420252, 26.69331316, 29.27737928],\n",
       "       [23.50073991, 19.83844763, 14.13056118, 17.630055  ],\n",
       "       [20.36153751, 13.52994334, 19.74222481, 22.3177721 ],\n",
       "       [13.83616308, 21.50323268, 21.18985259, 14.92695987],\n",
       "       [20.51970036, 23.84868855, 26.70715137, 10.09025786],\n",
       "       [25.77036148, 15.13382663, 23.98174852, 21.26753529],\n",
       "       [23.00968083, 29.38402998, 14.63555833, 22.5051085 ],\n",
       "       [17.05778958, 13.02359006, 20.44517952, 21.28151529],\n",
       "       [13.69291077, 17.80332886, 21.77073238, 19.83840928],\n",
       "       [15.85933275, 26.05013093, 19.05081579, 16.91544762],\n",
       "       [22.8335866 , 25.26222652, 19.54451385, 15.14291851],\n",
       "       [21.6811357 , 22.41228761, 16.45749117, 24.87861438],\n",
       "       [20.80547733, 24.87720394, 25.17402329, 23.88505674],\n",
       "       [24.12744739, 17.42940929, 12.90578659, 21.57965126],\n",
       "       [12.95459126, 16.50659042, 19.86530536, 20.20290884],\n",
       "       [20.08322403, 21.78782221, 20.73630725, 21.73719275],\n",
       "       [24.46471572, 18.79275909, 28.50716822, 20.61739612],\n",
       "       [17.88592377, 16.06292524, 19.83639154, 16.31341504],\n",
       "       [23.05425267, 24.08638607, 16.38848655, 23.19704231],\n",
       "       [26.94487341, 24.78529511, 18.81510163, 14.25808438],\n",
       "       [20.48519912, 18.66504773, 19.32967111, 29.00849071],\n",
       "       [19.71313346, 12.55235792, 20.61198355, 25.35029236],\n",
       "       [20.739813  , 24.86506138, 16.62602245, 21.61134961],\n",
       "       [22.1484015 , 15.86465564, 24.09759549, 14.46958039],\n",
       "       [21.48592609, 22.08177607, 17.52307579, 21.71108025],\n",
       "       [20.96312643, 27.81507453, 18.1335863 , 24.72863146],\n",
       "       [14.43182059, 27.1443792 , 24.62936816, 14.33339952],\n",
       "       [15.23071311, 24.92674741, 12.90033235, 22.57932554],\n",
       "       [22.39232756, 23.85793442, 23.18377558, 20.10282561],\n",
       "       [21.12910891, 18.50392411, 23.83724648, 28.27793394],\n",
       "       [20.87935632, 25.69218467, 20.37968572, 17.96225855],\n",
       "       [20.60724487, 27.18127191, 12.57500944, 15.6209884 ],\n",
       "       [27.31091714, 30.8491941 , 13.72165344, 17.49037412],\n",
       "       [23.39760896, 13.92800961, 15.36019339, 24.35641852],\n",
       "       [25.64504899, 16.1096657 , 18.26660046, 18.51150964],\n",
       "       [19.81209202, 19.66055715, 31.77350932, 23.45539655],\n",
       "       [24.37923704, 23.10091834, 22.51794638, 23.4070657 ],\n",
       "       [20.73589785, 26.09101216, 21.97331922, 20.23748046],\n",
       "       [25.13571804, 17.77721899, 18.49197087, 15.57082684],\n",
       "       [14.48314046, 11.63654378, 29.37302021, 23.83507771],\n",
       "       [21.79044833, 20.29864023, 12.10567598, 27.29896661],\n",
       "       [28.09244477, 21.25825107, 21.42905611, 22.01586836],\n",
       "       [20.74612853, 21.07264053, 13.46449022, 15.83536549],\n",
       "       [16.25403012, 15.79460439, 13.4537677 , 13.36495244],\n",
       "       [23.83277796, 16.75540653, 35.48060871, 18.57953706],\n",
       "       [19.17148362, 20.26630495, 22.24474635, 15.54982594],\n",
       "       [20.86730564, 26.43103796, 23.85337117, 21.53531881],\n",
       "       [25.62105623, 22.26166641, 26.24017544, 13.13763894],\n",
       "       [28.57458888, 21.09367039, 19.52698808, 16.95845624],\n",
       "       [11.96281485, 20.6248789 , 19.30098491, 17.24464422],\n",
       "       [20.31429483, 15.67929691, 15.68263762, 16.97653904],\n",
       "       [16.12126521, 24.58849214, 26.96061189, 17.47824742],\n",
       "       [21.1503448 , 23.89337541, 26.48216877, 20.93631237],\n",
       "       [22.59635201, 21.46464539, 12.68642583, 25.17304937],\n",
       "       [15.25351809, 27.3562837 , 29.22640825, 17.32413644],\n",
       "       [18.29803356, 19.97868816, 24.41814194, 14.55747636],\n",
       "       [13.62075235, 21.04202372, 19.99266369, 14.56115055],\n",
       "       [17.71131457, 20.75327231, 19.63360601, 19.1744525 ],\n",
       "       [20.88907178, 24.57839868, 16.04231645, 14.65558773],\n",
       "       [18.15897077, 17.81682749, 19.06293915, 14.50356588],\n",
       "       [22.05715195, 21.72141054, 19.71347358, 20.54177161],\n",
       "       [23.04822472, 17.27029645, 20.31844528, 28.98357639],\n",
       "       [15.0741211 , 14.43125393, 16.6025377 , 22.39408056],\n",
       "       [19.78034734, 16.73385111, 11.84497209, 16.01363708],\n",
       "       [20.5728167 , 25.18506679, 21.66118009, 20.53787268],\n",
       "       [ 4.36809608, 20.59124036, 21.30267777, 22.5970781 ],\n",
       "       [24.04531052, 16.30681271, 18.5765484 , 17.47346376],\n",
       "       [16.26783337, 20.9064052 , 25.47536219, 21.14752975],\n",
       "       [18.71269484, 25.15895525, 16.59791616, 15.58166973],\n",
       "       [23.69594999, 19.34945776, 19.20381991, 18.74683418],\n",
       "       [14.82815825, 31.85654937, 17.73142885, 23.34316501],\n",
       "       [11.58281462, 20.98006445, 20.63389121, 29.39912335],\n",
       "       [26.75789038, 21.17598577, 14.51249228, 21.4234041 ],\n",
       "       [25.94051608, 20.47276362, 15.14496644, 11.13445998],\n",
       "       [14.70108915, 15.64041185, 22.61338071, 20.29215625],\n",
       "       [26.30138579, 18.30943186, 25.96478527,  6.48725809],\n",
       "       [15.26891891, 23.2329351 , 24.69946323, 14.24840102],\n",
       "       [16.09279061, 12.06692508, 14.79245001, 19.63998626],\n",
       "       [22.4441441 , 21.09861012, 19.30944259, 18.84013058],\n",
       "       [ 8.35443157, 28.706394  , 16.80421239, 20.14678916],\n",
       "       [17.93414879, 14.17336688, 19.00017101, 20.02957644],\n",
       "       [17.66795376, 20.96571452, 17.89861883, 24.06859679],\n",
       "       [22.21376343, 21.92955807, 22.86490693, 16.26612284],\n",
       "       [21.26320707, 19.40502264, 14.59228137, 19.10381122],\n",
       "       [22.07235646, 23.27377783, 16.61926225, 20.4950809 ],\n",
       "       [23.18968734, 22.29426156, 18.82561176, 23.49595137],\n",
       "       [13.97678427, 17.83391165, 24.63319935, 13.93812438],\n",
       "       [15.87804839, 17.65241703, 23.67274542, 32.64141934],\n",
       "       [16.28250839, 25.15007404, 13.9557826 , 14.09056404],\n",
       "       [15.48665426,  9.54501326, 16.68553512, 19.24933427],\n",
       "       [24.34791891, 24.57866544, 11.85209266, 15.24339433],\n",
       "       [ 9.23929903, 20.27895541, 22.73599581, 20.12553433],\n",
       "       [18.0551983 , 20.35330229, 24.34162618, 20.34237423],\n",
       "       [11.77144541, 16.93868058, 21.34503163, 25.48715688],\n",
       "       [25.6625344 , 16.79704217, 24.09947256, 30.52145246],\n",
       "       [24.50141568,  8.74954516, 18.53560772, 15.08836341],\n",
       "       [21.31093104, 16.58356759, 26.30774241, 40.02292406],\n",
       "       [19.9529759 , 19.95836066, 22.14099915, 21.3548874 ],\n",
       "       [20.29146115, 21.14249898, 28.27280617, 14.28602569],\n",
       "       [18.11721723, 23.41301809, 14.66855546, 20.6289627 ],\n",
       "       [25.80120036, 23.80119728, 23.77447478, 21.47673253],\n",
       "       [17.11997037, 15.13318396, 23.06784479, 24.41537098],\n",
       "       [24.89076332, 13.36434247, 21.33650793, 12.41807854],\n",
       "       [17.05908194, 14.63219785,  9.88685513, 26.22140352],\n",
       "       [16.98786643, 20.92542337, 23.19605018, 21.33052377],\n",
       "       [21.39224995, 30.04397686, 22.77028028, 12.7405774 ],\n",
       "       [23.47396653, 23.10294526, 16.7094063 , 17.74390211],\n",
       "       [16.70486582, 14.85717421, 26.09230087, 21.69105551],\n",
       "       [20.28541473, 22.44793563, 24.35312314, 19.54016052],\n",
       "       [23.27207716, 27.09367441, 21.9962118 , 19.38820078],\n",
       "       [26.28726306, 25.34253564, 28.58067904, 21.7051177 ],\n",
       "       [20.83913923, 22.32202915, 18.75612612, 26.88903028],\n",
       "       [ 7.24494914, 16.67640114, 33.33177269, 11.4188128 ],\n",
       "       [20.82302414, 21.97994069, 24.69485001, 16.63948857],\n",
       "       [25.20019431, 20.90275889, 21.5423089 , 18.50271709],\n",
       "       [17.41631896, 19.17843277, 23.68188073, 17.64099315],\n",
       "       [10.28926344, 23.05834179, 20.76183901, 17.56448092],\n",
       "       [27.11307745, 29.8919002 , 15.79047252, 11.30118897],\n",
       "       [17.45531101, 12.12592309, 22.87029139, 17.784043  ],\n",
       "       [18.595511  , 20.14889388, 15.85769441, 15.74712381],\n",
       "       [26.68052476, 10.2108755 , 16.30229381, 21.19693104],\n",
       "       [15.64410774, 26.5330491 , 22.69717574, 17.06507152],\n",
       "       [19.67917641, 18.28888381, 22.35784525, 23.03998827],\n",
       "       [20.66919853, 15.90392093, 13.35104559, 19.27161283],\n",
       "       [20.08452537, 19.45263364, 25.83479378, 26.63305322],\n",
       "       [27.20108097, 24.86580549, 21.81927941, 19.87864225],\n",
       "       [16.05127429, 14.3550541 , 16.75547785, 27.12870636],\n",
       "       [19.72845416,  8.44379991, 24.64750417, 21.12199426],\n",
       "       [20.69470254, 20.49534539, 22.88280379, 12.97311902],\n",
       "       [14.74376111, 22.43931065, 24.06780749, 27.77345145],\n",
       "       [19.34029672, 30.39233419, 23.56599874, 26.93093481],\n",
       "       [22.09723648, 30.87635267, 27.13839603, 25.39377487],\n",
       "       [11.28934717, 19.28009769, 16.37523266, 33.13121994],\n",
       "       [25.95961352, 25.47584205, 25.16003507, 11.41947899],\n",
       "       [26.56258914, 16.95430561, 14.45674591, 21.78275682],\n",
       "       [20.58633034, 13.09380554, 30.83612038, 20.88303375],\n",
       "       [22.71642068, 19.4609023 , 22.25354977, 25.6085298 ],\n",
       "       [23.01091958, 14.09074157, 12.08133971, 21.77077789],\n",
       "       [26.5853746 , 24.71803307,  7.34226308, 14.57053609],\n",
       "       [10.18293981, 18.64496151, 20.1088624 , 16.1726369 ],\n",
       "       [14.4207932 , 22.59568719, 25.13038598, 21.04626772],\n",
       "       [35.27971602, 20.6216049 , 29.56833689, 16.77717722],\n",
       "       [26.90758795, 17.63427236, 22.93058809, 21.76978926],\n",
       "       [26.75886093, 21.92885426, 22.91419552, 26.60893941],\n",
       "       [19.49659498, 16.8160058 , 21.50895066, 20.75755594],\n",
       "       [24.53807715, 18.96202479, 22.70638161, 13.4198527 ],\n",
       "       [33.89504299, 20.26356526, 11.5819699 , 13.20235027],\n",
       "       [13.94046244, 19.96605016, 12.38471031, 14.49163905],\n",
       "       [25.19107341, 17.50250471, 23.50617933, 27.45286831],\n",
       "       [21.00275614, 20.80018099, 12.41602859, 12.59591435],\n",
       "       [20.45343926, 24.11663271, 30.06542724, 18.21927019],\n",
       "       [21.47860167, 19.83243011, 21.1598187 , 26.24661223],\n",
       "       [17.61539971, 19.90420501, 21.19807735, 13.59015761],\n",
       "       [22.80315841, 17.16339942, 25.18183876, 29.26600806],\n",
       "       [16.85324909, 18.28935227, 19.94950375, 24.12291761],\n",
       "       [18.25031463, 22.09622451, 21.07751846, 15.6938443 ],\n",
       "       [14.14967059, 24.09200461, 16.33895382, 17.81245726],\n",
       "       [14.48638445, 21.77758079, 25.28462077, 26.08489353],\n",
       "       [14.51945324, 31.06440754, 25.84487033, 20.25523863],\n",
       "       [23.52231914, 21.78450435, 25.1722885 , 19.32708249],\n",
       "       [22.97569792, 19.43270489,  7.47997794, 18.56119756],\n",
       "       [24.19909699, 25.17382871, 21.42532813, 23.69910136],\n",
       "       [14.82993448, 26.93910542, 14.31368675, 19.09155898],\n",
       "       [25.55394876, 21.33354385, 21.44306691, 30.30687369],\n",
       "       [27.5037239 , 27.01721148, 20.81485656, 26.83860748],\n",
       "       [27.37058022, 23.67429407, 25.31316321, 19.24914019],\n",
       "       [23.92423183, 23.93937983, 18.53945031, 19.05563626],\n",
       "       [17.13774219, 26.01644947, 12.15409973, 17.55494475],\n",
       "       [17.42549636, 23.70193016, 20.31555467, 17.73198414],\n",
       "       [25.77658833, 20.62582927, 23.29602467, 24.98048934],\n",
       "       [18.32130342, 20.50848554, 14.27020913, 12.04103105],\n",
       "       [14.51608068, 19.93811662, 17.81739913, 23.62630841],\n",
       "       [14.17280871, 19.48511956, 21.4259186 , 26.23455195],\n",
       "       [23.33251121, 16.75411921, 17.24737716, 21.77411122],\n",
       "       [12.54488617, 25.68048942, 21.13908946, 22.69855204],\n",
       "       [16.35452999, 17.92696032, 17.74891667, 19.39660577],\n",
       "       [15.58763597, 10.62434304, 20.30493463, 24.73993171],\n",
       "       [30.03955915, 21.23956069, 20.06691068, 18.98004465],\n",
       "       [22.8157651 , 19.46071788, 14.68500585, 10.6559824 ],\n",
       "       [18.78707035, 25.79554173, 19.54942426,  5.87506746],\n",
       "       [19.2499311 , 22.76265242, 18.56775481, 19.44554716],\n",
       "       [19.12414883, 14.82715733, 21.37114494, 11.15690158],\n",
       "       [20.30454205, 28.00402945, 15.10943561, 21.67239652],\n",
       "       [15.00004491, 33.74848967, 28.01627645, 25.5619548 ],\n",
       "       [22.80292721, 19.72663115, 17.65734592, 16.49296949],\n",
       "       [20.28830491, 22.19108971, 19.55078198, 18.63151772],\n",
       "       [20.30722842, 25.35475538, 21.24964074, 26.57535103],\n",
       "       [21.57279939, 11.53086574, 17.25015337, 19.91713515],\n",
       "       [19.03900928, 26.16047525, 16.7532217 , 17.78971782],\n",
       "       [23.17302866, 31.94155967, 16.3387856 , 25.53062241],\n",
       "       [10.20497306, 20.35395117, 21.82482273, 13.84886914],\n",
       "       [18.75276982, 13.94844241, 16.55201009, 29.13410159],\n",
       "       [15.04288987, 16.27241797, 19.25424427, 18.74882854],\n",
       "       [17.58371961, 21.72210186, 23.54409404, 19.08480115],\n",
       "       [24.64614928, 15.16315879, 23.11723572, 14.74297996],\n",
       "       [26.80372522, 15.11651219, 14.62701413, 18.81031092],\n",
       "       [24.2336156 , 21.85406876, 24.21012076, 11.32902407],\n",
       "       [17.22997696, 14.65047539, 18.66135333, 15.29966801],\n",
       "       [22.0154911 , 21.9445914 , 23.74532302, 22.30135418],\n",
       "       [25.78829224, 15.9249366 , 17.75947652, 19.39404526],\n",
       "       [25.41870621, 12.13536743, 30.92294343, 21.41497406],\n",
       "       [15.41840344, 17.33882843, 13.63710094, 20.81207165],\n",
       "       [10.01985311, 23.20825266, 21.65591071, 17.52517488],\n",
       "       [21.52391924, 22.1306981 , 23.66110943, 17.48003192],\n",
       "       [15.3580349 , 16.16774577, 24.88720026, 17.32396388]])"
      ]
     },
     "execution_count": 37,
     "metadata": {},
     "output_type": "execute_result"
    }
   ],
   "source": [
    "example_array = example_array.reshape(250, 4)\n",
    "example_array"
   ]
  },
  {
   "cell_type": "markdown",
   "metadata": {},
   "source": [
    "*some numpy array attributes*"
   ]
  },
  {
   "cell_type": "code",
   "execution_count": 38,
   "metadata": {},
   "outputs": [
    {
     "data": {
      "text/plain": [
       "1000"
      ]
     },
     "execution_count": 38,
     "metadata": {},
     "output_type": "execute_result"
    }
   ],
   "source": [
    "example_array.size"
   ]
  },
  {
   "cell_type": "code",
   "execution_count": 39,
   "metadata": {},
   "outputs": [
    {
     "data": {
      "text/plain": [
       "(250, 4)"
      ]
     },
     "execution_count": 39,
     "metadata": {},
     "output_type": "execute_result"
    }
   ],
   "source": [
    "example_array.shape"
   ]
  },
  {
   "cell_type": "code",
   "execution_count": 40,
   "metadata": {},
   "outputs": [
    {
     "data": {
      "text/plain": [
       "2"
      ]
     },
     "execution_count": 40,
     "metadata": {},
     "output_type": "execute_result"
    }
   ],
   "source": [
    "example_array.ndim"
   ]
  },
  {
   "cell_type": "markdown",
   "metadata": {},
   "source": [
    "*some numpy array methods*"
   ]
  },
  {
   "cell_type": "code",
   "execution_count": 41,
   "metadata": {},
   "outputs": [
    {
     "data": {
      "text/plain": [
       "20166.11585002624"
      ]
     },
     "execution_count": 41,
     "metadata": {},
     "output_type": "execute_result"
    }
   ],
   "source": [
    "example_array.sum()"
   ]
  },
  {
   "cell_type": "code",
   "execution_count": 42,
   "metadata": {},
   "outputs": [
    {
     "data": {
      "text/plain": [
       "4.368096083985309"
      ]
     },
     "execution_count": 42,
     "metadata": {},
     "output_type": "execute_result"
    }
   ],
   "source": [
    "example_array.min()"
   ]
  },
  {
   "cell_type": "code",
   "execution_count": 43,
   "metadata": {},
   "outputs": [
    {
     "data": {
      "text/plain": [
       "440"
      ]
     },
     "execution_count": 43,
     "metadata": {},
     "output_type": "execute_result"
    }
   ],
   "source": [
    "example_array.argmin()"
   ]
  },
  {
   "cell_type": "markdown",
   "metadata": {},
   "source": [
    "*some numpy functions*"
   ]
  },
  {
   "cell_type": "code",
   "execution_count": 44,
   "metadata": {},
   "outputs": [
    {
     "data": {
      "text/plain": [
       "20.166115850026237"
      ]
     },
     "execution_count": 44,
     "metadata": {},
     "output_type": "execute_result"
    }
   ],
   "source": [
    "numpy.mean(example_array)"
   ]
  },
  {
   "cell_type": "code",
   "execution_count": 45,
   "metadata": {},
   "outputs": [
    {
     "data": {
      "text/plain": [
       "4.368096083985309"
      ]
     },
     "execution_count": 45,
     "metadata": {},
     "output_type": "execute_result"
    }
   ],
   "source": [
    "numpy.min(example_array)"
   ]
  },
  {
   "cell_type": "code",
   "execution_count": 46,
   "metadata": {},
   "outputs": [
    {
     "data": {
      "text/plain": [
       "array([[15.02628083, 23.7796807 , 25.05541618, 25.48356326],\n",
       "       [ 5.08683515, 15.79395951, 19.96867778, 26.31488462],\n",
       "       [ 7.03897495, 14.55004733, 15.15482401, 21.25425812],\n",
       "       [19.19062083, 20.39565633, 20.48469885, 28.20755616],\n",
       "       [13.11002832, 16.38342929, 17.09957641, 20.43235226],\n",
       "       [14.8320415 , 17.96543875, 21.30289389, 26.44232029],\n",
       "       [14.80395945, 17.18095978, 19.49266211, 19.83235815],\n",
       "       [15.71333365, 16.5863846 , 17.21547238, 19.25846906],\n",
       "       [ 6.4774089 , 15.26440609, 20.93439874, 24.02394875],\n",
       "       [ 7.10311261, 16.77273546, 17.092409  , 27.28212929],\n",
       "       [14.89100538, 17.29349827, 17.52474707, 19.82179131],\n",
       "       [18.15531681, 20.63700563, 21.51429217, 21.60711213],\n",
       "       [11.32475488, 18.44177617, 25.44039919, 28.32972412],\n",
       "       [14.7120028 , 15.65278405, 20.28673589, 24.45077727],\n",
       "       [19.97535045, 20.50739476, 25.41342479, 25.99064042],\n",
       "       [10.70704137, 18.48256248, 21.94915635, 28.59025867],\n",
       "       [17.00690919, 17.98406777, 18.71691911, 26.14462973],\n",
       "       [17.09477378, 22.3833055 , 23.30424046, 23.62646772],\n",
       "       [15.3643207 , 17.3467864 , 21.0008578 , 21.04566346],\n",
       "       [ 6.53353926, 20.9192244 , 24.64521055, 29.09703086],\n",
       "       [12.54404997, 14.3755365 , 22.69178121, 26.65277224],\n",
       "       [10.50202905, 15.10289068, 23.55413513, 28.00347823],\n",
       "       [18.66049023, 19.80048415, 20.82738403, 30.63798473],\n",
       "       [16.78559814, 22.27760072, 27.7511543 , 28.80825908],\n",
       "       [15.30482395, 19.76797114, 28.66365607, 30.00991737],\n",
       "       [12.97277534, 13.4123727 , 15.08965655, 17.59827289],\n",
       "       [10.27062734, 12.59413546, 16.28938714, 28.58214148],\n",
       "       [21.60017139, 24.33240451, 29.20842766, 32.86799023],\n",
       "       [15.34272779, 19.23776684, 22.3962718 , 24.02964529],\n",
       "       [11.53828278, 17.06856266, 25.1891548 , 25.46814354],\n",
       "       [15.85892517, 18.17796618, 21.91286463, 26.43494423],\n",
       "       [15.45512354, 17.78366538, 20.05231182, 27.11476297],\n",
       "       [17.9436416 , 23.22023971, 24.38552054, 29.11837199],\n",
       "       [19.39617049, 20.71459642, 23.53936116, 24.47162132],\n",
       "       [19.53874114, 20.459585  , 20.92777013, 27.0846323 ],\n",
       "       [12.32980983, 19.97581181, 24.17514158, 34.06827062],\n",
       "       [14.96327443, 19.36822913, 23.14998964, 23.51169299],\n",
       "       [13.55212386, 18.24174645, 18.6063464 , 24.58850278],\n",
       "       [11.36177107, 16.49599845, 20.50440882, 20.58239229],\n",
       "       [11.43428457, 14.72249131, 18.76018582, 20.08367123],\n",
       "       [16.59983293, 18.91684393, 19.79458346, 22.29129104],\n",
       "       [ 8.92589139, 14.76919887, 17.35978113, 23.20447774],\n",
       "       [17.4665639 , 20.0720563 , 25.46494948, 28.70423591],\n",
       "       [16.50764638, 21.03449306, 21.07282257, 25.39648578],\n",
       "       [13.37415503, 18.44321446, 21.59007825, 23.73749225],\n",
       "       [17.82823721, 21.43420252, 26.69331316, 29.27737928],\n",
       "       [14.13056118, 17.630055  , 19.83844763, 23.50073991],\n",
       "       [13.52994334, 19.74222481, 20.36153751, 22.3177721 ],\n",
       "       [13.83616308, 14.92695987, 21.18985259, 21.50323268],\n",
       "       [10.09025786, 20.51970036, 23.84868855, 26.70715137],\n",
       "       [15.13382663, 21.26753529, 23.98174852, 25.77036148],\n",
       "       [14.63555833, 22.5051085 , 23.00968083, 29.38402998],\n",
       "       [13.02359006, 17.05778958, 20.44517952, 21.28151529],\n",
       "       [13.69291077, 17.80332886, 19.83840928, 21.77073238],\n",
       "       [15.85933275, 16.91544762, 19.05081579, 26.05013093],\n",
       "       [15.14291851, 19.54451385, 22.8335866 , 25.26222652],\n",
       "       [16.45749117, 21.6811357 , 22.41228761, 24.87861438],\n",
       "       [20.80547733, 23.88505674, 24.87720394, 25.17402329],\n",
       "       [12.90578659, 17.42940929, 21.57965126, 24.12744739],\n",
       "       [12.95459126, 16.50659042, 19.86530536, 20.20290884],\n",
       "       [20.08322403, 20.73630725, 21.73719275, 21.78782221],\n",
       "       [18.79275909, 20.61739612, 24.46471572, 28.50716822],\n",
       "       [16.06292524, 16.31341504, 17.88592377, 19.83639154],\n",
       "       [16.38848655, 23.05425267, 23.19704231, 24.08638607],\n",
       "       [14.25808438, 18.81510163, 24.78529511, 26.94487341],\n",
       "       [18.66504773, 19.32967111, 20.48519912, 29.00849071],\n",
       "       [12.55235792, 19.71313346, 20.61198355, 25.35029236],\n",
       "       [16.62602245, 20.739813  , 21.61134961, 24.86506138],\n",
       "       [14.46958039, 15.86465564, 22.1484015 , 24.09759549],\n",
       "       [17.52307579, 21.48592609, 21.71108025, 22.08177607],\n",
       "       [18.1335863 , 20.96312643, 24.72863146, 27.81507453],\n",
       "       [14.33339952, 14.43182059, 24.62936816, 27.1443792 ],\n",
       "       [12.90033235, 15.23071311, 22.57932554, 24.92674741],\n",
       "       [20.10282561, 22.39232756, 23.18377558, 23.85793442],\n",
       "       [18.50392411, 21.12910891, 23.83724648, 28.27793394],\n",
       "       [17.96225855, 20.37968572, 20.87935632, 25.69218467],\n",
       "       [12.57500944, 15.6209884 , 20.60724487, 27.18127191],\n",
       "       [13.72165344, 17.49037412, 27.31091714, 30.8491941 ],\n",
       "       [13.92800961, 15.36019339, 23.39760896, 24.35641852],\n",
       "       [16.1096657 , 18.26660046, 18.51150964, 25.64504899],\n",
       "       [19.66055715, 19.81209202, 23.45539655, 31.77350932],\n",
       "       [22.51794638, 23.10091834, 23.4070657 , 24.37923704],\n",
       "       [20.23748046, 20.73589785, 21.97331922, 26.09101216],\n",
       "       [15.57082684, 17.77721899, 18.49197087, 25.13571804],\n",
       "       [11.63654378, 14.48314046, 23.83507771, 29.37302021],\n",
       "       [12.10567598, 20.29864023, 21.79044833, 27.29896661],\n",
       "       [21.25825107, 21.42905611, 22.01586836, 28.09244477],\n",
       "       [13.46449022, 15.83536549, 20.74612853, 21.07264053],\n",
       "       [13.36495244, 13.4537677 , 15.79460439, 16.25403012],\n",
       "       [16.75540653, 18.57953706, 23.83277796, 35.48060871],\n",
       "       [15.54982594, 19.17148362, 20.26630495, 22.24474635],\n",
       "       [20.86730564, 21.53531881, 23.85337117, 26.43103796],\n",
       "       [13.13763894, 22.26166641, 25.62105623, 26.24017544],\n",
       "       [16.95845624, 19.52698808, 21.09367039, 28.57458888],\n",
       "       [11.96281485, 17.24464422, 19.30098491, 20.6248789 ],\n",
       "       [15.67929691, 15.68263762, 16.97653904, 20.31429483],\n",
       "       [16.12126521, 17.47824742, 24.58849214, 26.96061189],\n",
       "       [20.93631237, 21.1503448 , 23.89337541, 26.48216877],\n",
       "       [12.68642583, 21.46464539, 22.59635201, 25.17304937],\n",
       "       [15.25351809, 17.32413644, 27.3562837 , 29.22640825],\n",
       "       [14.55747636, 18.29803356, 19.97868816, 24.41814194],\n",
       "       [13.62075235, 14.56115055, 19.99266369, 21.04202372],\n",
       "       [17.71131457, 19.1744525 , 19.63360601, 20.75327231],\n",
       "       [14.65558773, 16.04231645, 20.88907178, 24.57839868],\n",
       "       [14.50356588, 17.81682749, 18.15897077, 19.06293915],\n",
       "       [19.71347358, 20.54177161, 21.72141054, 22.05715195],\n",
       "       [17.27029645, 20.31844528, 23.04822472, 28.98357639],\n",
       "       [14.43125393, 15.0741211 , 16.6025377 , 22.39408056],\n",
       "       [11.84497209, 16.01363708, 16.73385111, 19.78034734],\n",
       "       [20.53787268, 20.5728167 , 21.66118009, 25.18506679],\n",
       "       [ 4.36809608, 20.59124036, 21.30267777, 22.5970781 ],\n",
       "       [16.30681271, 17.47346376, 18.5765484 , 24.04531052],\n",
       "       [16.26783337, 20.9064052 , 21.14752975, 25.47536219],\n",
       "       [15.58166973, 16.59791616, 18.71269484, 25.15895525],\n",
       "       [18.74683418, 19.20381991, 19.34945776, 23.69594999],\n",
       "       [14.82815825, 17.73142885, 23.34316501, 31.85654937],\n",
       "       [11.58281462, 20.63389121, 20.98006445, 29.39912335],\n",
       "       [14.51249228, 21.17598577, 21.4234041 , 26.75789038],\n",
       "       [11.13445998, 15.14496644, 20.47276362, 25.94051608],\n",
       "       [14.70108915, 15.64041185, 20.29215625, 22.61338071],\n",
       "       [ 6.48725809, 18.30943186, 25.96478527, 26.30138579],\n",
       "       [14.24840102, 15.26891891, 23.2329351 , 24.69946323],\n",
       "       [12.06692508, 14.79245001, 16.09279061, 19.63998626],\n",
       "       [18.84013058, 19.30944259, 21.09861012, 22.4441441 ],\n",
       "       [ 8.35443157, 16.80421239, 20.14678916, 28.706394  ],\n",
       "       [14.17336688, 17.93414879, 19.00017101, 20.02957644],\n",
       "       [17.66795376, 17.89861883, 20.96571452, 24.06859679],\n",
       "       [16.26612284, 21.92955807, 22.21376343, 22.86490693],\n",
       "       [14.59228137, 19.10381122, 19.40502264, 21.26320707],\n",
       "       [16.61926225, 20.4950809 , 22.07235646, 23.27377783],\n",
       "       [18.82561176, 22.29426156, 23.18968734, 23.49595137],\n",
       "       [13.93812438, 13.97678427, 17.83391165, 24.63319935],\n",
       "       [15.87804839, 17.65241703, 23.67274542, 32.64141934],\n",
       "       [13.9557826 , 14.09056404, 16.28250839, 25.15007404],\n",
       "       [ 9.54501326, 15.48665426, 16.68553512, 19.24933427],\n",
       "       [11.85209266, 15.24339433, 24.34791891, 24.57866544],\n",
       "       [ 9.23929903, 20.12553433, 20.27895541, 22.73599581],\n",
       "       [18.0551983 , 20.34237423, 20.35330229, 24.34162618],\n",
       "       [11.77144541, 16.93868058, 21.34503163, 25.48715688],\n",
       "       [16.79704217, 24.09947256, 25.6625344 , 30.52145246],\n",
       "       [ 8.74954516, 15.08836341, 18.53560772, 24.50141568],\n",
       "       [16.58356759, 21.31093104, 26.30774241, 40.02292406],\n",
       "       [19.9529759 , 19.95836066, 21.3548874 , 22.14099915],\n",
       "       [14.28602569, 20.29146115, 21.14249898, 28.27280617],\n",
       "       [14.66855546, 18.11721723, 20.6289627 , 23.41301809],\n",
       "       [21.47673253, 23.77447478, 23.80119728, 25.80120036],\n",
       "       [15.13318396, 17.11997037, 23.06784479, 24.41537098],\n",
       "       [12.41807854, 13.36434247, 21.33650793, 24.89076332],\n",
       "       [ 9.88685513, 14.63219785, 17.05908194, 26.22140352],\n",
       "       [16.98786643, 20.92542337, 21.33052377, 23.19605018],\n",
       "       [12.7405774 , 21.39224995, 22.77028028, 30.04397686],\n",
       "       [16.7094063 , 17.74390211, 23.10294526, 23.47396653],\n",
       "       [14.85717421, 16.70486582, 21.69105551, 26.09230087],\n",
       "       [19.54016052, 20.28541473, 22.44793563, 24.35312314],\n",
       "       [19.38820078, 21.9962118 , 23.27207716, 27.09367441],\n",
       "       [21.7051177 , 25.34253564, 26.28726306, 28.58067904],\n",
       "       [18.75612612, 20.83913923, 22.32202915, 26.88903028],\n",
       "       [ 7.24494914, 11.4188128 , 16.67640114, 33.33177269],\n",
       "       [16.63948857, 20.82302414, 21.97994069, 24.69485001],\n",
       "       [18.50271709, 20.90275889, 21.5423089 , 25.20019431],\n",
       "       [17.41631896, 17.64099315, 19.17843277, 23.68188073],\n",
       "       [10.28926344, 17.56448092, 20.76183901, 23.05834179],\n",
       "       [11.30118897, 15.79047252, 27.11307745, 29.8919002 ],\n",
       "       [12.12592309, 17.45531101, 17.784043  , 22.87029139],\n",
       "       [15.74712381, 15.85769441, 18.595511  , 20.14889388],\n",
       "       [10.2108755 , 16.30229381, 21.19693104, 26.68052476],\n",
       "       [15.64410774, 17.06507152, 22.69717574, 26.5330491 ],\n",
       "       [18.28888381, 19.67917641, 22.35784525, 23.03998827],\n",
       "       [13.35104559, 15.90392093, 19.27161283, 20.66919853],\n",
       "       [19.45263364, 20.08452537, 25.83479378, 26.63305322],\n",
       "       [19.87864225, 21.81927941, 24.86580549, 27.20108097],\n",
       "       [14.3550541 , 16.05127429, 16.75547785, 27.12870636],\n",
       "       [ 8.44379991, 19.72845416, 21.12199426, 24.64750417],\n",
       "       [12.97311902, 20.49534539, 20.69470254, 22.88280379],\n",
       "       [14.74376111, 22.43931065, 24.06780749, 27.77345145],\n",
       "       [19.34029672, 23.56599874, 26.93093481, 30.39233419],\n",
       "       [22.09723648, 25.39377487, 27.13839603, 30.87635267],\n",
       "       [11.28934717, 16.37523266, 19.28009769, 33.13121994],\n",
       "       [11.41947899, 25.16003507, 25.47584205, 25.95961352],\n",
       "       [14.45674591, 16.95430561, 21.78275682, 26.56258914],\n",
       "       [13.09380554, 20.58633034, 20.88303375, 30.83612038],\n",
       "       [19.4609023 , 22.25354977, 22.71642068, 25.6085298 ],\n",
       "       [12.08133971, 14.09074157, 21.77077789, 23.01091958],\n",
       "       [ 7.34226308, 14.57053609, 24.71803307, 26.5853746 ],\n",
       "       [10.18293981, 16.1726369 , 18.64496151, 20.1088624 ],\n",
       "       [14.4207932 , 21.04626772, 22.59568719, 25.13038598],\n",
       "       [16.77717722, 20.6216049 , 29.56833689, 35.27971602],\n",
       "       [17.63427236, 21.76978926, 22.93058809, 26.90758795],\n",
       "       [21.92885426, 22.91419552, 26.60893941, 26.75886093],\n",
       "       [16.8160058 , 19.49659498, 20.75755594, 21.50895066],\n",
       "       [13.4198527 , 18.96202479, 22.70638161, 24.53807715],\n",
       "       [11.5819699 , 13.20235027, 20.26356526, 33.89504299],\n",
       "       [12.38471031, 13.94046244, 14.49163905, 19.96605016],\n",
       "       [17.50250471, 23.50617933, 25.19107341, 27.45286831],\n",
       "       [12.41602859, 12.59591435, 20.80018099, 21.00275614],\n",
       "       [18.21927019, 20.45343926, 24.11663271, 30.06542724],\n",
       "       [19.83243011, 21.1598187 , 21.47860167, 26.24661223],\n",
       "       [13.59015761, 17.61539971, 19.90420501, 21.19807735],\n",
       "       [17.16339942, 22.80315841, 25.18183876, 29.26600806],\n",
       "       [16.85324909, 18.28935227, 19.94950375, 24.12291761],\n",
       "       [15.6938443 , 18.25031463, 21.07751846, 22.09622451],\n",
       "       [14.14967059, 16.33895382, 17.81245726, 24.09200461],\n",
       "       [14.48638445, 21.77758079, 25.28462077, 26.08489353],\n",
       "       [14.51945324, 20.25523863, 25.84487033, 31.06440754],\n",
       "       [19.32708249, 21.78450435, 23.52231914, 25.1722885 ],\n",
       "       [ 7.47997794, 18.56119756, 19.43270489, 22.97569792],\n",
       "       [21.42532813, 23.69910136, 24.19909699, 25.17382871],\n",
       "       [14.31368675, 14.82993448, 19.09155898, 26.93910542],\n",
       "       [21.33354385, 21.44306691, 25.55394876, 30.30687369],\n",
       "       [20.81485656, 26.83860748, 27.01721148, 27.5037239 ],\n",
       "       [19.24914019, 23.67429407, 25.31316321, 27.37058022],\n",
       "       [18.53945031, 19.05563626, 23.92423183, 23.93937983],\n",
       "       [12.15409973, 17.13774219, 17.55494475, 26.01644947],\n",
       "       [17.42549636, 17.73198414, 20.31555467, 23.70193016],\n",
       "       [20.62582927, 23.29602467, 24.98048934, 25.77658833],\n",
       "       [12.04103105, 14.27020913, 18.32130342, 20.50848554],\n",
       "       [14.51608068, 17.81739913, 19.93811662, 23.62630841],\n",
       "       [14.17280871, 19.48511956, 21.4259186 , 26.23455195],\n",
       "       [16.75411921, 17.24737716, 21.77411122, 23.33251121],\n",
       "       [12.54488617, 21.13908946, 22.69855204, 25.68048942],\n",
       "       [16.35452999, 17.74891667, 17.92696032, 19.39660577],\n",
       "       [10.62434304, 15.58763597, 20.30493463, 24.73993171],\n",
       "       [18.98004465, 20.06691068, 21.23956069, 30.03955915],\n",
       "       [10.6559824 , 14.68500585, 19.46071788, 22.8157651 ],\n",
       "       [ 5.87506746, 18.78707035, 19.54942426, 25.79554173],\n",
       "       [18.56775481, 19.2499311 , 19.44554716, 22.76265242],\n",
       "       [11.15690158, 14.82715733, 19.12414883, 21.37114494],\n",
       "       [15.10943561, 20.30454205, 21.67239652, 28.00402945],\n",
       "       [15.00004491, 25.5619548 , 28.01627645, 33.74848967],\n",
       "       [16.49296949, 17.65734592, 19.72663115, 22.80292721],\n",
       "       [18.63151772, 19.55078198, 20.28830491, 22.19108971],\n",
       "       [20.30722842, 21.24964074, 25.35475538, 26.57535103],\n",
       "       [11.53086574, 17.25015337, 19.91713515, 21.57279939],\n",
       "       [16.7532217 , 17.78971782, 19.03900928, 26.16047525],\n",
       "       [16.3387856 , 23.17302866, 25.53062241, 31.94155967],\n",
       "       [10.20497306, 13.84886914, 20.35395117, 21.82482273],\n",
       "       [13.94844241, 16.55201009, 18.75276982, 29.13410159],\n",
       "       [15.04288987, 16.27241797, 18.74882854, 19.25424427],\n",
       "       [17.58371961, 19.08480115, 21.72210186, 23.54409404],\n",
       "       [14.74297996, 15.16315879, 23.11723572, 24.64614928],\n",
       "       [14.62701413, 15.11651219, 18.81031092, 26.80372522],\n",
       "       [11.32902407, 21.85406876, 24.21012076, 24.2336156 ],\n",
       "       [14.65047539, 15.29966801, 17.22997696, 18.66135333],\n",
       "       [21.9445914 , 22.0154911 , 22.30135418, 23.74532302],\n",
       "       [15.9249366 , 17.75947652, 19.39404526, 25.78829224],\n",
       "       [12.13536743, 21.41497406, 25.41870621, 30.92294343],\n",
       "       [13.63710094, 15.41840344, 17.33882843, 20.81207165],\n",
       "       [10.01985311, 17.52517488, 21.65591071, 23.20825266],\n",
       "       [17.48003192, 21.52391924, 22.1306981 , 23.66110943],\n",
       "       [15.3580349 , 16.16774577, 17.32396388, 24.88720026]])"
      ]
     },
     "execution_count": 46,
     "metadata": {},
     "output_type": "execute_result"
    }
   ],
   "source": [
    "numpy.sort(example_array)"
   ]
  },
  {
   "cell_type": "code",
   "execution_count": 47,
   "metadata": {},
   "outputs": [
    {
     "data": {
      "text/plain": [
       "array([[ 4.36809608,  7.10311261,  5.08683515,  5.87506746],\n",
       "       [ 6.53353926,  8.44379991,  6.4774089 ,  6.48725809],\n",
       "       [ 7.03897495,  8.74954516,  7.34226308,  8.92589139],\n",
       "       [ 7.24494914,  9.54501326,  7.47997794, 10.09025786],\n",
       "       [ 8.35443157, 10.2108755 ,  9.88685513, 10.27062734],\n",
       "       [ 9.23929903, 10.62434304, 11.53828278, 10.6559824 ],\n",
       "       [10.01985311, 10.70704137, 11.5819699 , 11.13445998],\n",
       "       [10.18293981, 11.36177107, 11.84497209, 11.15690158],\n",
       "       [10.20497306, 11.53086574, 11.85209266, 11.30118897],\n",
       "       [10.28926344, 11.63654378, 12.08133971, 11.32475488],\n",
       "       [10.50202905, 12.06692508, 12.10567598, 11.32902407],\n",
       "       [11.28934717, 12.12592309, 12.15409973, 11.4188128 ],\n",
       "       [11.58281462, 12.13536743, 12.38471031, 11.41947899],\n",
       "       [11.77144541, 12.54404997, 12.41602859, 11.43428457],\n",
       "       [11.96281485, 12.55235792, 12.57500944, 12.04103105],\n",
       "       [12.32980983, 13.02359006, 12.59413546, 12.41807854],\n",
       "       [12.54488617, 13.09380554, 12.68642583, 12.59591435],\n",
       "       [12.95459126, 13.36434247, 12.90033235, 12.7405774 ],\n",
       "       [12.97277534, 13.52994334, 12.90578659, 12.97311902],\n",
       "       [13.11002832, 13.92800961, 13.35104559, 13.13763894],\n",
       "       [13.55212386, 13.94844241, 13.4537677 , 13.20235027],\n",
       "       [13.62075235, 14.09074157, 13.46449022, 13.36495244],\n",
       "       [13.69291077, 14.17336688, 13.63710094, 13.37415503],\n",
       "       [13.83616308, 14.3550541 , 13.72165344, 13.4123727 ],\n",
       "       [13.94046244, 14.43125393, 13.9557826 , 13.4198527 ],\n",
       "       [13.97678427, 14.55004733, 14.13056118, 13.59015761],\n",
       "       [14.14967059, 14.63219785, 14.27020913, 13.84886914],\n",
       "       [14.17280871, 14.65047539, 14.31368675, 13.93812438],\n",
       "       [14.4207932 , 14.76919887, 14.3755365 , 14.09056404],\n",
       "       [14.43182059, 14.82715733, 14.45674591, 14.24840102],\n",
       "       [14.48314046, 14.85717421, 14.51249228, 14.25808438],\n",
       "       [14.48638445, 14.96327443, 14.59228137, 14.28602569],\n",
       "       [14.51608068, 15.08965655, 14.62701413, 14.33339952],\n",
       "       [14.51945324, 15.11651219, 14.63555833, 14.46958039],\n",
       "       [14.70108915, 15.13318396, 14.66855546, 14.49163905],\n",
       "       [14.7120028 , 15.13382663, 14.68500585, 14.50356588],\n",
       "       [14.72249131, 15.16315879, 14.79245001, 14.55747636],\n",
       "       [14.74376111, 15.3643207 , 14.89100538, 14.56115055],\n",
       "       [14.80395945, 15.64041185, 15.02628083, 14.57053609],\n",
       "       [14.82815825, 15.67929691, 15.10943561, 14.65558773],\n",
       "       [14.82993448, 15.79460439, 15.14496644, 14.74297996],\n",
       "       [14.8320415 , 15.86465564, 15.15482401, 14.92695987],\n",
       "       [15.00004491, 15.90392093, 15.36019339, 15.08836341],\n",
       "       [15.04288987, 15.9249366 , 15.68263762, 15.10289068],\n",
       "       [15.0741211 , 16.06292524, 15.71333365, 15.14291851],\n",
       "       [15.23071311, 16.1096657 , 15.79047252, 15.24339433],\n",
       "       [15.25351809, 16.16774577, 15.85769441, 15.26440609],\n",
       "       [15.26891891, 16.27241797, 16.04231645, 15.29966801],\n",
       "       [15.34272779, 16.28938714, 16.30229381, 15.30482395],\n",
       "       [15.3580349 , 16.30681271, 16.3387856 , 15.45512354],\n",
       "       [15.41840344, 16.50659042, 16.33895382, 15.54982594],\n",
       "       [15.48665426, 16.50764638, 16.37523266, 15.57082684],\n",
       "       [15.58763597, 16.58356759, 16.38342929, 15.58166973],\n",
       "       [15.64410774, 16.5863846 , 16.38848655, 15.6209884 ],\n",
       "       [15.85933275, 16.59983293, 16.45749117, 15.65278405],\n",
       "       [15.87804839, 16.67640114, 16.55201009, 15.6938443 ],\n",
       "       [16.05127429, 16.73385111, 16.59791616, 15.74712381],\n",
       "       [16.09279061, 16.75411921, 16.6025377 , 15.79395951],\n",
       "       [16.12126521, 16.75540653, 16.61926225, 15.83536549],\n",
       "       [16.25403012, 16.79704217, 16.62602245, 15.85892517],\n",
       "       [16.26783337, 16.8160058 , 16.68553512, 16.01363708],\n",
       "       [16.28250839, 16.93868058, 16.7094063 , 16.1726369 ],\n",
       "       [16.35452999, 16.95430561, 16.7532217 , 16.26612284],\n",
       "       [16.49599845, 17.06856266, 16.75547785, 16.31341504],\n",
       "       [16.70486582, 17.16339942, 16.80421239, 16.49296949],\n",
       "       [16.77273546, 17.27029645, 17.00690919, 16.63948857],\n",
       "       [16.85324909, 17.29349827, 17.092409  , 16.77717722],\n",
       "       [16.98786643, 17.33882843, 17.18095978, 16.78559814],\n",
       "       [17.05778958, 17.42940929, 17.24737716, 16.91544762],\n",
       "       [17.05908194, 17.50250471, 17.25015337, 16.95845624],\n",
       "       [17.11997037, 17.63427236, 17.35978113, 16.97653904],\n",
       "       [17.13774219, 17.65241703, 17.52307579, 17.06507152],\n",
       "       [17.22997696, 17.77721899, 17.59827289, 17.09477378],\n",
       "       [17.41631896, 17.80332886, 17.65734592, 17.09957641],\n",
       "       [17.42549636, 17.81682749, 17.73142885, 17.21547238],\n",
       "       [17.45531101, 17.83391165, 17.74891667, 17.24464422],\n",
       "       [17.52474707, 17.92696032, 17.75947652, 17.32396388],\n",
       "       [17.58371961, 17.98406777, 17.78366538, 17.32413644],\n",
       "       [17.61539971, 18.15531681, 17.81739913, 17.3467864 ],\n",
       "       [17.66795376, 18.24174645, 17.89861883, 17.4665639 ],\n",
       "       [17.71131457, 18.28888381, 18.1335863 , 17.47346376],\n",
       "       [17.82823721, 18.28935227, 18.26660046, 17.47824742],\n",
       "       [17.88592377, 18.30943186, 18.49197087, 17.48003192],\n",
       "       [17.93414879, 18.44177617, 18.53560772, 17.49037412],\n",
       "       [17.9436416 , 18.44321446, 18.53945031, 17.52517488],\n",
       "       [18.0551983 , 18.50392411, 18.56775481, 17.55494475],\n",
       "       [18.11721723, 18.64496151, 18.5765484 , 17.56448092],\n",
       "       [18.15897077, 18.66504773, 18.6063464 , 17.630055  ],\n",
       "       [18.17796618, 18.79275909, 18.66049023, 17.64099315],\n",
       "       [18.25031463, 18.96202479, 18.66135333, 17.73198414],\n",
       "       [18.29803356, 19.17843277, 18.75612612, 17.74390211],\n",
       "       [18.32130342, 19.19062083, 18.76018582, 17.784043  ],\n",
       "       [18.48256248, 19.23776684, 18.81510163, 17.78971782],\n",
       "       [18.595511  , 19.28009769, 18.82561176, 17.81245726],\n",
       "       [18.71269484, 19.34945776, 19.00017101, 17.96225855],\n",
       "       [18.75276982, 19.40502264, 19.05081579, 17.96543875],\n",
       "       [18.78707035, 19.43270489, 19.06293915, 18.21927019],\n",
       "       [19.03900928, 19.45263364, 19.20381991, 18.50271709],\n",
       "       [19.12414883, 19.46071788, 19.25424427, 18.51150964],\n",
       "       [19.17148362, 19.4609023 , 19.30098491, 18.56119756],\n",
       "       [19.2499311 , 19.48511956, 19.30944259, 18.57953706],\n",
       "       [19.25846906, 19.49266211, 19.32967111, 18.63151772],\n",
       "       [19.34029672, 19.66055715, 19.36822913, 18.71691911],\n",
       "       [19.49659498, 19.72663115, 19.39617049, 18.74683418],\n",
       "       [19.67917641, 19.76797114, 19.52698808, 18.74882854],\n",
       "       [19.71313346, 19.80048415, 19.54451385, 18.81031092],\n",
       "       [19.72845416, 19.83243011, 19.54942426, 18.84013058],\n",
       "       [19.78034734, 19.83844763, 19.55078198, 18.91684393],\n",
       "       [19.79458346, 19.90420501, 19.63360601, 18.98004465],\n",
       "       [19.81209202, 19.93811662, 19.71347358, 19.05563626],\n",
       "       [19.9529759 , 19.95836066, 19.74222481, 19.08480115],\n",
       "       [20.05231182, 19.96605016, 19.83639154, 19.09155898],\n",
       "       [20.08322403, 19.96867778, 19.86530536, 19.10381122],\n",
       "       [20.08452537, 19.97535045, 19.94950375, 19.1744525 ],\n",
       "       [20.28541473, 19.97581181, 19.99266369, 19.24914019],\n",
       "       [20.28830491, 19.97868816, 20.06691068, 19.24933427],\n",
       "       [20.29146115, 20.0720563 , 20.1088624 , 19.27161283],\n",
       "       [20.30454205, 20.08367123, 20.30493463, 19.32708249],\n",
       "       [20.30722842, 20.14889388, 20.31555467, 19.38820078],\n",
       "       [20.31429483, 20.26356526, 20.31844528, 19.39404526],\n",
       "       [20.36153751, 20.26630495, 20.37968572, 19.39660577],\n",
       "       [20.45343926, 20.27895541, 20.39565633, 19.44554716],\n",
       "       [20.48469885, 20.28673589, 20.44517952, 19.53874114],\n",
       "       [20.48519912, 20.29864023, 20.50440882, 19.54016052],\n",
       "       [20.51970036, 20.35330229, 20.50739476, 19.63998626],\n",
       "       [20.5728167 , 20.35395117, 20.61198355, 19.82179131],\n",
       "       [20.58633034, 20.43235226, 20.63389121, 19.83235815],\n",
       "       [20.60724487, 20.459585  , 20.63700563, 19.83840928],\n",
       "       [20.66919853, 20.47276362, 20.73630725, 19.87864225],\n",
       "       [20.69470254, 20.49534539, 20.76183901, 19.91713515],\n",
       "       [20.73589785, 20.50848554, 20.81485656, 20.02957644],\n",
       "       [20.739813  , 20.59124036, 20.9192244 , 20.10282561],\n",
       "       [20.74612853, 20.6216049 , 21.04566346, 20.12553433],\n",
       "       [20.80547733, 20.6248789 , 21.07751846, 20.14678916],\n",
       "       [20.82302414, 20.62582927, 21.13908946, 20.20290884],\n",
       "       [20.82738403, 20.75327231, 21.1598187 , 20.23748046],\n",
       "       [20.83913923, 20.80018099, 21.18985259, 20.25523863],\n",
       "       [20.86730564, 20.90275889, 21.19807735, 20.29215625],\n",
       "       [20.87935632, 20.9064052 , 21.24964074, 20.34237423],\n",
       "       [20.88907178, 20.92542337, 21.30267777, 20.4950809 ],\n",
       "       [20.92777013, 20.96571452, 21.30289389, 20.53787268],\n",
       "       [20.93439874, 20.98006445, 21.33650793, 20.54177161],\n",
       "       [20.96312643, 21.04202372, 21.34503163, 20.58239229],\n",
       "       [21.0008578 , 21.07264053, 21.37114494, 20.61739612],\n",
       "       [21.00275614, 21.09367039, 21.42532813, 20.6289627 ],\n",
       "       [21.07282257, 21.09861012, 21.4259186 , 20.71459642],\n",
       "       [21.12910891, 21.14249898, 21.42905611, 20.75755594],\n",
       "       [21.1503448 , 21.17598577, 21.44306691, 20.81207165],\n",
       "       [21.26320707, 21.23956069, 21.50895066, 20.88303375],\n",
       "       [21.31093104, 21.25825107, 21.5423089 , 20.93631237],\n",
       "       [21.39224995, 21.33354385, 21.59007825, 21.03449306],\n",
       "       [21.47860167, 21.43420252, 21.65591071, 21.04626772],\n",
       "       [21.48592609, 21.46464539, 21.66118009, 21.12199426],\n",
       "       [21.52391924, 21.50323268, 21.77073238, 21.14752975],\n",
       "       [21.57279939, 21.60017139, 21.81927941, 21.19693104],\n",
       "       [21.60711213, 21.72141054, 21.82482273, 21.25425812],\n",
       "       [21.6811357 , 21.72210186, 21.97331922, 21.26753529],\n",
       "       [21.79044833, 21.77758079, 21.9962118 , 21.28151529],\n",
       "       [22.0154911 , 21.78450435, 22.14099915, 21.33052377],\n",
       "       [22.05715195, 21.78782221, 22.24474635, 21.3548874 ],\n",
       "       [22.07235646, 21.85406876, 22.25354977, 21.41497406],\n",
       "       [22.09723648, 21.91286463, 22.29129104, 21.4234041 ],\n",
       "       [22.1484015 , 21.92885426, 22.35784525, 21.47673253],\n",
       "       [22.21376343, 21.92955807, 22.3962718 , 21.51429217],\n",
       "       [22.39232756, 21.9445914 , 22.51794638, 21.53531881],\n",
       "       [22.4441441 , 21.97994069, 22.61338071, 21.57965126],\n",
       "       [22.59635201, 22.08177607, 22.69717574, 21.61134961],\n",
       "       [22.69178121, 22.09622451, 22.70638161, 21.67239652],\n",
       "       [22.71642068, 22.1306981 , 22.73599581, 21.69105551],\n",
       "       [22.80292721, 22.19108971, 22.77028028, 21.7051177 ],\n",
       "       [22.80315841, 22.26166641, 22.86490693, 21.71108025],\n",
       "       [22.8157651 , 22.27760072, 22.87029139, 21.73719275],\n",
       "       [22.8335866 , 22.29426156, 22.88280379, 21.76978926],\n",
       "       [22.97569792, 22.32202915, 22.91419552, 21.77077789],\n",
       "       [23.00968083, 22.3833055 , 22.93058809, 21.77411122],\n",
       "       [23.01091958, 22.41228761, 23.06784479, 21.78275682],\n",
       "       [23.04822472, 22.43931065, 23.11723572, 21.94915635],\n",
       "       [23.05425267, 22.44793563, 23.18377558, 22.01586836],\n",
       "       [23.17302866, 22.59568719, 23.19605018, 22.30135418],\n",
       "       [23.18968734, 22.76265242, 23.22023971, 22.3177721 ],\n",
       "       [23.20447774, 23.05834179, 23.29602467, 22.39408056],\n",
       "       [23.27207716, 23.10091834, 23.30424046, 22.5051085 ],\n",
       "       [23.33251121, 23.10294526, 23.50617933, 22.57932554],\n",
       "       [23.39760896, 23.20825266, 23.54409404, 22.5970781 ],\n",
       "       [23.47396653, 23.2329351 , 23.55413513, 22.69855204],\n",
       "       [23.50073991, 23.27377783, 23.56599874, 23.03998827],\n",
       "       [23.51169299, 23.41301809, 23.66110943, 23.14998964],\n",
       "       [23.52231914, 23.67429407, 23.67274542, 23.19704231],\n",
       "       [23.53936116, 23.70193016, 23.68188073, 23.34316501],\n",
       "       [23.62646772, 23.80119728, 23.74532302, 23.4070657 ],\n",
       "       [23.69594999, 23.84868855, 23.77447478, 23.45539655],\n",
       "       [23.73749225, 23.85793442, 23.83724648, 23.49595137],\n",
       "       [23.7796807 , 23.89337541, 23.85337117, 23.62630841],\n",
       "       [23.83277796, 23.93937983, 23.98174852, 23.69910136],\n",
       "       [23.92423183, 24.02394875, 24.06780749, 23.83507771],\n",
       "       [24.04531052, 24.08638607, 24.09759549, 23.88505674],\n",
       "       [24.12744739, 24.09200461, 24.09947256, 24.02964529],\n",
       "       [24.19909699, 24.11663271, 24.17514158, 24.06859679],\n",
       "       [24.2336156 , 24.38552054, 24.21012076, 24.12291761],\n",
       "       [24.33240451, 24.47162132, 24.34162618, 24.35641852],\n",
       "       [24.34791891, 24.57839868, 24.35312314, 24.41537098],\n",
       "       [24.37923704, 24.57866544, 24.41814194, 24.58850278],\n",
       "       [24.46471572, 24.58849214, 24.45077727, 24.72863146],\n",
       "       [24.50141568, 24.64521055, 24.62936816, 24.73993171],\n",
       "       [24.53807715, 24.71803307, 24.63319935, 24.87861438],\n",
       "       [24.64614928, 24.78529511, 24.64750417, 24.98048934],\n",
       "       [24.89076332, 24.86506138, 24.69485001, 25.05541618],\n",
       "       [25.13571804, 24.86580549, 24.69946323, 25.17304937],\n",
       "       [25.19107341, 24.87720394, 24.88720026, 25.1891548 ],\n",
       "       [25.20019431, 24.92674741, 25.13038598, 25.35029236],\n",
       "       [25.41870621, 25.15007404, 25.16003507, 25.39377487],\n",
       "       [25.46814354, 25.15895525, 25.1722885 , 25.41342479],\n",
       "       [25.55394876, 25.17382871, 25.17402329, 25.48715688],\n",
       "       [25.62105623, 25.18506679, 25.18183876, 25.53062241],\n",
       "       [25.64504899, 25.26222652, 25.28462077, 25.5619548 ],\n",
       "       [25.6625344 , 25.34253564, 25.31316321, 25.6085298 ],\n",
       "       [25.77036148, 25.35475538, 25.39648578, 26.08489353],\n",
       "       [25.77658833, 25.47584205, 25.44039919, 26.22140352],\n",
       "       [25.78829224, 25.48356326, 25.46494948, 26.23455195],\n",
       "       [25.80120036, 25.68048942, 25.47536219, 26.24661223],\n",
       "       [25.94051608, 25.69218467, 25.83479378, 26.57535103],\n",
       "       [25.95961352, 25.79554173, 25.84487033, 26.60893941],\n",
       "       [25.99064042, 26.01644947, 25.96478527, 26.63305322],\n",
       "       [26.14462973, 26.05013093, 26.09230087, 26.65277224],\n",
       "       [26.28726306, 26.09101216, 26.24017544, 26.83860748],\n",
       "       [26.30138579, 26.16047525, 26.30774241, 26.88903028],\n",
       "       [26.31488462, 26.43103796, 26.43494423, 26.93093481],\n",
       "       [26.56258914, 26.44232029, 26.48216877, 27.12870636],\n",
       "       [26.5853746 , 26.5330491 , 26.69331316, 27.28212929],\n",
       "       [26.68052476, 26.93910542, 26.70715137, 27.29896661],\n",
       "       [26.75789038, 27.01721148, 26.96061189, 27.45286831],\n",
       "       [26.75886093, 27.09367441, 27.0846323 , 27.77345145],\n",
       "       [26.80372522, 27.11476297, 27.13839603, 28.20755616],\n",
       "       [26.90758795, 27.1443792 , 28.01627645, 28.27793394],\n",
       "       [26.94487341, 27.18127191, 28.27280617, 28.98357639],\n",
       "       [27.11307745, 27.3562837 , 28.50716822, 29.00849071],\n",
       "       [27.20108097, 27.81507453, 28.58067904, 29.09703086],\n",
       "       [27.31091714, 28.00347823, 28.59025867, 29.11837199],\n",
       "       [27.37058022, 28.00402945, 28.80825908, 29.13410159],\n",
       "       [27.5037239 , 28.706394  , 29.22640825, 29.20842766],\n",
       "       [27.7511543 , 29.38402998, 29.37302021, 29.26600806],\n",
       "       [28.09244477, 29.8919002 , 29.56833689, 29.27737928],\n",
       "       [28.32972412, 30.04397686, 30.00991737, 29.39912335],\n",
       "       [28.57458888, 30.39233419, 30.06542724, 30.30687369],\n",
       "       [28.58214148, 30.8491941 , 30.83612038, 30.52145246],\n",
       "       [28.66365607, 30.87635267, 30.92294343, 30.63798473],\n",
       "       [28.70423591, 31.06440754, 31.77350932, 32.64141934],\n",
       "       [30.03955915, 31.85654937, 32.86799023, 33.13121994],\n",
       "       [33.89504299, 31.94155967, 33.33177269, 34.06827062],\n",
       "       [35.27971602, 33.74848967, 35.48060871, 40.02292406]])"
      ]
     },
     "execution_count": 47,
     "metadata": {},
     "output_type": "execute_result"
    }
   ],
   "source": [
    "numpy.sort(example_array, axis = 0)"
   ]
  },
  {
   "cell_type": "code",
   "execution_count": 48,
   "metadata": {},
   "outputs": [
    {
     "data": {
      "text/plain": [
       "20166.11585002624"
      ]
     },
     "execution_count": 48,
     "metadata": {},
     "output_type": "execute_result"
    }
   ],
   "source": [
    "numpy.sum(example_array)"
   ]
  },
  {
   "cell_type": "markdown",
   "metadata": {},
   "source": [
    "*Sum of columns*"
   ]
  },
  {
   "cell_type": "code",
   "execution_count": 49,
   "metadata": {},
   "outputs": [
    {
     "data": {
      "text/plain": [
       "array([5011.09185061, 5084.29160337, 5086.45038402, 4984.28201204])"
      ]
     },
     "execution_count": 49,
     "metadata": {},
     "output_type": "execute_result"
    }
   ],
   "source": [
    "numpy.sum(example_array, axis = 0)"
   ]
  },
  {
   "cell_type": "markdown",
   "metadata": {},
   "source": [
    "*Sum of rows*"
   ]
  },
  {
   "cell_type": "code",
   "execution_count": 50,
   "metadata": {
    "scrolled": true
   },
   "outputs": [
    {
     "data": {
      "text/plain": [
       "array([ 89.34494097,  67.16435706,  57.99810441,  88.27853218,\n",
       "        67.02538628,  80.54269441,  71.30993949,  68.77365969,\n",
       "        66.70016248,  68.25038636,  69.53104203,  81.91372674,\n",
       "        83.53665436,  75.10230001,  91.88681042,  79.72901887,\n",
       "        79.85252579,  86.40878746,  74.75762836,  81.19500506,\n",
       "        76.26413992,  77.1625331 ,  89.92634314,  95.62261225,\n",
       "        93.74636853,  59.07307748,  67.73629141, 108.00899379,\n",
       "        81.00641171,  79.26414377,  82.38470021,  80.40586371,\n",
       "        94.66777384,  88.12174939,  88.01072857,  90.54903384,\n",
       "        80.99318618,  74.98871949,  68.94457064,  65.00063294,\n",
       "        77.60255136,  64.25934913,  91.7078056 ,  84.01144779,\n",
       "        77.14493999,  95.23313217,  75.09980372,  75.95147775,\n",
       "        71.45620821,  81.16579814,  86.15347192,  89.53437765,\n",
       "        71.80807446,  73.10538129,  77.87572709,  82.78324549,\n",
       "        85.42952886,  94.7417613 ,  76.04229453,  69.52939588,\n",
       "        84.34454625,  92.38203915,  70.0986556 ,  86.7261676 ,\n",
       "        84.80335454,  87.48840867,  78.2277673 ,  83.84224643,\n",
       "        76.58023301,  82.80185819,  91.64041873,  80.53896747,\n",
       "        75.63711841,  89.53686318,  91.74821344,  84.91348527,\n",
       "        75.98451462,  89.3721388 ,  77.04223048,  78.53282478,\n",
       "        94.70155505,  93.40516747,  89.03770971,  76.97573473,\n",
       "        79.32778217,  81.49373115,  92.7956203 ,  71.11862477,\n",
       "        58.86735464,  94.64833026,  77.23236086,  92.68703358,\n",
       "        87.26053701,  86.15370359,  69.13332288,  68.6527684 ,\n",
       "        85.14861664,  92.46220136,  81.92047259,  89.16034649,\n",
       "        77.25234003,  69.21659032,  77.2726454 ,  76.16537464,\n",
       "        69.5423033 ,  84.03380768,  89.62054285,  68.50199329,\n",
       "        64.37280762,  87.95693626,  68.85909232,  76.40213539,\n",
       "        83.79713051,  76.05123599,  80.99606184,  87.75930148,\n",
       "        82.59589363,  83.86977252,  72.69270612,  73.24703797,\n",
       "        77.06286101,  77.44971825,  62.59215196,  81.69232738,\n",
       "        74.01182713,  71.13726312,  80.6008839 ,  83.27435127,\n",
       "        74.3643223 ,  82.46047745,  87.80551203,  70.38201965,\n",
       "        89.84463018,  69.47892908,  60.96653692,  76.02207135,\n",
       "        72.37978457,  83.09250101,  75.54231451,  97.08050159,\n",
       "        66.87493197, 104.22516511,  83.40722312,  83.99279198,\n",
       "        76.82775349,  94.85360495,  79.7363701 ,  72.00969226,\n",
       "        67.79953844,  82.43986375,  86.94708449,  81.03022019,\n",
       "        79.34539641,  86.62663402,  91.75016416, 101.91559546,\n",
       "        88.80632479,  68.67193577,  84.13730341,  86.14797919,\n",
       "        77.9176256 ,  71.67392516,  84.09663913,  70.23556849,\n",
       "        70.3492231 ,  74.39062511,  81.9394041 ,  83.36589375,\n",
       "        69.19577788,  92.00500602,  93.76480812,  74.29051259,\n",
       "        73.94175251,  77.04597074,  89.0243307 , 100.22956445,\n",
       "       105.50576006,  80.07589746,  88.01496964,  79.75639748,\n",
       "        85.39929002,  90.03940254,  70.95377874,  73.21620684,\n",
       "        65.10940062,  83.19313408, 102.24683503,  89.24223765,\n",
       "        98.21085012,  78.57910738,  79.62633623,  78.94292841,\n",
       "        60.78286196,  93.65262576,  66.81488008,  92.8547694 ,\n",
       "        88.7174627 ,  72.30783968,  94.41440465,  79.21502272,\n",
       "        77.1179019 ,  72.39308629,  87.63347954,  91.68396973,\n",
       "        89.80619449,  68.4495783 ,  94.49735519,  75.17428563,\n",
       "        98.63743321, 102.17439942,  95.60717769,  85.45869822,\n",
       "        72.86323614,  79.17496533,  94.67893161,  65.14102913,\n",
       "        75.89790486,  81.31839883,  79.1081188 ,  82.06301709,\n",
       "        71.42701275,  71.25684535,  90.32607517,  67.61747123,\n",
       "        70.00710379,  80.0258855 ,  66.47935269,  85.09040364,\n",
       "       102.32676583,  76.67987376,  80.66169432,  93.48697557,\n",
       "        70.27095366,  79.74242405,  96.98399634,  66.23261609,\n",
       "        78.38732391,  69.31838065,  81.93471665,  77.66952375,\n",
       "        75.35756246,  81.62682918,  65.84147369,  90.00675971,\n",
       "        78.86675063,  89.89199114,  67.20640445,  72.40919136,\n",
       "        84.79575869,  73.73694481])"
      ]
     },
     "execution_count": 50,
     "metadata": {},
     "output_type": "execute_result"
    }
   ],
   "source": [
    "numpy.sum(example_array, axis = 1)"
   ]
  },
  {
   "cell_type": "code",
   "execution_count": 51,
   "metadata": {},
   "outputs": [
    {
     "data": {
      "text/plain": [
       "250"
      ]
     },
     "execution_count": 51,
     "metadata": {},
     "output_type": "execute_result"
    }
   ],
   "source": [
    "len(numpy.sum(example_array, axis = 1))"
   ]
  },
  {
   "cell_type": "markdown",
   "metadata": {},
   "source": [
    "# data types"
   ]
  },
  {
   "cell_type": "code",
   "execution_count": 52,
   "metadata": {},
   "outputs": [
    {
     "data": {
      "text/plain": [
       "[32, 'Manuel', ['BCP', 'Belcorp'], 0.25]"
      ]
     },
     "execution_count": 52,
     "metadata": {},
     "output_type": "execute_result"
    }
   ],
   "source": [
    "python_list = [32, \"Manuel\", [\"BCP\", \"Belcorp\"], 0.25]\n",
    "python_list"
   ]
  },
  {
   "cell_type": "code",
   "execution_count": 53,
   "metadata": {},
   "outputs": [
    {
     "data": {
      "text/plain": [
       "[int, str, list, float]"
      ]
     },
     "execution_count": 53,
     "metadata": {},
     "output_type": "execute_result"
    }
   ],
   "source": [
    "[type(value) for value in python_list]"
   ]
  },
  {
   "cell_type": "code",
   "execution_count": 54,
   "metadata": {},
   "outputs": [
    {
     "data": {
      "text/plain": [
       "array([32, 'Manuel', list(['BCP', 'Belcorp']), 0.25], dtype=object)"
      ]
     },
     "execution_count": 54,
     "metadata": {},
     "output_type": "execute_result"
    }
   ],
   "source": [
    "numpy_array = numpy.array(python_list)\n",
    "numpy_array"
   ]
  },
  {
   "cell_type": "code",
   "execution_count": 55,
   "metadata": {},
   "outputs": [
    {
     "data": {
      "text/plain": [
       "[int, str, list, float]"
      ]
     },
     "execution_count": 55,
     "metadata": {},
     "output_type": "execute_result"
    }
   ],
   "source": [
    "[type(value) for value in numpy_array]"
   ]
  },
  {
   "cell_type": "code",
   "execution_count": 56,
   "metadata": {},
   "outputs": [],
   "source": [
    "# numpy_array / 5"
   ]
  },
  {
   "cell_type": "markdown",
   "metadata": {},
   "source": [
    "The numpy array takes the most \"defensive\" data type and assigns it to all the values given, This could generate some unwanted behaviour."
   ]
  },
  {
   "cell_type": "markdown",
   "metadata": {},
   "source": [
    "# performance comparison"
   ]
  },
  {
   "cell_type": "markdown",
   "metadata": {},
   "source": [
    "What happens when we have really long lists?"
   ]
  },
  {
   "cell_type": "code",
   "execution_count": 57,
   "metadata": {},
   "outputs": [],
   "source": [
    "lista = list(range(100000000))\n",
    "numpy_array = numpy.array(lista)"
   ]
  },
  {
   "cell_type": "code",
   "execution_count": 58,
   "metadata": {},
   "outputs": [
    {
     "data": {
      "text/plain": [
       "(100000000, 100000000)"
      ]
     },
     "execution_count": 58,
     "metadata": {},
     "output_type": "execute_result"
    }
   ],
   "source": [
    "len(lista), len(numpy_array)"
   ]
  },
  {
   "cell_type": "markdown",
   "metadata": {},
   "source": [
    "*How much time does it take to calculate the sum*"
   ]
  },
  {
   "cell_type": "code",
   "execution_count": 59,
   "metadata": {},
   "outputs": [
    {
     "name": "stdout",
     "output_type": "stream",
     "text": [
      "3.65 s ± 52.5 ms per loop (mean ± std. dev. of 7 runs, 1 loop each)\n"
     ]
    }
   ],
   "source": [
    "def suma(lista):\n",
    "    suma = 0\n",
    "\n",
    "    for value in lista:\n",
    "        suma += value \n",
    "    \n",
    "    return suma\n",
    "\n",
    "%timeit suma(lista)"
   ]
  },
  {
   "cell_type": "code",
   "execution_count": 60,
   "metadata": {},
   "outputs": [
    {
     "name": "stdout",
     "output_type": "stream",
     "text": [
      "411 ms ± 9.08 ms per loop (mean ± std. dev. of 7 runs, 1 loop each)\n"
     ]
    }
   ],
   "source": [
    "%timeit sum(lista)"
   ]
  },
  {
   "cell_type": "code",
   "execution_count": 61,
   "metadata": {},
   "outputs": [
    {
     "name": "stdout",
     "output_type": "stream",
     "text": [
      "45.8 ms ± 750 µs per loop (mean ± std. dev. of 7 runs, 10 loops each)\n"
     ]
    }
   ],
   "source": [
    "%timeit numpy.sum(numpy_array)"
   ]
  },
  {
   "cell_type": "markdown",
   "metadata": {},
   "source": [
    "# performance comparison for different sizes of input"
   ]
  },
  {
   "cell_type": "markdown",
   "metadata": {},
   "source": [
    "*What happens with the execution times when the number of elements increases?*"
   ]
  },
  {
   "cell_type": "markdown",
   "metadata": {},
   "source": [
    "We're adding the elements of some lists, first we add a list of numbers from 1 to 10, then from 1 to 100 and so on until the numbers from 1 to 100 millions. We're going to evaluate how the execution times change for the sums."
   ]
  },
  {
   "cell_type": "code",
   "execution_count": 33,
   "metadata": {},
   "outputs": [],
   "source": [
    "inputs = [range(10**value) for value in range(1, 9)]"
   ]
  },
  {
   "cell_type": "code",
   "execution_count": 26,
   "metadata": {},
   "outputs": [
    {
     "name": "stdout",
     "output_type": "stream",
     "text": [
      "141 ns ± 0.558 ns per loop (mean ± std. dev. of 7 runs, 10000000 loops each)\n",
      "3.03 µs ± 13.4 ns per loop (mean ± std. dev. of 7 runs, 100000 loops each)\n",
      "708 ns ± 18.8 ns per loop (mean ± std. dev. of 7 runs, 1000000 loops each)\n",
      "3.26 µs ± 156 ns per loop (mean ± std. dev. of 7 runs, 100000 loops each)\n",
      "12.9 µs ± 558 ns per loop (mean ± std. dev. of 7 runs, 100000 loops each)\n",
      "3.9 µs ± 253 ns per loop (mean ± std. dev. of 7 runs, 100000 loops each)\n",
      "153 µs ± 7.02 µs per loop (mean ± std. dev. of 7 runs, 10000 loops each)\n",
      "7.48 µs ± 336 ns per loop (mean ± std. dev. of 7 runs, 100000 loops each)\n",
      "1.45 ms ± 27.6 µs per loop (mean ± std. dev. of 7 runs, 1000 loops each)\n",
      "42 µs ± 1.31 µs per loop (mean ± std. dev. of 7 runs, 10000 loops each)\n",
      "15 ms ± 593 µs per loop (mean ± std. dev. of 7 runs, 100 loops each)\n",
      "419 µs ± 6.95 µs per loop (mean ± std. dev. of 7 runs, 1000 loops each)\n",
      "142 ms ± 1.02 ms per loop (mean ± std. dev. of 7 runs, 10 loops each)\n",
      "4.66 ms ± 56.9 µs per loop (mean ± std. dev. of 7 runs, 100 loops each)\n",
      "1.55 s ± 112 ms per loop (mean ± std. dev. of 7 runs, 1 loop each)\n",
      "51.5 ms ± 773 µs per loop (mean ± std. dev. of 7 runs, 10 loops each)\n"
     ]
    }
   ],
   "source": [
    "lists_times =[]\n",
    "numpy_times = []\n",
    "\n",
    "for numbers in inputs:\n",
    "    \n",
    "    python_list = numbers\n",
    "    numpy_array = numpy.array(python_list)\n",
    "    \n",
    "    avg_list_sum = %timeit -o sum(python_list)\n",
    "    avg_numpy_sum = %timeit -o numpy.sum(numpy_array)\n",
    "    \n",
    "    lists_times.append(avg_list_sum.average)\n",
    "    numpy_times.append(avg_numpy_sum.average)"
   ]
  },
  {
   "cell_type": "code",
   "execution_count": 46,
   "metadata": {},
   "outputs": [
    {
     "data": {
      "image/png": "[encoded data removed]",
      "text/plain": [
       "<Figure size 720x360 with 1 Axes>"
      ]
     },
     "metadata": {
      "needs_background": "light"
     },
     "output_type": "display_data"
    }
   ],
   "source": [
    "number_elements = [len(value) for value in inputs]\n",
    "\n",
    "plt.figure(figsize = (10,5))\n",
    "\n",
    "seaborn.lineplot(x = number_elements, y = lists_times)\n",
    "seaborn.lineplot(x = number_elements, y = numpy_times)\n",
    "\n",
    "_ = plt.title(\"Execution time of sum for lists and numpy arrays\")\n",
    "_ = plt.xlabel(\"Number of records\")\n",
    "_ = plt.ylabel(\"Execution time\")"
   ]
  },
  {
   "cell_type": "markdown",
   "metadata": {},
   "source": [
    "The execution time for numpy arrays doesn't change that much when whe increase the number of records compared to the execution time of pythons lists."
   ]
  },
  {
   "cell_type": "markdown",
   "metadata": {},
   "source": [
    "<img src= \"https://i.redd.it/nklty63uzav41.png\">"
   ]
  },
  {
   "cell_type": "markdown",
   "metadata": {},
   "source": [
    "# be careful with copies"
   ]
  },
  {
   "cell_type": "markdown",
   "metadata": {},
   "source": [
    "*Case 1*"
   ]
  },
  {
   "cell_type": "code",
   "execution_count": 62,
   "metadata": {},
   "outputs": [
    {
     "data": {
      "text/plain": [
       "(array(1), array(1))"
      ]
     },
     "execution_count": 62,
     "metadata": {},
     "output_type": "execute_result"
    }
   ],
   "source": [
    "a = numpy.array(1)\n",
    "b = a\n",
    "\n",
    "a,b"
   ]
  },
  {
   "cell_type": "code",
   "execution_count": 63,
   "metadata": {},
   "outputs": [
    {
     "data": {
      "text/plain": [
       "(array(1), 2)"
      ]
     },
     "execution_count": 63,
     "metadata": {},
     "output_type": "execute_result"
    }
   ],
   "source": [
    "b = b + 1\n",
    "a, b"
   ]
  },
  {
   "cell_type": "markdown",
   "metadata": {},
   "source": [
    "*Case 2*"
   ]
  },
  {
   "cell_type": "code",
   "execution_count": 64,
   "metadata": {},
   "outputs": [],
   "source": [
    "a = numpy.array(1)\n",
    "b = a"
   ]
  },
  {
   "cell_type": "code",
   "execution_count": 65,
   "metadata": {},
   "outputs": [
    {
     "data": {
      "text/plain": [
       "(array(2), array(2))"
      ]
     },
     "execution_count": 65,
     "metadata": {},
     "output_type": "execute_result"
    }
   ],
   "source": [
    "b += 1\n",
    "a,b "
   ]
  },
  {
   "cell_type": "markdown",
   "metadata": {},
   "source": [
    "*Case 3*"
   ]
  },
  {
   "cell_type": "code",
   "execution_count": 66,
   "metadata": {},
   "outputs": [
    {
     "data": {
      "text/plain": [
       "(array(1), array(1))"
      ]
     },
     "execution_count": 66,
     "metadata": {},
     "output_type": "execute_result"
    }
   ],
   "source": [
    "a = numpy.array(1)\n",
    "b = a.copy()\n",
    "a, b"
   ]
  },
  {
   "cell_type": "code",
   "execution_count": 67,
   "metadata": {},
   "outputs": [
    {
     "data": {
      "text/plain": [
       "(array(1), array(2))"
      ]
     },
     "execution_count": 67,
     "metadata": {},
     "output_type": "execute_result"
    }
   ],
   "source": [
    "b +=1\n",
    "a, b"
   ]
  },
  {
   "cell_type": "markdown",
   "metadata": {},
   "source": [
    "<img src=\"https://i.redd.it/xz0rz5gw4lf21.png\">"
   ]
  },
  {
   "cell_type": "markdown",
   "metadata": {},
   "source": [
    "When making a copy of a numpy array it's better to be safe using the `.copy()` method"
   ]
  },
  {
   "cell_type": "markdown",
   "metadata": {},
   "source": [
    "# Contact"
   ]
  },
  {
   "cell_type": "markdown",
   "metadata": {},
   "source": [
    "Manuel Montoya \n",
    "* Mail: manuel.montoya@pucp.edu.pe\n",
    "* Linkedin: https://www.linkedin.com/in/manuel-montoya-gamio/"
   ]
  },
  {
   "cell_type": "markdown",
   "metadata": {},
   "source": [
    "Numpy pain: https://www.reddit.com/r/ProgrammerHumor/comments/aouyj1/when_you_program_python_for_a_year_and_realize/ "
   ]
  }
 ],
 "metadata": {
  "kernelspec": {
   "display_name": "Python 3",
   "language": "python",
   "name": "python3"
  },
  "language_info": {
   "codemirror_mode": {
    "name": "ipython",
    "version": 3
   },
   "file_extension": ".py",
   "mimetype": "text/x-python",
   "name": "python",
   "nbconvert_exporter": "python",
   "pygments_lexer": "ipython3",
   "version": "3.7.4"
  }
 },
 "nbformat": 4,
 "nbformat_minor": 2
}
